{
 "cells": [
  {
   "cell_type": "markdown",
   "metadata": {},
   "source": [
    "<img src='./figures/logo-ecole-polytechnique-ve.jpg' style='position:absolute; top:0; right:0;' width='100px' height='' alt='' />\n",
    "\n",
    "<center>**Bachelor of Ecole Polytechnique**</center>\n",
    "<center>Computational Mathematics, year 2, semester 1</center>\n",
    "<center>Lecturer: Lucas Gerin <a href=\"mailto:lucas.gerin@polytechnique.edu\">(send mail)</a></center>\n",
    "\n",
    "# Graphs and Matrices 2: Solving some Probabilistic Models\n"
   ]
  },
  {
   "cell_type": "markdown",
   "metadata": {},
   "source": [
    "## Table of contents\n",
    "\n",
    "- [Model 1: The Frog](#frog)\n",
    "- [Model 2: Opinion propagation among sheeps](#Sheeps)\n",
    "- [Model 3: OK Corral](#Corral)\n",
    "- [Bonus: The birthday paradox](#birthday)\n"
   ]
  },
  {
   "cell_type": "code",
   "execution_count": 1,
   "metadata": {},
   "outputs": [
    {
     "data": {
      "text/html": [
       "<link href='http://fonts.googleapis.com/css?family=Fenix' rel='stylesheet' type='text/css'>\n",
       "<link href='http://fonts.googleapis.com/css?family=Alegreya+Sans:100,300,400,500,700,800,900,100italic,300italic,400italic,500italic,700italic,800italic,900italic' rel='stylesheet' type='text/css'>\n",
       "<link href='http://fonts.googleapis.com/css?family=Source+Code+Pro:300,400' rel='stylesheet' type='text/css'>\n",
       "<link href=\"https://fonts.googleapis.com/css?family=Oswald|Raleway\" rel=\"stylesheet\" type='text/css'> \n",
       "<style>\n",
       ".prompt{\n",
       "    display: none !important;\n",
       "}\n",
       "\n",
       ".rendered_html pre {\n",
       "    border: 1px solid #f0f6f9 !important;\n",
       "}\n",
       "\n",
       ".rendered_html pre, .rendered_html code {\n",
       "    background-color: #d3d8db !important;\n",
       "    padding: 1% !important;\n",
       "    line-height: 200% !important;\n",
       "    border-radius: 10px !important;\n",
       "}\n",
       "\n",
       "div.input_area {\n",
       "    border-radius: 10px !important;\n",
       "    background-color: #e1e1e6 !important;\n",
       "}\n",
       "\n",
       "div.cell{\n",
       "        width:85% !important;\n",
       "        margin-left:5% !important;\n",
       "        /*margin-right:auto;*/\n",
       "    }\n",
       "    h1, h2, h3, h4, h5 {\n",
       "        font-family: 'Oswald', sans-serif; !important;\n",
       "        font-style: oblique !important;\n",
       "    }\n",
       "    div.text_cell_render{\n",
       "        font-family: 'Raleway', sans-serif; !important;\n",
       "        line-height: 135% !important;\n",
       "        font-size: 120% !important;\n",
       "        width:100%;/*600px;*/\n",
       "        /*margin-left:auto;*/\n",
       "        /*margin-right:auto;*/\n",
       "    }\n",
       "    .CodeMirror{\n",
       "            font-family: \"Source Code Pro\" !important;\n",
       "\t\t\tfont-size: 100% !important;\n",
       "    }\n",
       "    .text_cell_render p{\n",
       "        text-align: justify !important;\n",
       "    }\n",
       "    .text_cell_render h1 {\n",
       "        font-weight: 200 !important;\n",
       "\t\tline-height: 100% !important;\n",
       "        color:#47597A !important;\n",
       "        margin-bottom: 10.em !important;\n",
       "        margin-top: 50.em !important;\n",
       "        padding-bottom: 50.em !important;\n",
       "        padding-top: 50.em !important;\n",
       "        display: block !important;\n",
       "        font-size: 300% !important;\n",
       "        text-align: center !important;\n",
       "        border-bottom: 1px solid #47597A !important;\n",
       "        border-top: 1px solid #47597A !important;\n",
       "    }\n",
       "    .text_cell_render h2 {\n",
       "        font-weight: 200 !important;\n",
       "\tline-height: 100% !important;\n",
       "        color:#47597A !important;\n",
       "        margin-bottom: 0.5em !important;\n",
       "        margin-top: 0.5em !important;\n",
       "        display: block !important;\n",
       "        font-size: 200% !important;\n",
       "        border-bottom: 1px solid #47597A !important;\n",
       "    }\n",
       "    .text_cell_render h3 {\n",
       "        font-weight: 200 !important;\n",
       "\tline-height: 100% !important;\n",
       "        color:#47597A !important;\n",
       "        margin-bottom: 0.5em !important;\n",
       "        margin-top: 0.5em !important;\n",
       "        display: block !important;\n",
       "        font-size: 150% !important;\n",
       "    }\n",
       "    .text_cell_render h4 {\n",
       "        font-style: italic !important;\n",
       "        font-weight: bold !important;\n",
       "\tline-height: 100% !important;\n",
       "        color:#47597A !important;\n",
       "        display: block !important;\n",
       "        font-size: 100% !important;\n",
       "    }\n",
       "    .text_cell_render h5 {\n",
       "        font-weight: 200 !important;\n",
       "\tline-height: 100% !important;\n",
       "        color:#47597A !important;\n",
       "        margin-bottom: 0.5em !important;\n",
       "        margin-top: 0.5em !important;\n",
       "        display: block !important;\n",
       "        font-size: 100% !important;\n",
       "    }\n",
       "    .text_cell_render ul {\n",
       "\tlist-style-type: disc !important;\n",
       "\tline-height: 2;\n",
       "\t/*color:#47597A !important;*/\n",
       "    }\n",
       "    .warning{\n",
       "        color: rgb( 240, 20, 20 ) !important;\n",
       "        }\n",
       "    .Abstract {  \n",
       "\ttext-align: justify;\n",
       "\tbackground-color: #d6edf9;\n",
       "\tborder-left: 5px solid #47597A;\n",
       "\tpadding: 0.5em;\n",
       "\tmargin: 0  150px 0 150px;\n",
       "    }\n",
       "    .Def {    \n",
       "\tbackground-color: #d9f7d7;\n",
       "\tborder-left: 5px solid #4a7047;\n",
       "\tpadding: 0.5em;\n",
       "    }\n",
       "    .Def:before {\n",
       "\tcontent: \"Definition.\";\n",
       "\tcolor:#4a7047;\n",
       "\tfont-weight: bold;\n",
       "\tfont-style: normal;\n",
       "    }\n",
       "    .DoIt {    \n",
       "\tbackground-color: #e8cfc9;\n",
       "\tborder-left: 5px solid #a90e05;\n",
       "\tpadding: 0.5em;\n",
       "    }\n",
       "    .DoIt:before {\n",
       "\tcontent: \"Do it yourself.\";\n",
       "\tcolor:#a90e05;\n",
       "\tfont-weight: bold;\n",
       "\tfont-style: normal;\n",
       "    }\n",
       "    .Answers {    \n",
       "\tbackground-color: #DDA0DD;\n",
       "\tborder-left: 5px solid #9932CC;\n",
       "\tpadding: 0.5em;\n",
       "    }\n",
       "    .Answers:before {\n",
       "\tcontent: \"Answers.\";\n",
       "\tcolor:#682145;\n",
       "\tfont-weight: bold;\n",
       "\tfont-style: normal;\n",
       "    }\n",
       "    .Prop {    \n",
       "\tbackground-color:#f9ecd1;\n",
       "\tborder-left: 5px solid #ba7021;\n",
       "\tpadding: 0.5em;\n",
       "    }\n",
       "   .Prop:before {\n",
       "       content: \"Proposition.\";\n",
       "       color:#ba7021;\n",
       "       font-weight: bold;\n",
       "       font-style: normal;\n",
       "    }\n",
       "   .Thm {    \n",
       "\tbackground-color:#f9ecd1;\n",
       "\tborder-left: 5px solid #ba7021;\n",
       "\tpadding: 0.5em;\n",
       "    }\n",
       "   .Thm:before {\n",
       "       content: \"Theorem.\";\n",
       "       color:#ba7021;\n",
       "       font-weight: bold;\n",
       "       font-style: normal;\n",
       "    } \n",
       "   .Algo {    \n",
       "\tbackground-color:#f9ecd1;\n",
       "\tborder-left: 5px solid #ba7021;\n",
       "\tpadding: 0.5em;\n",
       "    }\n",
       "   .Algo:before {\n",
       "       content: \"Algorithm.\";\n",
       "       color:#ba7021;\n",
       "       font-weight: bold;\n",
       "       font-style: normal;\n",
       "    }\n",
       "    .Rmk {    \n",
       "\tbackground-color: #dbf1fc;\n",
       "\tborder-left: 5px solid #385487;\n",
       "\tpadding: 0.5em;\n",
       "    }\n",
       "    .Rmk:before {\n",
       "\tcontent: \"Remark.\";\n",
       "\tcolor:#385487;\n",
       "\tfont-weight: bold;\n",
       "\tfont-style: normal;\n",
       "    }\n",
       "    .Ex {    \n",
       "\tbackground-color: #dbf1fc;\n",
       "\tborder-left: 5px solid #385487;\n",
       "\tpadding: 0.5em;\n",
       "    }\n",
       "    .Ex:before {\n",
       "\tcontent: \"Example.\";\n",
       "\tcolor:#385487;\n",
       "\tfont-weight: bold;\n",
       "\tfont-style: normal;\n",
       "    }\n",
       "\n",
       "/*    .toc-item-num {\n",
       "#        display: none;\n",
       "#    }\n",
       "*/\n",
       "    .reveal section img{\n",
       "        margin: 0px auto;\n",
       "    }\n",
       "\n",
       "    div.output_area img{\n",
       "        display: block;\n",
       "        margin: 0px auto;\n",
       "    }\n",
       "  \n",
       "</style>\n",
       "\n",
       "<script>\n",
       "MathJax.Hub.Config({\n",
       "TeX: {extensions: [\"AMSmath.js\"] },\n",
       "                tex2jax: {\n",
       "                    inlineMath: [ ['$','$'], [\"\\\\(\",\"\\\\)\"] ],\n",
       "                    displayMath: [ ['$$','$$'], [\"\\\\[\",\"\\\\]\"] ]\n",
       "                },\n",
       "                displayAlign: 'center', // Change this to 'center' to center equations.\n",
       "                \"HTML-CSS\": {\n",
       "                    styles: {'.MathJax_Display': {\"margin\": 4}}\n",
       "                }\n",
       "        });\n",
       "\n",
       "\n",
       "\n",
       "</script>\n"
      ],
      "text/plain": [
       "<IPython.core.display.HTML object>"
      ]
     },
     "execution_count": 1,
     "metadata": {},
     "output_type": "execute_result"
    }
   ],
   "source": [
    "# execute this part to modify the css style\n",
    "from IPython.core.display import HTML\n",
    "def css_styling():\n",
    "    styles = open(\"./style/custom2.css\").read()\n",
    "    return HTML(styles)\n",
    "css_styling()\n"
   ]
  },
  {
   "cell_type": "code",
   "execution_count": 2,
   "metadata": {},
   "outputs": [],
   "source": [
    "## loading python libraries\n",
    "\n",
    "# necessary to display plots inline:\n",
    "%matplotlib inline   \n",
    "\n",
    "# load the libraries\n",
    "import matplotlib.pyplot as plt # 2D plotting library\n",
    "import numpy as np              # package for scientific computing  \n",
    "\n",
    "from math import *              # package for mathematics (pi, arctan, sqrt, factorial ...)\n",
    "import sympy as sympy             # package for symbolic computation\n",
    "from sympy import *\n"
   ]
  },
  {
   "cell_type": "markdown",
   "metadata": {},
   "source": [
    "<!--<div markdown=1 class=\"Rmk\"> Here is the Latex code of a matrix that you can copy/paste throughout the notebook:\n",
    "$$\n",
    "M=\n",
    "\\begin{matrix}\n",
    "v_1 \\\\ v_2 \\\\ v_3 \n",
    "\\end{matrix}\n",
    "\\begin{pmatrix}\n",
    "1 & 1 & 0\\\\\n",
    "0 & 0 & 1\\\\\n",
    "0 & 1 & 0\\\\\n",
    "\\end{pmatrix}.\n",
    "$$-->\n"
   ]
  },
  {
   "cell_type": "markdown",
   "metadata": {},
   "source": [
    "<a id=\"frog\"></a>\n",
    "## Model 1: The frog riddle <font size='-0.5'>(or how to become a trader?)</font>\n",
    "\n",
    "This is a maths puzzle which used to be asked in job interviews (to be hired as a quantitative analyst or trader).\n",
    "\n",
    "Here is the puzzle: a frog starts from the bank of a river located at $x=0$. The other bank is located at $x=10$. It first jumps uniformly at random in $\\{1,2,\\dots,10\\}$ (if it jumps at $10$ the frog has crossed the river and the process is over). Then, at each time step, if it is located at some $y<10$ then it jumps at a uniform location in $\\{y+1,\\dots,10\\}$.\n",
    "\n",
    "<img src=\"figures/Grenouille.jpg\" style=\"width: 700px;\"/>\n",
    "\n",
    "\n",
    "The questions we ask are\n",
    "* What is the probability distribution of the total number of steps  before reaching the bank?\n",
    "* What is the average number of steps before reaching bank?</i>\n"
   ]
  },
  {
   "cell_type": "markdown",
   "metadata": {},
   "source": [
    "<div markdown=1 class=\"DoIt\"> \n",
    "For $n\\geq 0$ let $X_n\\in\\{0,1,\\dots, 10\\}$ be the location of the frog at time $n$. Let also $T$ be the random variable given by the number of steps needed to reach the other bank. Namely,\n",
    "$$\n",
    "T=\\min \\{n\\geq 0\\text{ such that }X_n=10\\}. \n",
    "$$\n",
    "\n",
    "1. Write a script which computes the matrix $Q=(Q_{i,j})_{0\\leq i,j \\leq 10} $ associated to the Markov chain $(X_n)_n$. \n",
    "2. Write a function `DistributionFrog(i,n)` which computes the probability that the frog is at location `i` at time `n` (<i>i.e.</i>  $\\mathbb{P}(X_n=i)$).\n",
    "3. Write $\\mathbb{P}(T=t)$ as a function of $\\mathbb{P}(X_n=i)$ for some well chosen $n$'s and $i$'s.. Plot the distribution $t\\mapsto \\mathbb{P}(T=t)$. What is the more likely value for $T$?"
   ]
  },
  {
   "cell_type": "markdown",
   "metadata": {},
   "source": [
    "<div markdown=1 class=\"Answers\">\n",
    "\n",
    "1. Let $L=10$. Starting from a given $i$ the frog jumps at $i< j\\leq L$ with probability $1/(L-i)$. Therefore\n",
    "$$\n",
    "Q_{i,j}=\n",
    "\\begin{cases}\n",
    "\\frac{1}{L-i} & \\text{ for j>i},\\\\\n",
    "0 & \\text{ otherwise.}\n",
    "\\end{cases}\n",
    "$$\n",
    "\n",
    "2. By the course formula we have $\\mathbb{P}(X_n=i)=(Q^n)_{0,i}$.\n",
    "\n",
    "3. We have\n",
    "$$\n",
    "\\mathbb{P}(T=t)=\\mathbb{P}(X_t=10)-\\mathbb{P}(X_{t-1}=10).\n",
    "$$"
   ]
  },
  {
   "cell_type": "code",
   "execution_count": 5,
   "metadata": {},
   "outputs": [
    {
     "name": "stdout",
     "output_type": "stream",
     "text": [
      "[0.0, 0.0, 0.011111111111111112, 0.02361111111111111, 0.037896825396825394, 0.054563492063492064, 0.07456349206349207, 0.09956349206349208, 0.1328968253968254, 0.1828968253968254, 0.38289682539682535]\n"
     ]
    },
    {
     "data": {
      "image/png": "[encoded data removed]",
      "text/plain": [
       "<Figure size 432x288 with 1 Axes>"
      ]
     },
     "metadata": {
      "needs_background": "light"
     },
     "output_type": "display_data"
    }
   ],
   "source": [
    "# Question 1\n",
    "def MatrixFrog(L):\n",
    "    # L = length of the river (L=10 in the exercise)\n",
    "    # returns the transition matrix of the location of the frog\n",
    "    Matrix=np.zeros([L+1,L+1])\n",
    "    Matrix[L,L]=1 # absorbing state\n",
    "    for i in range(L):\n",
    "        for j in range(i+1,L+1):\n",
    "            Matrix[i,j]=1/(L-i)  \n",
    "    return Matrix\n",
    "\n",
    "#print(MatrixFrog(4))\n",
    "\n",
    "# Question 2\n",
    "def DistributionFrog(L,i,n):\n",
    "    # L = length of the river (L=10 in the exercise)\n",
    "    # 0 <= i <= L : location of the frog\n",
    "    # n : time step\n",
    "    Power_of_M=np.linalg.matrix_power(MatrixFrog(L),n)\n",
    "    return Power_of_M[0,i]\n",
    "    \n",
    "print([DistributionFrog(10,i,2) for i in range(11)])\n",
    "\n",
    "# Question 3\n",
    "\n",
    "def DistributionT(L,t):\n",
    "    if t==0:\n",
    "        return 0\n",
    "    return DistributionFrog(L,L,t)-DistributionFrog(L,L,t-1)\n",
    "\n",
    "plt.plot([DistributionT(10,t) for t in range(11)],'o-')\n",
    "plt.show()"
   ]
  },
  {
   "cell_type": "markdown",
   "metadata": {},
   "source": [
    "<div markdown=1 class=\"DoIt\"> \n",
    "\n",
    "Question 4. Write a script which computes an approximation of $\\mathbb{E}[T]$."
   ]
  },
  {
   "cell_type": "markdown",
   "metadata": {},
   "source": [
    "<div markdown=1 class=\"Answers\"> By definition of expectation\n",
    "$$\n",
    "\\mathbb{E}[T]=\\sum_{t=1}^{10}t\\mathbb{P}(T=t).\n",
    "$$\n",
    "According to the script below we have $\\mathbb{E}[T]\\approx 2.92897...$"
   ]
  },
  {
   "cell_type": "code",
   "execution_count": 8,
   "metadata": {},
   "outputs": [
    {
     "name": "stdout",
     "output_type": "stream",
     "text": [
      "The expectation is:\n",
      "2.928968253968253\n"
     ]
    }
   ],
   "source": [
    "\n",
    "\n",
    "Distrib=[DistributionT(10,t) for t in range(11)]\n",
    "print('The expectation is:')\n",
    "print(sum([i*Distrib[i] for i in range(11)]))\n"
   ]
  },
  {
   "cell_type": "markdown",
   "metadata": {},
   "source": [
    "<a id='Sheeps'></a>\n",
    "## Model 2. Opinion propagation among sheeps\n",
    "\n",
    "<img src=\"figures/SheepsMacWindows.jpg\" style=\"width: 450px;\"/>\n",
    "\n",
    "Let $N>1$ be fixed and consider a population of $N$ sheeps, either pro-Mac or pro-Windows.<br>\n",
    "\n",
    "Initially, $0\\leq m\\leq N$ sheeps are pro-Mac. At times $t= 0,1,2,...,$ a randomly and uniformly chosen sheep bleats its opinion and instantly one sheep of the other camp switches its opinion. The process ends when unanimity is reached.<br>\n",
    "\n",
    "We will ask:\n",
    "* what can we say about the number of pro-Mac sheeps at a given time?\n",
    "* what is the probability that unanimity is reached for pro-Mac?"
   ]
  },
  {
   "cell_type": "markdown",
   "metadata": {},
   "source": [
    "<div markdown=1 class=\"DoIt\"> \n",
    "\n",
    "1. Let $M_k\\in\\{0,1,\\dots,N\\}$ be the number of pro-Mac sheeps at time $k$. Find the transition matrix $Q=(Q_{i,j})_{0\\leq i,j \\leq N} $ associated to this Markov chain $(M_k)_k$.\n",
    "2. Using $Q$, write a function `ProbaSheeps(N,m,i,t)` which computes the probability that starting from $m$, there are exactly $i$ pro-Mac sheeps at time $t$.\n",
    "3. Draw a plot of $i\\mapsto $ `ProbaSheeps(N,m,i,t)` for $N=100, m=70, t=30$."
   ]
  },
  {
   "cell_type": "markdown",
   "metadata": {},
   "source": [
    "<div markdown=1 class=\"Answers\"> Question 1). Observe that $M_k=0$ and $M_k=N$ are absorbing states. If there are $0<i<N$ pro-Mac sheeps at a given time $k$, then \n",
    "\n",
    "* With prob. $i/N$ a pro-Mac sheep is chosen and $M_{k+1} \\hookrightarrow M_k+1$\n",
    "* With prob. $(N-i)/N$ a pro-Windows sheep is chosen and $M_{k+1} \\hookrightarrow M_k-1$\n",
    "\n",
    "Therefore we have\n",
    "$$\n",
    "Q= \\begin{matrix}\n",
    "0 \\\\ 1 \\\\ \\vdots \\\\ i \\\\ \\vdots  \\\\ N-1 \\\\ N\n",
    "\\end{matrix}\n",
    "\\begin{pmatrix}\n",
    "1 & 0   & 0 & 0   & 0  & 0 & 0\\\\\n",
    "(N-1)/N & 0 & 1/N & 0 & 0  & 0 & 0\\\\\n",
    " &  & \\ddots &  &   & & \\\\\n",
    "0 & 0 & (N-i)/N & 0 & i/N  & 0 & 0\\\\\n",
    " &  &  &  & \\ddots  &  & \\\\\n",
    "0 & 0 & 0 & 0 & 1/N & 0 & (N-1)/N\\\\\n",
    "0 & 0 & 0 & 0 & 0 & 0 & 1\n",
    "\\end{pmatrix}.\n",
    "$$\n",
    "Question 2) According to the formula that we saw in the course we have\n",
    "$$\n",
    "\\text{ProbaSheeps(N,m,i,t)}= \\left(Q^t \\right)_{m,i},\n",
    "$$\n",
    "where $Q$ is the above matrix."
   ]
  },
  {
   "cell_type": "code",
   "execution_count": 10,
   "metadata": {},
   "outputs": [
    {
     "data": {
      "image/png": "[encoded data removed]",
      "text/plain": [
       "<Figure size 432x288 with 1 Axes>"
      ]
     },
     "metadata": {
      "needs_background": "light"
     },
     "output_type": "display_data"
    }
   ],
   "source": [
    "\n",
    "def MatrixSheeps(N):\n",
    "    # returns the transition matrix of the pro-Mac sheeps\n",
    "    Matrix=np.zeros([N+1,N+1])\n",
    "    Matrix[N,N]=1 # absorbing state\n",
    "    Matrix[0,0]=1 # absorbing state\n",
    "    for k in range(1,N):\n",
    "        Matrix[k,k+1]=k/N  \n",
    "        Matrix[k,k-1]=(N-k)/N\n",
    "    return Matrix\n",
    "\n",
    "def ProbaSheeps(N,m,i,t):\n",
    "    # returns the probability that there are i pro-Max sheeps (among N) at time t\n",
    "    #         when the process starts with m pro-Mac sheeps\n",
    "    MatrixQ=MatrixSheeps(N)\n",
    "    Power=np.linalg.matrix_power(MatrixQ,t)\n",
    "    return Power[m,i]\n",
    "    \n",
    "N=100\n",
    "m=70\n",
    "t=30\n",
    "Probabilities=[ProbaSheeps(N,m,i,t) for i in range(N+1)]\n",
    "top=max(Probabilities)\n",
    "\n",
    "plt.plot(Probabilities,'o-')\n",
    "plt.plot([m,m],[0,top],'r--',label='initial m='+str(m)+' ')\n",
    "\n",
    "plt.title('Probability distribution at time t ='+str(t)+', with N= '+str(N)+' sheeps')\n",
    "plt.xlabel('Total number of sheeps'),plt.ylabel('Probability'),plt.legend()\n",
    "\n",
    "plt.legend()\n",
    "plt.show()\n",
    "\n",
    "#print(Probabilities[-1])\n"
   ]
  },
  {
   "cell_type": "markdown",
   "metadata": {},
   "source": [
    "As $0$ and $N$ are absorbing states the processus is eventually absorbed at $0$ or $N$: there is unanimity pro-Mac or pro-Windows among sheeps.\n",
    "\n",
    "For fixed $N$ let $p_{m}$ denote the probability that the unanimity is achieved for Mac, starting from $m$ pro-Mac and $N-m$ pro-Windows sheeps. "
   ]
  },
  {
   "cell_type": "markdown",
   "metadata": {},
   "source": [
    "<div markdown=1 class=\"DoIt\"> \n",
    "\n",
    "1. Assume that the Markov chain $(M_k)$ starts at $M_0=m$. Explain why \n",
    "$$\n",
    "p_m = \\lim_{k\\to +\\infty} \\mathbb{P}(M_k = N).\n",
    "$$<br>\n",
    "(Hint: If you want to write a rigourous proof you may use Proposition 1.3 in the Lecture Notes of MAA203 or <a href=\"https://en.wikipedia.org/wiki/Measure_(mathematics)#Continuity_from_below\">this link (Wikipedia)</a>.)\n",
    "2. Use your function `ProbaSheeps(N,m,i,t)` to plot $m\\mapsto p_{m}$ for $N=20$. (We consider that $k=N^2$ is large enough for the previous approximation to hold.)"
   ]
  },
  {
   "cell_type": "markdown",
   "metadata": {},
   "source": [
    "<div markdown=1 class=\"Answers\"> \n",
    "1. We have designed the Markov chain $(M_k)$ such that\n",
    "$$\n",
    "\\mathbb{P}(M_k = N)=\\mathbb{P}(\\text{ Unanimity reached for Mac before time }k).\n",
    "$$\n",
    "The sequence of events on the right-hand side in nondecreasing in the sense that\n",
    "$$\n",
    "\\bigg\\{\\text{ Unanimity reached for Mac before time }k\\bigg\\}\n",
    "\\subset \\bigg\\{\\text{ Unanimity reached for Mac before time }k+1\\bigg\\}\n",
    "$$\n",
    "Therefore if we use Proposition 1.3 in Giovanni's Lecture Notes of MAA203 (or <a href=\"https://en.wikipedia.org/wiki/Measure_(mathematics)#Continuity_from_below\">this link (Wikipedia)</a>) then we obtain\n",
    "\\begin{align*}\n",
    "\\lim_{k\\to +\\infty} \\mathbb{P}(M_k = N)&=\\mathbb{P}(\\cup_k \\text{ Unanimity reached for Mac before time }k)\\\\\n",
    "&=\\mathbb{P}(\\text{ Unanimity is eventually reached for Mac})\\\\\n",
    "&=p_m.\n",
    "\\end{align*}"
   ]
  },
  {
   "cell_type": "code",
   "execution_count": 17,
   "metadata": {},
   "outputs": [
    {
     "data": {
      "image/png": "[encoded data removed]",
      "text/plain": [
       "<Figure size 432x288 with 1 Axes>"
      ]
     },
     "metadata": {
      "needs_background": "light"
     },
     "output_type": "display_data"
    }
   ],
   "source": [
    "# Question 2\n",
    "\n",
    "N=20\n",
    "Probabilities_proMac=[ProbaSheeps(N,m,N,N**2) for m in range(N+1)]\n",
    "\n",
    "plt.plot(Probabilities_proMac,'o-')\n",
    "\n",
    "plt.xlabel('Initial number of pro-Mac'),plt.ylabel('Probability')\n",
    "plt.title('Probability that Mac wins')\n",
    "plt.xticks(range(0,22,2))\n",
    "plt.yticks(np.arange(0,1.1,0.25))\n",
    "\n",
    "plt.show()\n",
    "#print(Probabilities_proMac)"
   ]
  },
  {
   "cell_type": "markdown",
   "metadata": {},
   "source": [
    "<a id=\"Corral\"></a>\n",
    "\n",
    "## Model 3. OK Corral\n",
    "\n",
    "We consider the following probabilistic model. <i>(Its name refers to <a href='https://en.wikipedia.org/wiki/Gunfight_at_the_O.K._Corral'>this historical event</a>.)</i><br>\n",
    "\n",
    "Initially there is a  population of $N$ gangsters, $a$ of them belong to gang $A$ and $b=N-a$ belong to gang $B$. At times $t= 0,1,2,...,$ a randomly and uniformly chosen gangster (among survivors) kills a member of the other gang. The process ends when one of the gangs is wiped out.\n",
    "\n",
    "We want to find:\n",
    "* The probability that the gang $A$ wins (depending on $a,b$)\n",
    "* The expected number of survivors of gang $A$ at the end of the gunfight.\n",
    "\n"
   ]
  },
  {
   "cell_type": "markdown",
   "metadata": {},
   "source": [
    "<div markdown=1 class=\"DoIt\"> Let $p(i,j)$ be the probability that Gang $A$ wins the gunfight against gang $B$, starting from respectively $i,j$ gangsters. \n",
    "\n",
    "1. Find $p(i,j)$ when $i$ or $j$ equals $0$.\n",
    "2. For $i\\geq 1$ and $j\\geq 1$ write $p(i,j)$ as a function of $p(i,j-1)$ and $p(i-1,j)$.\n",
    "3. Write a function which computes $p(i,j)$ and draw a plot of $i\\mapsto p(i,b)$ for fixed $b=8$ and $1\\leq i\\leq 2b$. Is this consistent with intuition?"
   ]
  },
  {
   "cell_type": "markdown",
   "metadata": {},
   "source": [
    "<div markdown=1 class=\"Answers\"> \n",
    "\n",
    "1. Clearly we have the initial conditions\n",
    "$$\n",
    "p(i,0)=1,\\qquad p(0,j)=0.\n",
    "$$\n",
    "2. Starting from $i,j$ individuals we have that\n",
    "\\begin{align*}\n",
    "\\mathbb{P}(A\\text{ wins})=&\\mathbb{P}(A\\text{ wins}\\ |\\ \\text{First gangster belongs to }A)\\times \\mathbb{P}(\\text{First gangster belongs to }A)\\\\\n",
    "&+\\mathbb{P}(A\\text{ wins}\\ |\\ \\text{First gangster belongs to }B)\\times \\mathbb{P}(\\text{First gangster belongs to }B)\\\\\n",
    "=& p(i,j-1)\\frac{i}{i+j}+ p(i-1,j)\\frac{j}{i+j}.\n",
    "\\end{align*}\n",
    "\n"
   ]
  },
  {
   "cell_type": "code",
   "execution_count": 10,
   "metadata": {},
   "outputs": [
    {
     "data": {
      "image/png": "[encoded data removed]",
      "text/plain": [
       "<Figure size 432x288 with 1 Axes>"
      ]
     },
     "metadata": {
      "needs_background": "light"
     },
     "output_type": "display_data"
    }
   ],
   "source": [
    "def GangA_wins(a,b):\n",
    "    # return the probability that gang A wins starting from a,b individuals\n",
    "    if b==0:\n",
    "        return 1\n",
    "    elif a==0:\n",
    "        return 0\n",
    "    else:\n",
    "        return GangA_wins(a,b-1)*a/(a+b) + GangA_wins(a-1,b)*b/(a+b)\n",
    "\n",
    "N=8\n",
    "Results=[GangA_wins(n,N) for n in range(2*N)]\n",
    "plt.plot(Results,'o-')\n",
    "plt.show()\n"
   ]
  },
  {
   "cell_type": "markdown",
   "metadata": {},
   "source": [
    "<div markdown=1 class=\"DoIt\"> Let $e(i,j)$ be the expected numbers of survivors of Gang $A$ after the gunfight starting from respectively $i,j$ gangsters. \n",
    "\n",
    "1. State a recursive formula for the $e(i,j)$.\n",
    "2. Write a function which computes $e(i,j)$ and draw a plot of $i\\mapsto e(i,b)$ for fixed $b=8$ and $1\\leq a\\leq 20$."
   ]
  },
  {
   "cell_type": "markdown",
   "metadata": {},
   "source": [
    "<div markdown=1 class=\"Answers\"> \n",
    "Starting from $i,j$ individuals we have that\n",
    "\\begin{align*}\n",
    "e(i,j)=&\\mathbb{E}[\\text{ survivors}\\ |\\ \\text{First gangster belongs to }A]\\times \\mathbb{P}(\\text{First gangster belongs to }A)\\\\\n",
    "&+\\mathbb{E}[\\text{ survivors}\\ |\\ \\text{First gangster belongs to }B]\\times \\mathbb{P}(\\text{First gangster belongs to }B)\\\\\n",
    "=& e(i,j-1)\\frac{i}{i+j}+ e(i-1,j)\\frac{j}{i+j}.\n",
    "\\end{align*}\n",
    "\n",
    "Besides we have the initial conditions\n",
    "$$\n",
    "e(i,0)=i,\\qquad e(0,j)=0.\n",
    "$$"
   ]
  },
  {
   "cell_type": "code",
   "execution_count": 9,
   "metadata": {},
   "outputs": [
    {
     "data": {
      "image/png": "[encoded data removed]",
      "text/plain": [
       "<Figure size 432x288 with 1 Axes>"
      ]
     },
     "metadata": {
      "needs_background": "light"
     },
     "output_type": "display_data"
    }
   ],
   "source": [
    "def ExpectedSurvivorsA(a,b):\n",
    "    # return the number of survivals of gang A, starting from a,b individuals\n",
    "    if b==0:\n",
    "        return a\n",
    "    elif a==0:\n",
    "        return 0\n",
    "    else:\n",
    "        return ExpectedSurvivorsA(a,b-1)*a/(a+b) + ExpectedSurvivorsA(a-1,b)*b/(a+b)\n",
    "\n",
    "N=8\n",
    "b_max=20\n",
    "plt.plot([ExpectedSurvivorsA(i,N) for i in range(b_max)],'o-',label='i -> e_{i,8}')\n",
    "plt.plot([i for i in range(b_max)],'o-',label='i -> i')\n",
    "plt.legend()\n",
    "plt.show()\n"
   ]
  },
  {
   "cell_type": "markdown",
   "metadata": {},
   "source": [
    "<a id=\"birthday\"></a>\n",
    "## **Bonus** The birthday paradox\n",
    " \n",
    "We consider the following problem. Consider a group of $n\\geq 2$ people, we assume that their birthdays $X_1,\\dots,X_n$ are uniformly distributed and independent in $\\{1,2,\\dots,k\\}$, with $k=365$. The <i>birthday paradox</i> asks for the probability of the event\n",
    "\n",
    "$$\n",
    "E_{n,k} =\\{ \\text{ there exist }i\\neq j, 1\\leq i,j \\leq n; X_i=X_j\\}.\n",
    "$$\n",
    "\n",
    "Obviously we have that $\\mathbb{P}(E_{n,365})=1$ as soon as $n\\geq 365$. The so-called <i>paradox</i> is that a high probability is reached for quite small values of $n$."
   ]
  },
  {
   "cell_type": "markdown",
   "metadata": {},
   "source": [
    "<div markdown=1 class=\"DoIt\"> Let $F_{n,k}$ be the complementary event of $E_{n,k}$.\n",
    "\n",
    "1. Compute $\\mathbb{P}(F_{1,k})$ and $\\mathbb{P}(F_{2,k})$.\n",
    "2. Compute\n",
    "$$\n",
    "\\mathbb{P}(F_{n,k}|\\ F_{n-1,k}),\n",
    "$$\n",
    "and deduce the formulas for $\\mathbb{P}(F_{n,k}), \\mathbb{P}(E_{n,k})$."
   ]
  },
  {
   "cell_type": "markdown",
   "metadata": {},
   "source": [
    "<div markdown=1 class=\"Answers\"> \n",
    "1. We obviously have $\\mathbb{P}(F_{1,k})=1$.\n",
    "\n",
    "One writes\n",
    "\\begin{align*}\n",
    "\\mathbb{P}(F_{2,k})&=\\mathbb{P}(X_1\\neq X_2)\\\\\n",
    "&=\\sum_{i=1}^k \\mathbb{P}(X_1=i,X_1\\neq X_2)\\qquad \\text{(law of total probabilities)}\\\\\n",
    "&=\\sum_{i=1}^k \\mathbb{P}(X_1=i,X_2\\neq i)\\\\\n",
    "&=\\sum_{i=1}^k \\mathbb{P}(X_1=i)\\mathbb{P}(X_2\\neq i)\\qquad \\text{(independence)}\\\\\n",
    "&=\\sum_{i=1}^k \\frac{1}{k} \\frac{k-1}{k}=\\frac{k-1}{k}\\qquad \\text{(the sum does not depend on $i$)}.\n",
    "\\end{align*}\n",
    "Therefore $\\mathbb{P}(F_{2,k})=(k-1)/k$.\n",
    "\n",
    "2. If the event $F_{n-1,k}$ occurs then all the $X_i$'s are distinct up to $i=n-1$. Then $F_{n,k}$ occurs if and only if $X_n$ takes one of the $k-(n-1)$ remaining values:\n",
    "$$\n",
    "\\mathbb{P}(F_{n,k}|\\ F_{n-1,k})= \\frac{k-(n-1)}{k}.\n",
    "$$\n",
    "By induction we easily obtain that\n",
    "$$\n",
    "\\mathbb{P}(F_{n,k})=\\frac{k}{k}\\times \\frac{k-1}{k}\\times \\frac{k-2}{k} \\times \\dots \\times \\frac{k-(n-1)}{k}.\n",
    "$$\n",
    "and $\\mathbb{P}(E_{n,k})=1-\\mathbb{P}(F_{n,k})$."
   ]
  },
  {
   "cell_type": "markdown",
   "metadata": {},
   "source": [
    "<div markdown=1 class=\"DoIt\"> Write a function that takes $n,k$ as inputs and returns $\\mathbb{P}(E_{n,k})$."
   ]
  },
  {
   "cell_type": "code",
   "execution_count": 13,
   "metadata": {},
   "outputs": [
    {
     "name": "stdout",
     "output_type": "stream",
     "text": [
      "For n=8, two identical birthdays with probability 0.07433529235166902\n"
     ]
    }
   ],
   "source": [
    "def TwoIdenticalBirthdays(n,k):\n",
    "    # returns the probability P(E_{n,k})\n",
    "    Vector=np.arange(k-n+1,k+1) # computes [k-n+1,...,k]\n",
    "    Quotient=Vector/(k+0.0) # '+0.0' forces the float division\n",
    "    Product= np.prod(Quotient)\n",
    "    return 1-Product\n",
    "\n",
    "# Test : (for n=8,k=365 this should return 0.0743...)\n",
    "print('For n=8, two identical birthdays with probability '+str(TwoIdenticalBirthdays(8,365)))\n"
   ]
  },
  {
   "cell_type": "markdown",
   "metadata": {},
   "source": [
    "<div markdown=1 class=\"DoIt\"> \n",
    "\n",
    "1. Plot $n\\mapsto \\mathbb{P}(E_{n,365})$ for $n=2$ to $n=100$.\n",
    "2. Find the smallest $n$ such that $\\mathbb{P}(E_{n,365})\\geq 3/4$."
   ]
  },
  {
   "cell_type": "code",
   "execution_count": 14,
   "metadata": {},
   "outputs": [
    {
     "data": {
      "image/png": "[encoded data removed]",
      "text/plain": [
       "<Figure size 432x288 with 1 Axes>"
      ]
     },
     "metadata": {
      "needs_background": "light"
     },
     "output_type": "display_data"
    },
    {
     "name": "stdout",
     "output_type": "stream",
     "text": [
      "-----------------\n",
      "Question 2\n",
      "For n = 31, we have 0.7304546337286439 chance of 2 identical birthdays\n",
      "For n = 32, we have 0.7533475278503206 chance of 2 identical birthdays\n",
      "-----------------\n"
     ]
    }
   ],
   "source": [
    "# Question 1\n",
    "BirthdayParadox = [TwoIdenticalBirthdays(n,365) for n in range(2,100,3)]\n",
    "plt.plot(range(2,100,3),BirthdayParadox,'o')\n",
    "plt.xlabel('Size $n$ of the group'),plt.ylabel('Probability')\n",
    "plt.title('Probability in the birthday paradox')\n",
    "plt.show()\n",
    "\n",
    "# Question 2\n",
    "\n",
    "BirthdayParadox = [TwoIdenticalBirthdays(n,365) for n in range(1,365)]\n",
    "i=1\n",
    "while BirthdayParadox[i]<0.75:\n",
    "    i=i+1\n",
    "print('-----------------')\n",
    "print('Question 2')\n",
    "print('For n = '+str(i)+', we have '+str(TwoIdenticalBirthdays(i,365))+' chance of 2 identical birthdays')\n",
    "print('For n = '+str(i+1)+', we have '+str(TwoIdenticalBirthdays(i+1,365))+' chance of 2 identical birthdays')\n",
    "print('-----------------')\n"
   ]
  },
  {
   "cell_type": "markdown",
   "metadata": {},
   "source": [
    "<div markdown=1 class=\"Answers\"> \n",
    "2) According to the above script, there are more than $75$% chances as soon as $n\\geq 32$."
   ]
  }
 ],
 "metadata": {
  "kernelspec": {
   "display_name": "Python 3 (ipykernel)",
   "language": "python",
   "name": "python3"
  },
  "language_info": {
   "codemirror_mode": {
    "name": "ipython",
    "version": 3
   },
   "file_extension": ".py",
   "mimetype": "text/x-python",
   "name": "python",
   "nbconvert_exporter": "python",
   "pygments_lexer": "ipython3",
   "version": "3.9.7"
  }
 },
 "nbformat": 4,
 "nbformat_minor": 4
}
