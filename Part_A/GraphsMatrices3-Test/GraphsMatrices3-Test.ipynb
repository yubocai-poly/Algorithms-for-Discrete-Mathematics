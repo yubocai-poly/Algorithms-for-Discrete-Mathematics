{
 "cells": [
  {
   "cell_type": "markdown",
   "metadata": {},
   "source": [
    "<img src='./figures/logo-ecole-polytechnique-ve.jpg' style='position:absolute; top:0; right:0;' width='100px' height='' alt='' />\n",
    "\n",
    "<center>**Bachelor of Ecole Polytechnique**</center>\n",
    "<center>Computational Mathematics, year 2, semester 1</center>\n",
    "<center>Lecturer: Lucas Gerin <a href=\"mailto:lucas.gerin@polytechnique.edu\">(send mail)</a></center>\n",
    "\n",
    "# Graphs and Matrices 3: Test\n",
    "\n",
    "## Table of contents\n",
    "\n",
    "- [Exercise 1: A random walk](#RW)\n",
    "- [Exercise 2: Letters $a$ come by three](#isolated)\n",
    "- [Exercise 3: A coin game](#frog)\n",
    "- [Exercise 4: Balls in bins](#color)\n",
    "\n"
   ]
  },
  {
   "cell_type": "code",
   "execution_count": 1,
   "metadata": {},
   "outputs": [
    {
     "ename": "FileNotFoundError",
     "evalue": "[Errno 2] No such file or directory: './style/custom2.css'",
     "output_type": "error",
     "traceback": [
      "\u001b[0;31m---------------------------------------------------------------------------\u001b[0m",
      "\u001b[0;31mFileNotFoundError\u001b[0m                         Traceback (most recent call last)",
      "\u001b[0;32m/var/folders/rf/3_96g3x522q394xqlyg__5l00000gn/T/ipykernel_13478/490722557.py\u001b[0m in \u001b[0;36m<cell line: 6>\u001b[0;34m()\u001b[0m\n\u001b[1;32m      4\u001b[0m     \u001b[0mstyles\u001b[0m \u001b[0;34m=\u001b[0m \u001b[0mopen\u001b[0m\u001b[0;34m(\u001b[0m\u001b[0;34m\"./style/custom2.css\"\u001b[0m\u001b[0;34m)\u001b[0m\u001b[0;34m.\u001b[0m\u001b[0mread\u001b[0m\u001b[0;34m(\u001b[0m\u001b[0;34m)\u001b[0m\u001b[0;34m\u001b[0m\u001b[0;34m\u001b[0m\u001b[0m\n\u001b[1;32m      5\u001b[0m     \u001b[0;32mreturn\u001b[0m \u001b[0mHTML\u001b[0m\u001b[0;34m(\u001b[0m\u001b[0mstyles\u001b[0m\u001b[0;34m)\u001b[0m\u001b[0;34m\u001b[0m\u001b[0;34m\u001b[0m\u001b[0m\n\u001b[0;32m----> 6\u001b[0;31m \u001b[0mcss_styling\u001b[0m\u001b[0;34m(\u001b[0m\u001b[0;34m)\u001b[0m\u001b[0;34m\u001b[0m\u001b[0;34m\u001b[0m\u001b[0m\n\u001b[0m",
      "\u001b[0;32m/var/folders/rf/3_96g3x522q394xqlyg__5l00000gn/T/ipykernel_13478/490722557.py\u001b[0m in \u001b[0;36mcss_styling\u001b[0;34m()\u001b[0m\n\u001b[1;32m      2\u001b[0m \u001b[0;32mfrom\u001b[0m \u001b[0mIPython\u001b[0m\u001b[0;34m.\u001b[0m\u001b[0mcore\u001b[0m\u001b[0;34m.\u001b[0m\u001b[0mdisplay\u001b[0m \u001b[0;32mimport\u001b[0m \u001b[0mHTML\u001b[0m\u001b[0;34m\u001b[0m\u001b[0;34m\u001b[0m\u001b[0m\n\u001b[1;32m      3\u001b[0m \u001b[0;32mdef\u001b[0m \u001b[0mcss_styling\u001b[0m\u001b[0;34m(\u001b[0m\u001b[0;34m)\u001b[0m\u001b[0;34m:\u001b[0m\u001b[0;34m\u001b[0m\u001b[0;34m\u001b[0m\u001b[0m\n\u001b[0;32m----> 4\u001b[0;31m     \u001b[0mstyles\u001b[0m \u001b[0;34m=\u001b[0m \u001b[0mopen\u001b[0m\u001b[0;34m(\u001b[0m\u001b[0;34m\"./style/custom2.css\"\u001b[0m\u001b[0;34m)\u001b[0m\u001b[0;34m.\u001b[0m\u001b[0mread\u001b[0m\u001b[0;34m(\u001b[0m\u001b[0;34m)\u001b[0m\u001b[0;34m\u001b[0m\u001b[0;34m\u001b[0m\u001b[0m\n\u001b[0m\u001b[1;32m      5\u001b[0m     \u001b[0;32mreturn\u001b[0m \u001b[0mHTML\u001b[0m\u001b[0;34m(\u001b[0m\u001b[0mstyles\u001b[0m\u001b[0;34m)\u001b[0m\u001b[0;34m\u001b[0m\u001b[0;34m\u001b[0m\u001b[0m\n\u001b[1;32m      6\u001b[0m \u001b[0mcss_styling\u001b[0m\u001b[0;34m(\u001b[0m\u001b[0;34m)\u001b[0m\u001b[0;34m\u001b[0m\u001b[0;34m\u001b[0m\u001b[0m\n",
      "\u001b[0;31mFileNotFoundError\u001b[0m: [Errno 2] No such file or directory: './style/custom2.css'"
     ]
    }
   ],
   "source": [
    "# execute this part to modify the css style\n",
    "from IPython.core.display import HTML\n",
    "def css_styling():\n",
    "    styles = open(\"./style/custom2.css\").read()\n",
    "    return HTML(styles)\n",
    "css_styling()\n"
   ]
  },
  {
   "cell_type": "code",
   "execution_count": 2,
   "metadata": {},
   "outputs": [],
   "source": [
    "## loading python libraries\n",
    "\n",
    "# necessary to display plots inline:\n",
    "%matplotlib inline   \n",
    "\n",
    "# load the libraries\n",
    "import matplotlib.pyplot as plt # 2D plotting library\n",
    "import numpy as np              # package for scientific computing  \n",
    "\n",
    "from math import *              # package for mathematics (pi, arctan, sqrt, factorial ...)\n",
    "import sympy as sympy             # package for symbolic computation\n",
    "from sympy import *\n"
   ]
  },
  {
   "cell_type": "markdown",
   "metadata": {},
   "source": [
    "<!--<div markdown=1 class=\"Rmk\"> Here is the Latex code of a matrix that you can copy/paste throughout the notebook:\n",
    "$$\n",
    "M=\n",
    "\\begin{matrix}\n",
    "v_1 \\\\ v_2 \\\\ v_3 \n",
    "\\end{matrix}\n",
    "\\begin{pmatrix}\n",
    "1 & 1 & 0\\\\\n",
    "0 & 0 & 1\\\\\n",
    "0 & 1 & 0\\\\\n",
    "\\end{pmatrix}.\n",
    "$$-->\n"
   ]
  },
  {
   "cell_type": "markdown",
   "metadata": {},
   "source": [
    "<div markdown=1 class=Abstract>\n",
    "\n",
    "# Please read!\n",
    "\n",
    "#### Guidelines for graded notebooks\n",
    "\n",
    "* This notebook is graded, you must submit the .pynb file on the moodle at the end of the session.\n",
    "* Submission is due at 5:35 pm. No late submission is permitted.\n",
    "* The work is **individual**. Copy/pasting has been very severely punished in previous years.\n",
    "* You can access previous notebooks and the lecture notes (and any online documentation on numpy, python,...).\n",
    "* The four exercises are independent. You can of course solve the exercices in any order.\n",
    "* Each function must be tested (for your sake, it also must be commented).\n",
    "* Mathematical explanations have to be given in the corresponding \"Answer\" cell (not as comments of the code). Try to be rigorous and concise.\n",
    "* Here is a sample of a matrix in LateX that you can copy/paste if needed:\n",
    "$$\n",
    "A=\n",
    "\\begin{matrix}\n",
    " u \\\\ v \\\\ w \n",
    "\\end{matrix}\n",
    "\\begin{pmatrix}\n",
    "0 & 1 & 0  \\\\\n",
    "0 & 0 & 0\\\\\n",
    "0 &  1 & 1\\\\\n",
    "\\end{pmatrix}.\n",
    "$$\n"
   ]
  },
  {
   "cell_type": "markdown",
   "metadata": {},
   "source": [
    "Here is a sample of a code to define a matrix in numpy and raise it to some power:"
   ]
  },
  {
   "cell_type": "code",
   "execution_count": 3,
   "metadata": {},
   "outputs": [
    {
     "name": "stdout",
     "output_type": "stream",
     "text": [
      "[[0.5 0.5 0.  0.  0.  0.  0.  0. ]\n",
      " [0.  0.5 0.5 0.  0.  0.  0.  0. ]\n",
      " [0.  0.  0.5 0.5 0.  0.  0.  0. ]\n",
      " [0.  0.  0.  0.5 0.5 0.  0.  0. ]\n",
      " [0.  0.  0.  0.  0.5 0.5 0.  0. ]\n",
      " [0.  0.  0.  0.  0.  0.5 0.5 0. ]\n",
      " [0.  0.  0.  0.  0.  0.  0.5 0.5]\n",
      " [0.5 0.  0.  0.  0.  0.  0.  0.5]]\n",
      "[[0.12475586 0.1612854  0.17655945 0.1612854  0.12475586 0.0887146\n",
      "  0.07392883 0.0887146 ]\n",
      " [0.0887146  0.12475586 0.1612854  0.17655945 0.1612854  0.12475586\n",
      "  0.0887146  0.07392883]\n",
      " [0.07392883 0.0887146  0.12475586 0.1612854  0.17655945 0.1612854\n",
      "  0.12475586 0.0887146 ]\n",
      " [0.0887146  0.07392883 0.0887146  0.12475586 0.1612854  0.17655945\n",
      "  0.1612854  0.12475586]\n",
      " [0.12475586 0.0887146  0.07392883 0.0887146  0.12475586 0.1612854\n",
      "  0.17655945 0.1612854 ]\n",
      " [0.1612854  0.12475586 0.0887146  0.07392883 0.0887146  0.12475586\n",
      "  0.1612854  0.17655945]\n",
      " [0.17655945 0.1612854  0.12475586 0.0887146  0.07392883 0.0887146\n",
      "  0.12475586 0.1612854 ]\n",
      " [0.1612854  0.17655945 0.1612854  0.12475586 0.0887146  0.07392883\n",
      "  0.0887146  0.12475586]]\n"
     ]
    }
   ],
   "source": [
    "TransitionMatrix=np.zeros([8,8])\n",
    "for k in range(1, ):\n",
    "    TransitionMatrix[k,k]=1/2\n",
    "    TransitionMatrix[k,(k+1)%8]=1/2\n",
    "print(TransitionMatrix)\n",
    "print(np.linalg.matrix_power(TransitionMatrix,20))"
   ]
  },
  {
   "cell_type": "markdown",
   "metadata": {},
   "source": [
    "<a id='RW'></a>\n",
    "\n",
    "## Exercise 1: A random walk\n",
    "\n",
    "Fix $L\\geq 3$ throughout the exercise. We consider the sequence of random variables $(X_0,X_1,X_2,\\dots)$ with values in $\\{0,1,\\dots,L-1\\}$ whose distribution is defined by:\n",
    "* $X_0=0$\n",
    "* For each $k\\geq 1$,\n",
    "$$\n",
    "X_{k+1}=\n",
    "\\begin{cases}\n",
    "X_k + 2\\ \\ \\mathrm{mod}(L)&\\text{ with probability }1/2,\\\\\n",
    "X_k - 1\\ \\ \\mathrm{mod}(L)&\\text{ with probability }1/2.\n",
    "\\end{cases}\n",
    "$$\n",
    "The sequence $(X_k)_{k\\geq 0}$ is called a  random walk on $\\{0,1,\\dots,L-1\\}$.\n"
   ]
  },
  {
   "cell_type": "markdown",
   "metadata": {},
   "source": [
    "<div markdown=1 class=\"DoIt\"> \n",
    "\n",
    "1. Using a transition matrix on the set $\\{0,1,\\dots,L-1\\}$ write a function which computes the function\n",
    "$(k,\\ell)\\mapsto \\mathbb{P}(X_k=\\ell)$.\n",
    "<br>\n",
    "(For $L=20$ I find $\\mathbb{P}(X_{15}=0)=0.091644...$.)\n",
    "\n",
    "2. An important theorem in Markov chain theory (beyond the scope of MAA205) states that if $L$ is not divisible by $3$  then the distribution of $X_k$ tends to the  uniform distribution in $\\{0,1,\\dots,L-1\\}$. Illustrate this result for $L=20$: draw a plot supporting that<br>\n",
    "$$\n",
    "\\lim_{k\\to +\\infty}  \\mathbb{P}(X_k=0) =\\frac{1}{L}.\n",
    "$$\n",
    "<i>(Be aware that the convergence is quite slow.)</i>"
   ]
  },
  {
   "cell_type": "code",
   "execution_count": 83,
   "metadata": {},
   "outputs": [
    {
     "name": "stdout",
     "output_type": "stream",
     "text": [
      "[[0.  0.  0.5 0.  0.  0.  0.  0.5]\n",
      " [0.5 0.  0.  0.5 0.  0.  0.  0. ]\n",
      " [0.  0.5 0.  0.  0.5 0.  0.  0. ]\n",
      " [0.  0.  0.5 0.  0.  0.5 0.  0. ]\n",
      " [0.  0.  0.  0.5 0.  0.  0.5 0. ]\n",
      " [0.  0.  0.  0.  0.5 0.  0.  0.5]\n",
      " [0.5 0.  0.  0.  0.  0.5 0.  0. ]\n",
      " [0.  0.5 0.  0.  0.  0.  0.5 0. ]]\n",
      "The Probablity of at time 15 and in the position 0 is  0.091644\n"
     ]
    },
    {
     "data": {
      "image/png": "[encoded data removed]",
      "text/plain": [
       "<Figure size 1080x720 with 1 Axes>"
      ]
     },
     "metadata": {
      "needs_background": "light"
     },
     "output_type": "display_data"
    },
    {
     "name": "stdout",
     "output_type": "stream",
     "text": [
      "The Probablity of at time 15 and in the position 0 is  0.091644\n",
      "The Probablity of at time 100 and in the position 0 is  0.021688\n",
      "The Probablity of at time 1000 and in the position 0 is  0.05\n"
     ]
    }
   ],
   "source": [
    "# Question 1\n",
    "def TransitionMatrix(n):\n",
    "    mat = np.zeros([n, n])\n",
    "    for k in range(n):\n",
    "        mat[k, (k - 1) % n] = 1 / 2\n",
    "        mat[k, (k + 2) % n] = 1 / 2\n",
    "\n",
    "    return mat\n",
    "\n",
    "\n",
    "print(TransitionMatrix(8))\n",
    "\n",
    "\n",
    "def Probability(n, k, l):\n",
    "    new_mat = np.linalg.matrix_power(TransitionMatrix(n), k)\n",
    "    return new_mat[l, 0]\n",
    "\n",
    "\n",
    "print('The Probablity of at time 15 and in the position 0 is ',\n",
    "      round(Probability(20, 15, 0), 6))\n",
    "\n",
    "# Question 2\n",
    "result = [Probability(20, k, 0) for k in range(1000)]\n",
    "plt.figure(figsize=(15, 10))\n",
    "plt.plot(result)\n",
    "plt.title('Probability distribution when L=20')\n",
    "plt.xlabel('k')\n",
    "plt.ylabel('Probability')\n",
    "plt.show()\n",
    "\n",
    "print('The Probablity of at time 15 and in the position 0 is ',\n",
    "      round(Probability(20, 15, 0), 6))\n",
    "print('The Probablity of at time 100 and in the position 0 is ',\n",
    "      round(Probability(20, 100, 0), 6))\n",
    "print('The Probablity of at time 1000 and in the position 0 is ',\n",
    "      round(Probability(20, 1000, 0), 6))\n"
   ]
  },
  {
   "cell_type": "markdown",
   "metadata": {},
   "source": [
    "<div markdown=1 class=\"Answers\"> \n",
    "\n",
    "**Question 2.** Explain here how you did the plot.\n",
    "\n",
    "I first compute and collect all the probability of $\\mathbb{P}(X_k=0)$ corresponds to different value of $k$ from 1 to 1000. Then I plot the probability of $\\mathbb{P}(X_k=0)$ against $k$. From the graph we can find that as $k \\to \\infty$, the probability tend to a straight line with value $\\frac{1}{20}$. Therefore the graph supports the result that the distribution of $X_k$ tends to the uniform distribution in $\\{0,1,\\dots,L-1\\}$ and from the result of computation for $k=1000$ we got $\\mathbb{P}(X_{1000}=0)=0.05$ supports the conclusion\n",
    "$$\n",
    "\\lim_{k\\to +\\infty}  \\mathbb{P}(X_k=0) =\\frac{1}{L}.\n",
    "$$"
   ]
  },
  {
   "cell_type": "markdown",
   "metadata": {},
   "source": [
    "<a id='isolated'></a>\n",
    "## Exercise 2. Letters $a$ come by three\n",
    "\n",
    "<div markdown=1 class=\"DoIt\"> \n",
    "\n",
    "We consider words $w$ with letters $a,b$. For $n\\geq 2$ let $I_n$ be the number of words $w=(w_1,w_2,\\dots,w_n)$ of length $n$ such that runs of consecutive $a$'s all have length $\\geq 3$. \n",
    "\n",
    "For example $I_5=7$ since the only possibilities are\n",
    "$$\n",
    "aaaaa,\\ aaaab,\\ aaabb,\\ baaaa,\\ baaab,\\ bbaaa,\\ bbbbb.\n",
    "$$\n",
    "\n",
    "Compute $I_{30}$ using a graph and its adjacency matrix. You must explain carefully which graph and which coefficients of the matrix you consider.\n",
    "\n",
    "<i>(To check your result: I find $I_{10}=72$.)</i>\n"
   ]
  },
  {
   "cell_type": "markdown",
   "metadata": {},
   "source": [
    "<div markdown=1 class=\"Answers\"> \n",
    "\n",
    "From the result we got we have $I_{30}= 1089155$. And we check the number for $I_{10}= 72$ with our function.\n",
    "\n",
    "We construction a graph that there are at least 3 nodes from $a$ to $a$ which we can denote $a$, $a_1$, $a_2$ and another $b$. For the relations in those nodes we got $a \\to a_1$, $a_1 \\to a_2$ and $a_2 \\to b$ or to itself, $b \\to a$ or to itself. In this case we can ensure that there are at least 3 nodes from $a$ to $a$. Therefore we can have the matrix that \n",
    "$$\n",
    "A=\n",
    "\\begin{matrix}\n",
    "a \\\\ a_{1} \\\\ a_{2} \\\\ b\n",
    "\\end{matrix}\n",
    "\\begin{pmatrix}\n",
    "0 & 1 & 0 & 0\\\\\n",
    "0 & 0 & 1 & 0\\\\\n",
    "0 & 0 & 1 & 1\\\\\n",
    "1 & 0 & 0 & 1\n",
    "\\end{pmatrix}.\n",
    "$$\n",
    "After we times the matrix to $n-1$ times and sum up all the elements in the last line of the matrix we can get the result of $I_{n}$.\n"
   ]
  },
  {
   "cell_type": "code",
   "execution_count": 61,
   "metadata": {},
   "outputs": [
    {
     "name": "stdout",
     "output_type": "stream",
     "text": [
      "The possibilities of solution in I5 is  7\n",
      "The possibilities of solution in I9 is  44\n",
      "The possibilities of solution in I10 is  72\n",
      "The possibilities of solution in I30 is  1089155\n"
     ]
    }
   ],
   "source": [
    "# Your code here\n",
    "Matrix = np.matrix([[0, 1, 0, 0], [0, 0, 1, 0], [0, 0, 1, 1], [1, 0, 0, 1]])\n",
    "\n",
    "\n",
    "# check\n",
    "def Number_words(n):\n",
    "    lis = []\n",
    "    for i in range(2, n + 1):\n",
    "        Mat = np.linalg.matrix_power(Matrix, i)\n",
    "        MatBis = Mat[0:1]\n",
    "        lis.append(np.sum(MatBis))\n",
    "    return lis[-1]\n",
    "\n",
    "\n",
    "print('The possibilities of solution in I5 is ', Number_words(5))\n",
    "print('The possibilities of solution in I9 is ', Number_words(9))\n",
    "print('The possibilities of solution in I10 is ', Number_words(10))\n",
    "print('The possibilities of solution in I30 is ', Number_words(30))"
   ]
  },
  {
   "cell_type": "markdown",
   "metadata": {},
   "source": [
    "<a id=\"frog\"></a>\n",
    "## Exercise 3: A coin game\n",
    "\n",
    "We consider the following game of chance:<br><br>\n",
    "Let $k\\geq 1$ be an integer. A player starts with one euro, at each time step a fair coin is tossed. If the coin turns Heads then the player wins 2 euros, if the coin turns Tails then they lose 1 euro. The game goes until either the player is ruined, or just after the $k$-th coin has been tossed. \n",
    "\n",
    "Here are two sample games for $k=6$:\n",
    "\\begin{align*}\n",
    "&1 \\stackrel{\\text{Heads}}{\\longrightarrow} 3 \\stackrel{\\text{Tails}}{\\longrightarrow} 2\n",
    "\\stackrel{\\text{Tails}}{\\longrightarrow} 1 \\stackrel{\\text{Tails}}{\\longrightarrow} 0 \\text{    (Ruined)},\\\\\n",
    "&1 \\stackrel{\\text{Heads}}{\\longrightarrow} 3 \\stackrel{\\text{Heads}}{\\longrightarrow} 5\n",
    "\\stackrel{\\text{Tails}}{\\longrightarrow} 4 \\stackrel{\\text{Tails}}{\\longrightarrow} 3\n",
    "\\stackrel{\\text{Tails}}{\\longrightarrow} 2 \\stackrel{\\text{Heads}}{\\longrightarrow} 4\n",
    "\\text{    (Stop)}.\n",
    "\\end{align*}\n",
    "\n",
    "Let $W\\in \\{0,1,2,\\dots, 2k+1\\}$ be the random variable given by the player's money at the end of the game. In the above examples $W=0$ and $W=4$ respectively.\n"
   ]
  },
  {
   "cell_type": "markdown",
   "metadata": {},
   "source": [
    "<div markdown=1 class=\"DoIt\"> \n",
    "\n",
    "1. Using a Markov chain, write a function which computes the probability $p_k$ that the player is ruined at the end of the game (<i>i.e.</i> $\\mathbb{P}(W=0)$). Explain your strategy.\n",
    "<br>\n",
    "<i>(To check your result, I find $p_{40}\\approx 0.6171...$.)</i>\n",
    "2. Plot the distribution of $W$ for $k=20$."
   ]
  },
  {
   "cell_type": "markdown",
   "metadata": {},
   "source": [
    "<div markdown=1 class=\"Answers\"> Question 1.\n",
    "\n",
    "We can use the Markov chain to compute the probability $p_k$ that the player is ruined at the end of the game. We can construct a graph that there are $2k+1$ nodes and the relation between the nodes is that the node $i$ can go to the node $i+2$ or $i-1$ each case with probability 1/2. Therefore we can have the matrix that\n",
    "$$\n",
    "Q= \\begin{matrix}\n",
    "0 \\\\ 1 \\\\ \\vdots \\\\ i \\\\ \\vdots  \\\\ N-1 \\\\ N\n",
    "\\end{matrix}\n",
    "\\begin{pmatrix}\n",
    "1 & 0   & 0 & 0   & 0  & 0 & 0\\\\\n",
    "1/2 & 0 & 0 & 1/2 & 0  & 0 & 0\\\\\n",
    " &  & \\ddots &  &   & & \\\\\n",
    "0 & 0 & 1/2 & 0 & 0  & 1/2 & 0\\\\\n",
    " &  &  &  & \\ddots  &  & \\\\\n",
    "0 & 0 & 0 & 0 & 0 & 1 & 0\\\\\n",
    "0 & 0 & 0 & 0 & 0 & 0 & 1\n",
    "\\end{pmatrix}.\n",
    "$$\n",
    "Then we multiply the matrix to $k$ times and we want to find the end points which just track the point from 1 to the end point in the graph. Assume the end point is $m$ then we can just locate the point in the matrix with $Q_{1, k}$ which is the result"
   ]
  },
  {
   "cell_type": "code",
   "execution_count": 95,
   "metadata": {},
   "outputs": [
    {
     "name": "stdout",
     "output_type": "stream",
     "text": [
      "[[1.  0.  0.  0.  0.  0. ]\n",
      " [0.5 0.  0.  0.5 0.  0. ]\n",
      " [0.  0.5 0.  0.  0.5 0. ]\n",
      " [0.  0.  0.5 0.  0.  0.5]\n",
      " [0.  0.  0.  0.  1.  0. ]\n",
      " [0.  0.  0.  0.  0.  1. ]]\n",
      "The probability of p40 = 0 is 0.61711\n"
     ]
    },
    {
     "data": {
      "image/png": "[encoded data removed]",
      "text/plain": [
       "<Figure size 936x576 with 1 Axes>"
      ]
     },
     "metadata": {
      "needs_background": "light"
     },
     "output_type": "display_data"
    }
   ],
   "source": [
    "# Question 1\n",
    "def Matrix_coins(n):\n",
    "    W = 2 * n + 1\n",
    "    Matrix = np.zeros([W + 1, W + 1])\n",
    "    Matrix[W, W] = 1\n",
    "    # initialisation\n",
    "    Matrix[W - 1, W - 1] = 1\n",
    "    Matrix[0, 0] = 1\n",
    "    for k in range(1, W - 1):\n",
    "        Matrix[k, k - 1] = 1 / 2\n",
    "        Matrix[k, k + 2] = 1 / 2\n",
    "    return Matrix\n",
    "\n",
    "\n",
    "print(Matrix_coins(2))\n",
    "\n",
    "\n",
    "def Probability_coin(k, m):\n",
    "    mat = np.linalg.matrix_power(Matrix_coins(2 * k + 1), k)\n",
    "    return mat[1, m]\n",
    "\n",
    "\n",
    "print('The probability of p40 = 0 is', np.round(Probability_coin(40, 0), 6))\n",
    "\n",
    "# Question 2\n",
    "result = [Probability_coin(20, m) for m in range(2 * 20 + 2)]\n",
    "plt.figure(figsize=(13, 8))\n",
    "plt.title('Probability distribution when k=20')\n",
    "plt.xlabel('W')\n",
    "plt.ylabel('Probability')\n",
    "plt.plot(result, 'o-')\n",
    "plt.show()\n",
    "\n"
   ]
  },
  {
   "cell_type": "markdown",
   "metadata": {},
   "source": [
    "<a id='color'></a>\n",
    "## Exercise 4. Balls in bins"
   ]
  },
  {
   "cell_type": "markdown",
   "metadata": {},
   "source": [
    "<div markdown=1 class=\"DoIt\"> \n",
    "\n",
    "A urn contains 5 balls, one of each color: Black, White, Red, Green, Yellow (B,W,R,G,Y). At time $1,2,3,\\dots$ a ball is drawn uniformly at random and put back into the urn. For $n\\geq 1$ denote by $X_n \\in\\{B,W,R,G,Y\\}$ the color of the $n$-th ball.\n",
    "\n",
    "For $n\\geq 3$ let $E_n$ be the event\n",
    "\\begin{align*}\n",
    "E_n&=\\{\\text{ The Green ball has been drawn at least 3 times in a row before time }n\\ \\}\\\\\n",
    "&=\\{\\exists\\ 1\\leq k\\leq n-2\\text{ such that }X_{k}=X_{k+1}=X_{k+2}=G\\}.\n",
    "\\end{align*}\n",
    "<br>\n",
    "It is easy to see that\n",
    "$$\n",
    "\\mathbb{P}(E_3)=\\mathbb{P}(X_{1}=X_{2}=X_{3}=G)= (1/5)^3=0.008.\n",
    "$$\n",
    "but there is no obvious way to compute $\\mathbb{P}(E_n)$ for arbitrary $n$.\n",
    "\n",
    "The goal of the exercise is to solve this problem with Markov chains. We first introduce a graph $\\mathcal{R}$ with vertices $\\{r_0,r_1,r_2,r_3\\}$. We define a Markov chain $(M_n)_{n\\geq 0}$ on $\\mathcal{R}$ which keeps track of the current record of consecutive $G$'s. Formally $(M_n)_{n\\geq 0}$ is defined as follows: $M_0=r_0$ and for $n\\geq 1$,\n",
    "\n",
    "* $M_n=r_0$ if:\n",
    "    * $E_n$ is not true and $X_n\\neq G$.\n",
    "* $M_n=r_1$ if:\n",
    "    * $E_n$ is not true and $X_n=G$, $X_{n-1}\\neq G$.\n",
    "* $M_n=r_2$ if:\n",
    "   * $n\\geq 2$, $E_n$ is not true and $X_n=G,X_{n-1}= G,X_{n-2}\\neq G$\n",
    "* $M_n=r_3$ if\n",
    "   * $E_n$ is true.\n",
    "\n",
    "Here is an example:\n",
    "\n",
    "<font>\n",
    "<table>\n",
    "<tr>\n",
    "<td > $n$</td>\n",
    "<td >$0$</td><td >$1$</td><td >$2$</td><td >$3$</td><td >$4$</td><td >$5$</td><td >$6$</td><td >$7$</td><td >$8$</td>\n",
    "</tr>\n",
    "<tr>\n",
    "<td > $X_n$</td>\n",
    "<td >$/$</td><td >$B$</td><td >$G$</td><td >$Y$</td><td >$G$</td><td >$G$</td><td >$G$</td><td >$G$</td><td >$B$</td>\n",
    "</tr>\n",
    "<tr>\n",
    "<td > $M_n$</td>\n",
    "<td >$r_0$</td><td >$r_0$</td><td >$r_1$</td><td >$r_0$</td><td >$r_1$</td><td >$r_2$</td><td >$r_3$</td><td >$r_3$</td><td >$r_3$</td>           </tr>\n",
    "</table>\n",
    "</font>\n",
    "\n",
    "<b>Question 1</b>. We admit that $(M_n)$ defined as above is a Markov chain. Find its transition matrix\n",
    "(explain briefly). \n",
    "\n",
    "<b>Question 2</b>.\n",
    "Write a function which computes $\\mathbb{P}(E_n)$ for every $n$. (Explain briefly how you use the transition matrix.)\n",
    "\n",
    "<i>(In order to check your result: I find $\\mathbb{P}(E_{10})=0.052349...$)</i>\n",
    "\n",
    "<b>Question 3</b>. Find the minimal $n$ such that $E_n$ occurs with more than $90\\%$ chance.\n"
   ]
  },
  {
   "cell_type": "markdown",
   "metadata": {},
   "source": [
    "<div markdown=1 class=\"Answers\"> \n",
    "\n",
    "Question 1. \n",
    "\n",
    "We can have the markov chain like this \n",
    "$$\n",
    "A=\n",
    "\\begin{matrix}\n",
    "r_0 \\\\ r_{1} \\\\ r_{2} \\\\ r_3\n",
    "\\end{matrix}\n",
    "\\begin{pmatrix}\n",
    "4/5 & 1/5 & 0 & 0\\\\\n",
    "4/5 & 0 & 1/5 & 0\\\\\\\n",
    "4/5 & 0 & 0 & 1/5\\\\\n",
    "0 & 0 & 0 & 1\n",
    "\\end{pmatrix}.\n",
    "$$\n",
    "Since we have the probability of 1/5 to get a green ball and the probability of 4/5 to get a non-green ball. When $E_n$ is not true and we get a ball in other color, then we go back to stage $r_0$. Since we reach stage $r_3$ we would stay there.\n",
    "\n",
    "Question 2.\n",
    "\n",
    "Since we have the transition graph from quesition 1, then we can just simply multiple it with $n$ times and return the position of $Q_{1,4}$ since this node means from stage $r_0$ to stage $r_3$ which is the probability of $E_n$ is true.\n",
    "\n",
    "Question 3.\n",
    "From the result our our program we got the minimal $n$ is 354 such that $\\mathbb{P}(E_{n}) > 0.9$\n"
   ]
  },
  {
   "cell_type": "code",
   "execution_count": 93,
   "metadata": {},
   "outputs": [
    {
     "name": "stdout",
     "output_type": "stream",
     "text": [
      "The probability of E10 is 0.052349\n"
     ]
    }
   ],
   "source": [
    "# Question 2\n",
    "Matrix = np.matrix([[4 / 5, 1 / 5, 0, 0], \n",
    "                    [4 / 5, 0, 1 / 5, 0],\n",
    "                    [4 / 5, 0, 0, 1 / 5], \n",
    "                    [0, 0, 0, 1]])\n",
    "\n",
    "\n",
    "def ProbabilityE(n):\n",
    "    mat = np.linalg.matrix_power(Matrix, n)\n",
    "    return round(mat[0, -1], 6)\n",
    "    \n",
    "# test\n",
    "print('The probability of E10 is', ProbabilityE(10))\n",
    "\n"
   ]
  },
  {
   "cell_type": "code",
   "execution_count": 94,
   "metadata": {},
   "outputs": [
    {
     "name": "stdout",
     "output_type": "stream",
     "text": [
      "The minimal n that En bigger than 0.9 is  354\n",
      "The probability of E354 is 0.900381\n",
      "The probability of E353 is 0.899727\n"
     ]
    }
   ],
   "source": [
    "# Question 3\n",
    "def break_value(p):\n",
    "    n = 1\n",
    "    while n >=1:\n",
    "        prob = ProbabilityE(n)\n",
    "        if prob >= p:\n",
    "            break\n",
    "        n += 1\n",
    "    \n",
    "    return n\n",
    "\n",
    "print('The minimal n that En bigger than 0.9 is ', break_value(0.9))\n",
    "\n",
    "# check\n",
    "print('The probability of E354 is', ProbabilityE(354))\n",
    "print('The probability of E353 is', ProbabilityE(353))"
   ]
  }
 ],
 "metadata": {
  "kernelspec": {
   "display_name": "base",
   "language": "python",
   "name": "python3"
  },
  "language_info": {
   "codemirror_mode": {
    "name": "ipython",
    "version": 3
   },
   "file_extension": ".py",
   "mimetype": "text/x-python",
   "name": "python",
   "nbconvert_exporter": "python",
   "pygments_lexer": "ipython3",
   "version": "3.9.7"
  },
  "vscode": {
   "interpreter": {
    "hash": "40d3a090f54c6569ab1632332b64b2c03c39dcf918b08424e98f38b5ae0af88f"
   }
  }
 },
 "nbformat": 4,
 "nbformat_minor": 4
}
