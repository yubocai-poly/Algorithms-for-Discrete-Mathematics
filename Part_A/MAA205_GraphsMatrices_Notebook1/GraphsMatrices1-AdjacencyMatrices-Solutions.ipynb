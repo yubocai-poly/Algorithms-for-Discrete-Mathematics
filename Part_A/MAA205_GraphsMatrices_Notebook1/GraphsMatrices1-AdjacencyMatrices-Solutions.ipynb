{
 "cells": [
  {
   "cell_type": "markdown",
   "metadata": {},
   "source": [
    "<img src='./figures/logo-ecole-polytechnique-ve.jpg' style='position:absolute; top:0; right:0;' width='100px' height='' alt='' />\n",
    "\n",
    "<center>**Bachelor of Ecole Polytechnique**</center>\n",
    "<center>Computational Mathematics, year 2, semester 1</center>\n",
    "<center>Lecturer: Lucas Gerin <a href=\"mailto:lucas.gerin@polytechnique.edu\">(send mail)</a></center>\n",
    "\n",
    "# Graphs and Matrices 1: Adjacency Matrices\n"
   ]
  },
  {
   "cell_type": "markdown",
   "metadata": {},
   "source": [
    "## Table of contents\n",
    "\n",
    "- [Adjacency Matrices](#Paths)\n",
    "- [Enumeration of words](#words)\n",
    "- [Transition Matrices and Absorption probabilities](#Escape)\n",
    "- [Bonus: The target](#Target)\n"
   ]
  },
  {
   "cell_type": "code",
   "execution_count": 1,
   "metadata": {},
   "outputs": [
    {
     "data": {
      "text/html": [
       "<link href='http://fonts.googleapis.com/css?family=Fenix' rel='stylesheet' type='text/css'>\n",
       "<link href='http://fonts.googleapis.com/css?family=Alegreya+Sans:100,300,400,500,700,800,900,100italic,300italic,400italic,500italic,700italic,800italic,900italic' rel='stylesheet' type='text/css'>\n",
       "<link href='http://fonts.googleapis.com/css?family=Source+Code+Pro:300,400' rel='stylesheet' type='text/css'>\n",
       "<link href=\"https://fonts.googleapis.com/css?family=Oswald|Raleway\" rel=\"stylesheet\" type='text/css'> \n",
       "<style>\n",
       ".prompt{\n",
       "    display: none !important;\n",
       "}\n",
       "\n",
       ".rendered_html pre {\n",
       "    border: 1px solid #f0f6f9 !important;\n",
       "}\n",
       "\n",
       ".rendered_html pre, .rendered_html code {\n",
       "    background-color: #d3d8db !important;\n",
       "    padding: 1% !important;\n",
       "    line-height: 200% !important;\n",
       "    border-radius: 10px !important;\n",
       "}\n",
       "\n",
       "div.input_area {\n",
       "    border-radius: 10px !important;\n",
       "    background-color: #e1e1e6 !important;\n",
       "}\n",
       "\n",
       "div.cell{\n",
       "        width:85% !important;\n",
       "        margin-left:5% !important;\n",
       "        /*margin-right:auto;*/\n",
       "    }\n",
       "    h1, h2, h3, h4, h5 {\n",
       "        font-family: 'Oswald', sans-serif; !important;\n",
       "        font-style: oblique !important;\n",
       "    }\n",
       "    div.text_cell_render{\n",
       "        font-family: 'Raleway', sans-serif; !important;\n",
       "        line-height: 135% !important;\n",
       "        font-size: 120% !important;\n",
       "        width:100%;/*600px;*/\n",
       "        /*margin-left:auto;*/\n",
       "        /*margin-right:auto;*/\n",
       "    }\n",
       "    .CodeMirror{\n",
       "            font-family: \"Source Code Pro\" !important;\n",
       "\t\t\tfont-size: 100% !important;\n",
       "    }\n",
       "    .text_cell_render p{\n",
       "        text-align: justify !important;\n",
       "    }\n",
       "    .text_cell_render h1 {\n",
       "        font-weight: 200 !important;\n",
       "\t\tline-height: 100% !important;\n",
       "        color:#47597A !important;\n",
       "        margin-bottom: 10.em !important;\n",
       "        margin-top: 50.em !important;\n",
       "        padding-bottom: 50.em !important;\n",
       "        padding-top: 50.em !important;\n",
       "        display: block !important;\n",
       "        font-size: 300% !important;\n",
       "        text-align: center !important;\n",
       "        border-bottom: 1px solid #47597A !important;\n",
       "        border-top: 1px solid #47597A !important;\n",
       "    }\n",
       "    .text_cell_render h2 {\n",
       "        font-weight: 200 !important;\n",
       "\tline-height: 100% !important;\n",
       "        color:#47597A !important;\n",
       "        margin-bottom: 0.5em !important;\n",
       "        margin-top: 0.5em !important;\n",
       "        display: block !important;\n",
       "        font-size: 200% !important;\n",
       "        border-bottom: 1px solid #47597A !important;\n",
       "    }\n",
       "    .text_cell_render h3 {\n",
       "        font-weight: 200 !important;\n",
       "\tline-height: 100% !important;\n",
       "        color:#47597A !important;\n",
       "        margin-bottom: 0.5em !important;\n",
       "        margin-top: 0.5em !important;\n",
       "        display: block !important;\n",
       "        font-size: 150% !important;\n",
       "    }\n",
       "    .text_cell_render h4 {\n",
       "        font-style: italic !important;\n",
       "        font-weight: bold !important;\n",
       "\tline-height: 100% !important;\n",
       "        color:#47597A !important;\n",
       "        display: block !important;\n",
       "        font-size: 100% !important;\n",
       "    }\n",
       "    .text_cell_render h5 {\n",
       "        font-weight: 200 !important;\n",
       "\tline-height: 100% !important;\n",
       "        color:#47597A !important;\n",
       "        margin-bottom: 0.5em !important;\n",
       "        margin-top: 0.5em !important;\n",
       "        display: block !important;\n",
       "        font-size: 100% !important;\n",
       "    }\n",
       "    .text_cell_render ul {\n",
       "\tlist-style-type: disc !important;\n",
       "\tline-height: 2;\n",
       "\t/*color:#47597A !important;*/\n",
       "    }\n",
       "    .warning{\n",
       "        color: rgb( 240, 20, 20 ) !important;\n",
       "        }\n",
       "    .Abstract {  \n",
       "\ttext-align: justify;\n",
       "\tbackground-color: #d6edf9;\n",
       "\tborder-left: 5px solid #47597A;\n",
       "\tpadding: 0.5em;\n",
       "\tmargin: 0  150px 0 150px;\n",
       "    }\n",
       "    .Def {    \n",
       "\tbackground-color: #d9f7d7;\n",
       "\tborder-left: 5px solid #4a7047;\n",
       "\tpadding: 0.5em;\n",
       "    }\n",
       "    .Def:before {\n",
       "\tcontent: \"Definition.\";\n",
       "\tcolor:#4a7047;\n",
       "\tfont-weight: bold;\n",
       "\tfont-style: normal;\n",
       "    }\n",
       "    .DoIt {    \n",
       "\tbackground-color: #e8cfc9;\n",
       "\tborder-left: 5px solid #a90e05;\n",
       "\tpadding: 0.5em;\n",
       "    }\n",
       "    .DoIt:before {\n",
       "\tcontent: \"Do it yourself.\";\n",
       "\tcolor:#a90e05;\n",
       "\tfont-weight: bold;\n",
       "\tfont-style: normal;\n",
       "    }\n",
       "    .Answers {    \n",
       "\tbackground-color: #DDA0DD;\n",
       "\tborder-left: 5px solid #9932CC;\n",
       "\tpadding: 0.5em;\n",
       "    }\n",
       "    .Answers:before {\n",
       "\tcontent: \"Answers.\";\n",
       "\tcolor:#682145;\n",
       "\tfont-weight: bold;\n",
       "\tfont-style: normal;\n",
       "    }\n",
       "    .Prop {    \n",
       "\tbackground-color:#f9ecd1;\n",
       "\tborder-left: 5px solid #ba7021;\n",
       "\tpadding: 0.5em;\n",
       "    }\n",
       "   .Prop:before {\n",
       "       content: \"Proposition.\";\n",
       "       color:#ba7021;\n",
       "       font-weight: bold;\n",
       "       font-style: normal;\n",
       "    }\n",
       "   .Thm {    \n",
       "\tbackground-color:#f9ecd1;\n",
       "\tborder-left: 5px solid #ba7021;\n",
       "\tpadding: 0.5em;\n",
       "    }\n",
       "   .Thm:before {\n",
       "       content: \"Theorem.\";\n",
       "       color:#ba7021;\n",
       "       font-weight: bold;\n",
       "       font-style: normal;\n",
       "    } \n",
       "   .Algo {    \n",
       "\tbackground-color:#f9ecd1;\n",
       "\tborder-left: 5px solid #ba7021;\n",
       "\tpadding: 0.5em;\n",
       "    }\n",
       "   .Algo:before {\n",
       "       content: \"Algorithm.\";\n",
       "       color:#ba7021;\n",
       "       font-weight: bold;\n",
       "       font-style: normal;\n",
       "    }\n",
       "    .Rmk {    \n",
       "\tbackground-color: #dbf1fc;\n",
       "\tborder-left: 5px solid #385487;\n",
       "\tpadding: 0.5em;\n",
       "    }\n",
       "    .Rmk:before {\n",
       "\tcontent: \"Remark.\";\n",
       "\tcolor:#385487;\n",
       "\tfont-weight: bold;\n",
       "\tfont-style: normal;\n",
       "    }\n",
       "    .Ex {    \n",
       "\tbackground-color: #dbf1fc;\n",
       "\tborder-left: 5px solid #385487;\n",
       "\tpadding: 0.5em;\n",
       "    }\n",
       "    .Ex:before {\n",
       "\tcontent: \"Example.\";\n",
       "\tcolor:#385487;\n",
       "\tfont-weight: bold;\n",
       "\tfont-style: normal;\n",
       "    }\n",
       "\n",
       "/*    .toc-item-num {\n",
       "#        display: none;\n",
       "#    }\n",
       "*/\n",
       "    .reveal section img{\n",
       "        margin: 0px auto;\n",
       "    }\n",
       "\n",
       "    div.output_area img{\n",
       "        display: block;\n",
       "        margin: 0px auto;\n",
       "    }\n",
       "  \n",
       "</style>\n",
       "\n",
       "<script>\n",
       "MathJax.Hub.Config({\n",
       "TeX: {extensions: [\"AMSmath.js\"] },\n",
       "                tex2jax: {\n",
       "                    inlineMath: [ ['$','$'], [\"\\\\(\",\"\\\\)\"] ],\n",
       "                    displayMath: [ ['$$','$$'], [\"\\\\[\",\"\\\\]\"] ]\n",
       "                },\n",
       "                displayAlign: 'center', // Change this to 'center' to center equations.\n",
       "                \"HTML-CSS\": {\n",
       "                    styles: {'.MathJax_Display': {\"margin\": 4}}\n",
       "                }\n",
       "        });\n",
       "\n",
       "\n",
       "\n",
       "</script>\n"
      ],
      "text/plain": [
       "<IPython.core.display.HTML object>"
      ]
     },
     "execution_count": 1,
     "metadata": {},
     "output_type": "execute_result"
    }
   ],
   "source": [
    "# execute this part to modify the css style\n",
    "from IPython.core.display import HTML\n",
    "def css_styling():\n",
    "    styles = open(\"./style/custom2.css\").read()\n",
    "    return HTML(styles)\n",
    "css_styling()\n"
   ]
  },
  {
   "cell_type": "code",
   "execution_count": 2,
   "metadata": {},
   "outputs": [],
   "source": [
    "## loading python libraries\n",
    "\n",
    "# necessary to display plots inline:\n",
    "%matplotlib inline   \n",
    "\n",
    "# load the libraries\n",
    "import matplotlib.pyplot as plt # 2D plotting library\n",
    "import numpy as np              # package for scientific computing  \n",
    "\n",
    "from math import *              # package for mathematics (pi, arctan, sqrt, factorial ...)\n",
    "import sympy as sympy             # package for symbolic computation\n",
    "from sympy import *\n"
   ]
  },
  {
   "cell_type": "markdown",
   "metadata": {},
   "source": [
    "<!--<div markdown=1 class=\"Rmk\"> Here is the Latex code of a matrix that you can copy/paste throughout the notebook:\n",
    "$$\n",
    "M=\n",
    "\\begin{matrix}\n",
    "v_1 \\\\ v_2 \\\\ v_3 \n",
    "\\end{matrix}\n",
    "\\begin{pmatrix}\n",
    "1 & 1 & 0\\\\\n",
    "0 & 0 & 1\\\\\n",
    "0 & 1 & 0\\\\\n",
    "\\end{pmatrix}.\n",
    "$$-->\n"
   ]
  },
  {
   "cell_type": "markdown",
   "metadata": {},
   "source": [
    "<a id=\"Paths\"></a>\n",
    "# Adjacency Matrices"
   ]
  },
  {
   "cell_type": "markdown",
   "metadata": {},
   "source": [
    "### Exercise 1. Warm-up\n",
    "Let $G$ be the following graph:\n",
    "<img src=\"figures/GrapheBasique.jpg\" style=\"width: 200px;\"/>\n"
   ]
  },
  {
   "cell_type": "markdown",
   "metadata": {},
   "source": [
    "<div markdown=1 class=\"DoIt\"> Use the adjacency matrix of $G$ to compute the number of paths of length $20$ from $d$ to $c$ in $G$."
   ]
  },
  {
   "cell_type": "code",
   "execution_count": 3,
   "metadata": {},
   "outputs": [
    {
     "name": "stdout",
     "output_type": "stream",
     "text": [
      "488 paths of length 20\n"
     ]
    }
   ],
   "source": [
    "AdjacencyMatrix=np.matrix([[0,1,0,0],[1,0,1,1],[1,0,0,0],[1,0,0,0]])\n",
    "n=20\n",
    "B=AdjacencyMatrix**n\n",
    "print(str(B[3,3])+' paths of length '+str(n))\n",
    "\n",
    "#print(B)"
   ]
  },
  {
   "cell_type": "markdown",
   "metadata": {},
   "source": [
    "<div markdown=1 class=\"Answers\"> \n",
    "The number of paths is given by the coefficient corresponding to $(d,c)$ (<i>i.e.</i> coeff.$(4,3)$) in $A^{20}$, where $A$ is given by\n",
    "$$\n",
    "A=\n",
    "\\begin{matrix}\n",
    "a \\\\ b \\\\ c\\\\ d\n",
    "\\end{matrix}\n",
    "\\begin{pmatrix}\n",
    "0 & 1 & 0 & 0\\\\\n",
    "1 & 0 & 1 & 1\\\\\n",
    "1 & 0 & 0 & 0\\\\\n",
    "1 & 0 & 0 & 0\n",
    "\\end{pmatrix}.\n",
    "$$"
   ]
  },
  {
   "cell_type": "markdown",
   "metadata": {},
   "source": [
    "<a id=\"words\"></a>\n",
    "##  Enumeration of words\n",
    "\n",
    "### Exercise 2. $b$ never followed by $c$"
   ]
  },
  {
   "cell_type": "markdown",
   "metadata": {},
   "source": [
    "<div markdown=1 class=\"DoIt\"> We consider words with letters $a,b,c$. Let $M_n$ be the number of words of length $n$ (the length of a word is the number of letters) such that a $b$ is never immediately followed by a  $c$.\n",
    "\n",
    "For example $M_2=8$:\n",
    "$$\n",
    "aa,\\ ab,\\ ac,\\ ba,\\ bb,\\ ca,\\ cb,\\ cc.\n",
    "$$\n",
    "\n",
    "**Question 1.** Write a script which computes $M_1,M_2,\\dots,M_{20}$ using a graph and its adjacency matrix. You can consider the following graph:\n",
    "<br><br>\n",
    "<center>\n",
    "<img src=\"figures/Graphe_abc.jpg\" style=\"width: 200px;\"/></center>\n",
    "<br>\n"
   ]
  },
  {
   "cell_type": "markdown",
   "metadata": {},
   "source": [
    "<div markdown=1 class=\"Answers\"> \n",
    "\n",
    "**Question 1.** The number $S_n$ corresponds to the number of paths of length $n-1$ in the above graph ($n-1$ edges correspond to $n$ letters.)\n",
    "\n",
    "For exemple, the word $abbbac$ (length $6$) corresponds to $a\\to b\\to b\\to b\\to a\\to c$ (path of length $5$). \n",
    "\n",
    "Therefore $M_n$ is the sum of all coefficients in the matrix $A^{n-1}$, where\n",
    "$$\n",
    "A=\n",
    "\\begin{matrix}\n",
    "a \\\\ b \\\\ c \n",
    "\\end{matrix}\n",
    "\\begin{pmatrix}\n",
    "1 & 1 & 1 \\\\\n",
    "1 & 1 & 0 \\\\\n",
    "1 & 1 & 1 \\\\\n",
    "\\end{pmatrix}.\n",
    "$$\n"
   ]
  },
  {
   "cell_type": "code",
   "execution_count": 4,
   "metadata": {},
   "outputs": [
    {
     "name": "stdout",
     "output_type": "stream",
     "text": [
      "Number of words of size n= 1 :  3\n",
      "Number of words of size n= 2 :  8\n",
      "Number of words of size n= 3 :  21\n",
      "Number of words of size n= 4 :  55\n",
      "Number of words of size n= 5 :  144\n",
      "Number of words of size n= 6 :  377\n",
      "Number of words of size n= 7 :  987\n",
      "Number of words of size n= 8 :  2584\n",
      "Number of words of size n= 9 :  6765\n",
      "Number of words of size n= 10 :  17711\n",
      "Number of words of size n= 11 :  46368\n",
      "Number of words of size n= 12 :  121393\n",
      "Number of words of size n= 13 :  317811\n",
      "Number of words of size n= 14 :  832040\n",
      "Number of words of size n= 15 :  2178309\n",
      "Number of words of size n= 16 :  5702887\n",
      "Number of words of size n= 17 :  14930352\n",
      "Number of words of size n= 18 :  39088169\n",
      "Number of words of size n= 19 :  102334155\n",
      "Number of words of size n= 20 :  267914296\n"
     ]
    }
   ],
   "source": [
    "# Matrices of b-short words\n",
    "Adjacency_abc=np.matrix([[1,1,1],[1,1,0],[1,1,1]])\n",
    "#print('Adjacency matrix : ')\n",
    "#print(Adjacency_abc)\n",
    "List = []\n",
    "for n in range(1,21):\n",
    "    Mat=Adjacency_abc**(n-1)\n",
    "    List.append(np.sum(Mat))\n",
    "    print('Number of words of size n=',n,': ',np.sum(Mat))\n"
   ]
  },
  {
   "cell_type": "markdown",
   "metadata": {},
   "source": [
    "### Exercise 3.  $b$-short words\n",
    "<div markdown=1 class=\"DoIt\"> We say that a word $w$ with letters $a,b$ is $b$-<i>short</i> if there are never $4$ consecutive $b$'s in $w$. For instance,\n",
    "$$\n",
    "w_1=aa\\color{green}{b}aaaaaa\\color{green}{bbb}aaa\\color{green}{b}aa\n",
    "$$\n",
    "is $b$-short while\n",
    "$$\n",
    "w_2=aa\\color{green}{b}aa\\color{green}{bb}a\\color{red}{bbbbbb}aa\\color{green}{bb}a\n",
    "$$\n",
    "is not. Let $S_n$ be the number of $b$-short words of length $n$.\n",
    "\n",
    "Write a script which computes $S_1,S_2,\\dots,S_{20}$ using a graph and its adjacency matrix.\n"
   ]
  },
  {
   "cell_type": "markdown",
   "metadata": {},
   "source": [
    "<div markdown=1 class=\"Answers\"> \n",
    "\n",
    "**Question 1.** The number $S_n$ corresponds to the number of paths starting from $a$ or $b$ and of length $n-1$ in the graph whose adjacency matrix is\n",
    "$$\n",
    "A=\n",
    "\\begin{matrix}\n",
    "a \\\\ b \\\\ b' \\\\ b''\n",
    "\\end{matrix}\n",
    "\\begin{pmatrix}\n",
    "1 & 1 & 0 & 0\\\\\n",
    "1 & 0 & 1 & 0\\\\\n",
    "1 & 0 & 0 & 1\\\\\n",
    "1 & 0 & 0 & 0\n",
    "\\end{pmatrix}.\n",
    "$$\n",
    "\n",
    "For exemple, the word $abbbaa$ (length $6$) corresponds to $a\\to b\\to b'\\to b''\\to a\\to a$ (path of length $5$). <br><i>(The vertices $b,b',b''$ ensure that there are never $4$ consecutive $b$'s.)</i>\n",
    "\n",
    "Therefore $S_n$ is the sum of all coefficients in the two first lines of matrix $A^{n-1}$.\n"
   ]
  },
  {
   "cell_type": "code",
   "execution_count": 5,
   "metadata": {},
   "outputs": [
    {
     "name": "stdout",
     "output_type": "stream",
     "text": [
      "Adjacency matrix : \n",
      "[[1 1 0 0]\n",
      " [1 0 1 0]\n",
      " [1 0 0 1]\n",
      " [1 0 0 0]]\n",
      "Number of b-short words = [2, 4, 8, 15, 29, 56, 108, 208, 401, 773, 1490, 2872, 5536, 10671, 20569, 39648, 76424, 147312, 283953, 547337]\n",
      "[[773 401 208 108]\n",
      " [717 372 193 100]\n",
      " [609 316 164  85]\n",
      " [401 208 108  56]]\n"
     ]
    }
   ],
   "source": [
    "# Matrices of b-short words\n",
    "Adjacency_bShort=np.matrix([[1,1,0,0],[1,0,1,0],[1,0,0,1],[1,0,0,0]])\n",
    "print('Adjacency matrix : ')\n",
    "print(Adjacency_bShort)\n",
    "List=[]\n",
    "for n in range(1,21):\n",
    "    Mat=Adjacency_bShort**(n-1)\n",
    "    MatBis=Mat[0:2,]\n",
    "    List.append(np.sum(MatBis))\n",
    "print('Number of b-short words = '+str(List))\n",
    "\n",
    "print(Adjacency_bShort**11)"
   ]
  },
  {
   "cell_type": "markdown",
   "metadata": {},
   "source": [
    "<a id=\"Escape\"></a>\n",
    "# Transition matrices"
   ]
  },
  {
   "cell_type": "markdown",
   "metadata": {},
   "source": [
    "### Exercise 4. Labyrinth.\n",
    "\n",
    "We consider a random robot in the following labyrinth:\n",
    "\n",
    "<img src=\"figures/Labyrinthe.jpg\" style=\"width: 250px;\"/>\n",
    "\n",
    "The robot is initially in room $B$ (time $n=0$). At each time step, it chooses uniformly at random one of the doors of the room in which it is located, and passes through that door.<br> If the robot hits Exit $1$ (resp. $2$) it stays at Exit $1$ (resp. $2$) forever."
   ]
  },
  {
   "cell_type": "markdown",
   "metadata": {},
   "source": [
    "<div markdown=1 class=\"DoIt\"> \n",
    "\n",
    "Let $p(n)$ denote the vector of the probability distribution of the location of the robot at time $n$. More formally,\n",
    "$$\n",
    "p(n)=\\bigg(p_x(n) \\bigg)_{x\\in \\{A,B,C,D,E,\\text{Exit }1,\\text{Exit }2\\}},\n",
    "$$\n",
    "where $p_x(n)$ is the probability that the robot is at $x$ at time $n$. Of course we have that\n",
    "$$\n",
    "p(0)=(0,1,0,0,0,0,0).\n",
    "$$\n",
    "\n",
    "1) Use a transition matrix $M$ to compute approximate values of $p(5)$ and $ p(2000)$. \n",
    "\n",
    "2) If we wait long enough the robot eventually escapes the labyrinth, either through Exit 1 or Exit 2. Find a numerical approximation of the probability that the robot escapes the labyrinth through Exit $1$."
   ]
  },
  {
   "cell_type": "markdown",
   "metadata": {},
   "source": [
    "<div markdown=1 class=\"Answers\"> \n",
    "1. We consider the following transition matrix:\n",
    "\n",
    "$$\n",
    "M= \\begin{matrix}\n",
    "A \\\\ B \\\\ C \\\\ D \\\\ E  \\\\ E1 \\\\ E2\n",
    "\\end{matrix}\n",
    "\\begin{pmatrix}\n",
    "0 & 1/2 & 0 & 1/2 & 0  & 0 & 0\\\\\n",
    "1/3 & 0 & 1/3 & 0 & 1/3  & 0 & 0\\\\\n",
    "0 & 1/2 & 0 & 0 & 0  & 1/2 & 0\\\\\n",
    "1/2 & 0 & 0 & 0 & 1/2  & 0 & 0\\\\\n",
    "0 & 1/3 & 0 & 1/3 & 0  & 0 & 1/3\\\\\n",
    "0 & 0 & 0 & 0 & 0 & 1 & 0\\\\\n",
    "0 & 0 & 0 & 0 & 0 & 0 & 1\n",
    "\\end{pmatrix}.\n",
    "$$\n",
    "We have seen in the Lecture that the coefficient $(i,j)$ in $M^{n}$ corresponds to the probability that, starting from $i$-th state, the robot is at $j$ at time $n$. Therefore the desired probability distribution is the $2$d line of $M^{n}$.\n"
   ]
  },
  {
   "cell_type": "code",
   "execution_count": 6,
   "metadata": {},
   "outputs": [
    {
     "name": "stdout",
     "output_type": "stream",
     "text": [
      "------- Question 1 -----\n",
      "Approximation of probability distributions:\n",
      "p(5) = [[0.22402 0.      0.10442 0.      0.22402 0.24074 0.20679]]\n",
      "p(2000) = [[0.      0.      0.      0.      0.      0.46667 0.53333]]\n",
      "------- Question 2 -----\n",
      "At time n=2000, the robot is at Exit 1 with probab. 0.466667\n"
     ]
    }
   ],
   "source": [
    "A=np.matrix([\n",
    "[0,0.5,0,0.5,0,0,0],\n",
    "[1/3.0,0,1/3.0,0,1/3.0,0,0],\n",
    "[0,0.5,0,0,0,0.5,0],\n",
    "[1/2.0,0,0,0,1/2.0,0,0],\n",
    "[0,1/3.0,0,1/3.0,0,0,1/3.0],\n",
    "[0,0,0,0,0,1,0],\n",
    "[0,0,0,0,0,0,1],    \n",
    "])\n",
    "#print(np.round(A**80,3))\n",
    "\n",
    "def ProbaDistribution(n):\n",
    "    Power=np.linalg.matrix_power(A,n)\n",
    "    return Power[1,:]\n",
    "\n",
    "print('------- Question 1 -----')\n",
    "print('Approximation of probability distributions:')\n",
    "print('p(5) = '+str(np.round(ProbaDistribution(5),5)))\n",
    "print('p(2000) = '+str(np.round(ProbaDistribution(2000),5)))\n",
    "\n",
    "print('------- Question 2 -----')\n",
    "Distribution=ProbaDistribution(2000)\n",
    "print('At time n=2000, the robot is at Exit 1 with probab. '+str(np.round(Distribution[0,5],6)))\n",
    "    \n"
   ]
  },
  {
   "cell_type": "markdown",
   "metadata": {},
   "source": [
    "<div markdown=1 class=\"Answers\"> \n",
    "2) For $n=2000$ we have that the robot is at Exit $1$ with probability $\\approx 0.467$ and at Exit $2$ with probability $0.533$. We see that other coefficients are very close to zero so it is very unlikely that the robot is still in the labyrinth at time $2000$.\n",
    "\n",
    "Therefore our approximation is $0.467$."
   ]
  },
  {
   "cell_type": "markdown",
   "metadata": {},
   "source": [
    "<div markdown=1 class=\"DoIt\">\n",
    "We still assume that the robot starts at $B$.<br>\n",
    "Denote by $L_n$  the event \"The robot is still in the labyrinth at time $n$\" (<i>i.e.</i> it dit not find the exit yet). <br>\n",
    "\n",
    "1) Use your matrix $M$ to plot $n\\mapsto \\mathbb{P}(L_n)$. (Try $1\\leq n\\leq 40$.)<br>\n",
    "2) We admit that there exist $c,\\alpha >0$ such that when $n\\to+\\infty$ we have \n",
    "$$\n",
    "\\mathbb{P}(L_n) \\sim c \\exp(-\\alpha n+o(n)\\ ).\n",
    "$$\n",
    "Use the code of Question 1) to compute a numerical approximation of $\\alpha$. Explain your strategy."
   ]
  },
  {
   "cell_type": "code",
   "execution_count": 7,
   "metadata": {},
   "outputs": [
    {
     "data": {
      "image/png": "[encoded data removed]",
      "text/plain": [
       "<Figure size 432x288 with 1 Axes>"
      ]
     },
     "metadata": {
      "needs_background": "light"
     },
     "output_type": "display_data"
    }
   ],
   "source": [
    "def ProbaNoEscape(n):\n",
    "    Distribution=ProbaDistribution(n-1)\n",
    "    return 1-Distribution[0,5]-Distribution[0,6] # returns 1-Proba(Exit 1)-Proba(Exit 2)\n",
    "\n",
    "N=30\n",
    "\n",
    "Proba=[ProbaNoEscape(n) for n in range(1,N)]\n",
    "\n",
    "plt.plot(Proba,'o-')\n",
    "plt.show()\n"
   ]
  },
  {
   "cell_type": "markdown",
   "metadata": {},
   "source": [
    "<div markdown=1 class=\"Answers\"> \n",
    "2) The assumption tells us that\n",
    "$$\n",
    "p_n:=\\mathbb{P}(L_n) = c \\exp(-\\alpha n+ n\\varepsilon_n)\n",
    "$$\n",
    "where  $\\varepsilon_n\\to 0$. Therefore\n",
    "$$\n",
    "\\frac{\\log(p_n)}{n}=\\frac{\\log(c)}{n}  -\\frac{\\alpha n}{n} + \\varepsilon_n\\to -\\alpha.\n",
    "$$\n",
    "According to the script below we have $\\alpha \\approx 0.13...$. \n"
   ]
  },
  {
   "cell_type": "code",
   "execution_count": 10,
   "metadata": {},
   "outputs": [
    {
     "data": {
      "image/png": "[encoded data removed]",
      "text/plain": [
       "<Figure size 432x288 with 1 Axes>"
      ]
     },
     "metadata": {
      "needs_background": "light"
     },
     "output_type": "display_data"
    },
    {
     "name": "stdout",
     "output_type": "stream",
     "text": [
      "Last value =  0.13266072122278286\n"
     ]
    }
   ],
   "source": [
    "LogProba=[-np.log(Proba[k])/k for k in range(1,len(Proba))]\n",
    "plt.plot(LogProba,'-o')\n",
    "plt.show()\n",
    "         \n",
    "print('Last value = ',LogProba[-1])\n",
    "\n",
    "\n"
   ]
  },
  {
   "cell_type": "markdown",
   "metadata": {},
   "source": [
    "<div markdown=1 class=\"DoIt\"><br> \n",
    "Question 3). For $x\\in \\{A,B,C,D,E\\}$ let $\\pi_x^1$  be the probability that starting from $x$ the robot exits the labyrinth through Exit 1.\n",
    "Use the method seen in class to write a system of equations for $\\pi_A^1, ...,\\pi_E^1$. Use `numpy` to solve the system and compare with your approximation obtained previously.<br>\n",
    "\n",
    "<i>NB: If you want to solve with `numpy` the system \n",
    "$$\n",
    "\\begin{cases}\n",
    "x+3y&=1\\\\\n",
    "2x-y&=0\n",
    "\\end{cases}\n",
    "$$\n",
    "you can use `np.linalg.solve`:</i>\n",
    "```\n",
    "A=np.array([[1,3],[2,-1]])\n",
    "B=np.array([1,0])\n",
    "print(np.linalg.solve(A, B))\n",
    "```"
   ]
  },
  {
   "cell_type": "markdown",
   "metadata": {},
   "source": [
    "<div markdown=1 class=\"Answers\"> \n",
    "According the method seen in class, we have that\n",
    "$$\n",
    "\\begin{cases}\n",
    "\\pi_a&=\\frac{1}{2}\\pi_b+\\frac{1}{2}\\pi_d\\\\\n",
    "\\pi_b&=\\frac{1}{3}\\pi_a+\\frac{1}{3}\\pi_c+\\frac{1}{3}\\pi_e\\\\\n",
    "\\pi_c&=\\frac{1}{2}\\pi_b+\\frac{1}{2}\\\\\n",
    "\\pi_d&=\\frac{1}{2}\\pi_a+\\frac{1}{2}\\pi_e\\\\\n",
    "\\pi_e&=\\frac{1}{3}\\pi_b+\\frac{1}{3}\\pi_d\\\\\n",
    "\\end{cases}\n",
    "$$\n",
    "And we can have the linear equation system that\n",
    "$$\n",
    "\\begin{cases}\n",
    "\\pi_a - \\frac{1}{2}\\pi_b-\\frac{1}{2}\\pi_d&=0\\\\\n",
    "\\frac{1}{3}\\pi_a-\\pi_b+\\frac{1}{3}\\pi_c+\\frac{1}{3}\\pi_e&=0\\\\\n",
    "\\frac{1}{2}\\pi_b-\\pi_c&=-\\frac{1}{2}\\\\\n",
    "\\frac{1}{2}\\pi_a+-\\pi_d+\\frac{1}{2}\\pi_e&=0\\\\\n",
    "\\frac{1}{3}\\pi_b+\\frac{1}{3}\\pi_d-\\pi_e&=0\\\\\n",
    "\\end{cases}\n",
    "$$\n",
    "Therefore we have the matrix $A$ and $b$ where\n",
    "\n",
    "We solve this system with the code below and obtain indeed\n",
    "$$\n",
    "\\pi_b\\approx 0.4666...\n",
    "$$"
   ]
  },
  {
   "cell_type": "code",
   "execution_count": 12,
   "metadata": {},
   "outputs": [
    {
     "name": "stdout",
     "output_type": "stream",
     "text": [
      "[0.4        0.46666667 0.73333333 0.33333333 0.26666667]\n"
     ]
    }
   ],
   "source": [
    "A=np.array([[1,-1/2,0,-1/2,0],\n",
    "            [-1/3,1,-1/3,0,-1/3],\n",
    "            [0,-1/2,1,0,0],\n",
    "            [-1/2,0,0,1,-1/2],\n",
    "            [0,-1/3,0,-1/3,1]])\n",
    "B=np.array([0,0,1/2,0,0])\n",
    "print(np.linalg.solve(A, B))"
   ]
  },
  {
   "cell_type": "code",
   "execution_count": null,
   "metadata": {},
   "outputs": [],
   "source": []
  },
  {
   "cell_type": "markdown",
   "metadata": {},
   "source": [
    "<a id=\"Target\"></a>\n",
    "## Bonus: The target (taken from BX2022's Test)"
   ]
  },
  {
   "cell_type": "markdown",
   "metadata": {},
   "source": [
    "A player plays the following game: \n",
    "\n",
    "* A target $T \\in \\{1,2,3,\\dots \\}$ is fixed.\n",
    "* The player starts from $0$ and keeps throwing a fair dice (with six faces) until the cumulative sum is $\\geq T$ and then stops.\n",
    "* If the player ends right on $T$ then the player has won, otherwise (<i>i.e.</i> the player ends on $T+1$, $T+2$,...,  $T+5$) the player has lost. \n",
    "\n",
    "Here is an example with $T=12$:\n",
    "$$\n",
    "0 \\stackrel{\\text{dice = }3}{\\longrightarrow} 3 \\stackrel{\\text{dice = }5}{\\longrightarrow} 8\\stackrel{\\text{dice = }1}{\\longrightarrow} 9\\stackrel{\\text{dice = }4}{\\longrightarrow} 13\\ \\text{(Lost)}\n",
    "$$"
   ]
  },
  {
   "cell_type": "markdown",
   "metadata": {},
   "source": [
    "<div markdown=1 class=\"DoIt\"> Write a function or a script in python which computes the winning probability $p_T$ when the target is $T$. Explain your strategy and justify that it is correct.<br><br>\n",
    "<i>In order to check your code:\n",
    "$$\n",
    "p_1=0.166667\\dots,\\quad p_2=0.194444\\dots,\\quad p_9=0.280369\\dots\n",
    "$$</i>"
   ]
  },
  {
   "cell_type": "markdown",
   "metadata": {},
   "source": [
    "<div markdown=1 class=\"Answers\"> Let $X_1,X_2,\\dots$ be the successives dice outcomes. They are independent uniform random variables in $\\{1,2,\\dots, 6\\}$.\n",
    "\n",
    "The successive cumulative sums are\n",
    "$$\n",
    "\\mathrm{Cum}=\\{X_1,X_1+X_2,X_1+X_2+X_3,\\dots \\}\n",
    "$$\n",
    "and we have\n",
    "$$\n",
    "p_T=\\mathbb{P}(T\\in \\mathrm{Cum}).\n",
    "$$\n",
    "For $i\\in \\mathbb{N}$ denote by $p_T(i)$ the probability that the player wins the game starting from $i$.\n",
    "We want to compute\n",
    "$$\n",
    "p_T=p_T(0).\n",
    "$$\n",
    "<br>\n",
    "We first observe that \n",
    "\\begin{align*}\n",
    "p_T(T+1)&=p_T(T+2)=p_T(T+3)=p_T(T+4)=p_T(T+5)=0\\\\\n",
    "p_T(T)&=1\n",
    "\\end{align*}\n",
    "For $0\\leq i<T$ we write\n",
    "\\begin{align*}\n",
    "p_T(i)&=\\mathbb{P}\\left(\\text{win starting from }i\\right)\\\\\n",
    "&=\\tfrac{1}{6}\\mathbb{P}\\left(\\text{win starting from }i |\\ \\text{ first dice }= 1 \\right)\\\\\n",
    "&+\\tfrac{1}{6}\\mathbb{P}\\left(\\text{win starting from }i |\\ \\text{ first dice }= 2 \\right)\\\\\n",
    "&+\\tfrac{1}{6}\\mathbb{P}\\left(\\text{win starting from }i |\\ \\text{ first dice }= 3 \\right)\\\\\n",
    "&+\\tfrac{1}{6}\\mathbb{P}\\left(\\text{win starting from }i |\\ \\text{ first dice }= 4 \\right)\\\\\n",
    "&+\\tfrac{1}{6}\\mathbb{P}\\left(\\text{win starting from }i |\\ \\text{ first dice }= 5 \\right)\\\\\n",
    "&+\\tfrac{1}{6}\\mathbb{P}\\left(\\text{win starting from }i |\\ \\text{ first dice }= 6 \\right)\\\\\n",
    "&=\\frac{1}{6}\\left( p_T(i+1)+ p_T(i+2)+p_T(i+3)+p_T(i+4)+p_T(i+5)+p_T(i+6) \\right).\n",
    "\\end{align*}\n",
    "We deduce the code below."
   ]
  },
  {
   "cell_type": "code",
   "execution_count": 11,
   "metadata": {},
   "outputs": [
    {
     "name": "stdout",
     "output_type": "stream",
     "text": [
      "Test: should be equal to 0.2803689:\n",
      "[[0. 0. 0. 0. 0. 0. 0. 0. 0. 0. 0. 0. 0. 0. 0.]]\n",
      "[[0. 0. 0. 0. 0. 0. 0. 0. 0. 1. 0. 0. 0. 0. 0.]]\n",
      "[1. 0. 0. 0. 0. 0.]\n",
      "[0.16666667 1.         0.         0.         0.         0.        ]\n",
      "[0.19444444 0.16666667 1.         0.         0.         0.        ]\n",
      "[0.22685185 0.19444444 0.16666667 1.         0.         0.        ]\n",
      "[0.26466049 0.22685185 0.19444444 0.16666667 1.         0.        ]\n",
      "[0.30877058 0.26466049 0.22685185 0.19444444 0.16666667 1.        ]\n",
      "[0.36023234 0.30877058 0.26466049 0.22685185 0.19444444 0.16666667]\n",
      "[0.2536044  0.36023234 0.30877058 0.26466049 0.22685185 0.19444444]\n",
      "[0.26809402 0.2536044  0.36023234 0.30877058 0.26466049 0.22685185]\n",
      "0.2803689454414977\n"
     ]
    }
   ],
   "source": [
    "def WinningProbability(t,p):\n",
    "    # t = target\n",
    "    # p = number of faces of the dice\n",
    "    WinningProbabilities=np.zeros([1,t+p])# i-th coordinate = winning probability starting from i\n",
    "    print(WinningProbabilities)\n",
    "    WinningProbabilities[0,t]=1\n",
    "    print(WinningProbabilities)\n",
    "    for k in reversed(range(t)): # first computes the probability for k=n-1, then k=n-2,... \n",
    "        NextProbabilities=WinningProbabilities[0,k+1:k+p+1] # extracts the p next probabilities\n",
    "        print(NextProbabilities)\n",
    "        WinningProbabilities[0,k]=np.mean(NextProbabilities) # computes the mean\n",
    "    return WinningProbabilities[0,0]\n",
    "\n",
    "print('Test: should be equal to 0.2803689:')\n",
    "print(WinningProbability(9,6))"
   ]
  },
  {
   "cell_type": "markdown",
   "metadata": {},
   "source": [
    "<div markdown=1 class=\"DoIt\"> For which target $1\\leq T \\leq 30$ is the game the most favourable?"
   ]
  },
  {
   "cell_type": "code",
   "execution_count": 9,
   "metadata": {},
   "outputs": [
    {
     "data": {
      "image/png": "[encoded data removed]",
      "text/plain": [
       "<Figure size 432x288 with 1 Axes>"
      ]
     },
     "metadata": {
      "needs_background": "light"
     },
     "output_type": "display_data"
    }
   ],
   "source": [
    "n=30\n",
    "XX=range(1,n+1)\n",
    "plt.plot(XX,[WinningProbability(n,6) for n in XX],'o-')\n",
    "plt.show()\n",
    "\n"
   ]
  },
  {
   "cell_type": "markdown",
   "metadata": {},
   "source": [
    "<div markdown=1 class=\"Answers\"> According to the above plot the game is the most favourable for $T=6$.\n",
    "<br><br>\n",
    "<i>(In passing we observe that $(p_T)_T$ seems to converge. Indeed it can be proved using Markov chains that\n",
    "$$\n",
    "\\lim_T p_T=\\frac{1}{7/2}=0.2857...\n",
    "$$\n",
    "The intuition is that the average dice outcome is $7/2$ so that a large $T$ has approximately a probability $\\frac{1}{7/2}$ of belonging to $\\mathrm{Cum}$.)</i>\n"
   ]
  }
 ],
 "metadata": {
  "kernelspec": {
   "display_name": "Python 3 (ipykernel)",
   "language": "python",
   "name": "python3"
  },
  "language_info": {
   "codemirror_mode": {
    "name": "ipython",
    "version": 3
   },
   "file_extension": ".py",
   "mimetype": "text/x-python",
   "name": "python",
   "nbconvert_exporter": "python",
   "pygments_lexer": "ipython3",
   "version": "3.9.7"
  }
 },
 "nbformat": 4,
 "nbformat_minor": 4
}
