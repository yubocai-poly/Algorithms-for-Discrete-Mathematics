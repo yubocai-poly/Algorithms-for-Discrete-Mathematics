{
 "cells": [
  {
   "cell_type": "markdown",
   "metadata": {},
   "source": [
    "<img src='./figures/logo-ecole-polytechnique-ve.jpg' style='position:absolute; top:0; right:0;' width='100px' height='' alt='' />\n",
    "\n",
    "<center>**Bachelor of Ecole Polytechnique**</center>\n",
    "<center>Computational Mathematics, year 2, semester 1</center>\n",
    "<center>Lecturer: Lucas Gerin <a href=\"mailto:lucas.gerin@polytechnique.edu\">(send mail)</a></center>\n",
    "\n",
    "# Symbolic computing 1: Proofs with SymPy\n"
   ]
  },
  {
   "cell_type": "markdown",
   "metadata": {},
   "source": [
    "## Table of contents\n",
    "\n",
    "- [Introduction to SymPy](#introduction)\n",
    "- [Let SymPy do the proof](#LetSymPy)\n",
    " * [Archimedes vs SymPy](#Archimedes)\n",
    "- [Solving equations](#Solving)\n",
    " * [The easy case](#Easy)\n",
    " * [Bonus: When SymPy needs help](#Help)\n"
   ]
  },
  {
   "cell_type": "code",
   "execution_count": 1,
   "metadata": {},
   "outputs": [
    {
     "data": {
      "text/html": [
       "<link href='http://fonts.googleapis.com/css?family=Fenix' rel='stylesheet' type='text/css'>\n",
       "<link href='http://fonts.googleapis.com/css?family=Alegreya+Sans:100,300,400,500,700,800,900,100italic,300italic,400italic,500italic,700italic,800italic,900italic' rel='stylesheet' type='text/css'>\n",
       "<link href='http://fonts.googleapis.com/css?family=Source+Code+Pro:300,400' rel='stylesheet' type='text/css'>\n",
       "<link href=\"https://fonts.googleapis.com/css?family=Oswald|Raleway\" rel=\"stylesheet\" type='text/css'> \n",
       "<style>\n",
       ".prompt{\n",
       "    display: none !important;\n",
       "}\n",
       "\n",
       ".rendered_html pre {\n",
       "    border: 1px solid #f0f6f9 !important;\n",
       "}\n",
       "\n",
       ".rendered_html pre, .rendered_html code {\n",
       "    background-color: #d3d8db !important;\n",
       "    padding: 1% !important;\n",
       "    line-height: 200% !important;\n",
       "    border-radius: 10px !important;\n",
       "}\n",
       "\n",
       "div.input_area {\n",
       "    border-radius: 10px !important;\n",
       "    background-color: #e1e1e6 !important;\n",
       "}\n",
       "\n",
       "div.cell{\n",
       "        width:85% !important;\n",
       "        margin-left:5% !important;\n",
       "        /*margin-right:auto;*/\n",
       "    }\n",
       "    h1, h2, h3, h4, h5 {\n",
       "        font-family: 'Oswald', sans-serif; !important;\n",
       "        font-style: oblique !important;\n",
       "    }\n",
       "    div.text_cell_render{\n",
       "        font-family: 'Raleway', sans-serif; !important;\n",
       "        line-height: 135% !important;\n",
       "        font-size: 120% !important;\n",
       "        width:100%;/*600px;*/\n",
       "        /*margin-left:auto;*/\n",
       "        /*margin-right:auto;*/\n",
       "    }\n",
       "    .CodeMirror{\n",
       "            font-family: \"Source Code Pro\" !important;\n",
       "\t\t\tfont-size: 100% !important;\n",
       "    }\n",
       "    .text_cell_render p{\n",
       "        text-align: justify !important;\n",
       "    }\n",
       "    .text_cell_render h1 {\n",
       "        font-weight: 200 !important;\n",
       "\t\tline-height: 100% !important;\n",
       "        color:#47597A !important;\n",
       "        margin-bottom: 10.em !important;\n",
       "        margin-top: 50.em !important;\n",
       "        padding-bottom: 50.em !important;\n",
       "        padding-top: 50.em !important;\n",
       "        display: block !important;\n",
       "        font-size: 300% !important;\n",
       "        text-align: center !important;\n",
       "        border-bottom: 1px solid #47597A !important;\n",
       "        border-top: 1px solid #47597A !important;\n",
       "    }\n",
       "    .text_cell_render h2 {\n",
       "        font-weight: 200 !important;\n",
       "\tline-height: 100% !important;\n",
       "        color:#47597A !important;\n",
       "        margin-bottom: 0.5em !important;\n",
       "        margin-top: 0.5em !important;\n",
       "        display: block !important;\n",
       "        font-size: 200% !important;\n",
       "        border-bottom: 1px solid #47597A !important;\n",
       "    }\n",
       "    .text_cell_render h3 {\n",
       "        font-weight: 200 !important;\n",
       "\tline-height: 100% !important;\n",
       "        color:#47597A !important;\n",
       "        margin-bottom: 0.5em !important;\n",
       "        margin-top: 0.5em !important;\n",
       "        display: block !important;\n",
       "        font-size: 150% !important;\n",
       "    }\n",
       "    .text_cell_render h4 {\n",
       "        font-style: italic !important;\n",
       "        font-weight: bold !important;\n",
       "\tline-height: 100% !important;\n",
       "        color:#47597A !important;\n",
       "        display: block !important;\n",
       "        font-size: 100% !important;\n",
       "    }\n",
       "    .text_cell_render h5 {\n",
       "        font-weight: 200 !important;\n",
       "\tline-height: 100% !important;\n",
       "        color:#47597A !important;\n",
       "        margin-bottom: 0.5em !important;\n",
       "        margin-top: 0.5em !important;\n",
       "        display: block !important;\n",
       "        font-size: 100% !important;\n",
       "    }\n",
       "    .text_cell_render ul {\n",
       "\tlist-style-type: disc !important;\n",
       "\tline-height: 2;\n",
       "\t/*color:#47597A !important;*/\n",
       "    }\n",
       "    .warning{\n",
       "        color: rgb( 240, 20, 20 ) !important;\n",
       "        }\n",
       "    .Abstract {  \n",
       "\ttext-align: justify;\n",
       "\tbackground-color: #d6edf9;\n",
       "\tborder-left: 5px solid #47597A;\n",
       "\tpadding: 0.5em;\n",
       "\tmargin: 0  150px 0 150px;\n",
       "    }\n",
       "    .Def {    \n",
       "\tbackground-color: #d9f7d7;\n",
       "\tborder-left: 5px solid #4a7047;\n",
       "\tpadding: 0.5em;\n",
       "    }\n",
       "    .Def:before {\n",
       "\tcontent: \"Definition.\";\n",
       "\tcolor:#4a7047;\n",
       "\tfont-weight: bold;\n",
       "\tfont-style: normal;\n",
       "    }\n",
       "    .DoIt {    \n",
       "\tbackground-color: #e8cfc9;\n",
       "\tborder-left: 5px solid #a90e05;\n",
       "\tpadding: 0.5em;\n",
       "    }\n",
       "    .DoIt:before {\n",
       "\tcontent: \"Do it yourself.\";\n",
       "\tcolor:#a90e05;\n",
       "\tfont-weight: bold;\n",
       "\tfont-style: normal;\n",
       "    }\n",
       "    .Answers {    \n",
       "\tbackground-color: #DDA0DD;\n",
       "\tborder-left: 5px solid #9932CC;\n",
       "\tpadding: 0.5em;\n",
       "    }\n",
       "    .Answers:before {\n",
       "\tcontent: \"Answers.\";\n",
       "\tcolor:#682145;\n",
       "\tfont-weight: bold;\n",
       "\tfont-style: normal;\n",
       "    }\n",
       "    .Prop {    \n",
       "\tbackground-color:#f9ecd1;\n",
       "\tborder-left: 5px solid #ba7021;\n",
       "\tpadding: 0.5em;\n",
       "    }\n",
       "   .Prop:before {\n",
       "       content: \"Proposition.\";\n",
       "       color:#ba7021;\n",
       "       font-weight: bold;\n",
       "       font-style: normal;\n",
       "    }\n",
       "   .Thm {    \n",
       "\tbackground-color:#f9ecd1;\n",
       "\tborder-left: 5px solid #ba7021;\n",
       "\tpadding: 0.5em;\n",
       "    }\n",
       "   .Thm:before {\n",
       "       content: \"Theorem.\";\n",
       "       color:#ba7021;\n",
       "       font-weight: bold;\n",
       "       font-style: normal;\n",
       "    } \n",
       "   .Algo {    \n",
       "\tbackground-color:#f9ecd1;\n",
       "\tborder-left: 5px solid #ba7021;\n",
       "\tpadding: 0.5em;\n",
       "    }\n",
       "   .Algo:before {\n",
       "       content: \"Algorithm.\";\n",
       "       color:#ba7021;\n",
       "       font-weight: bold;\n",
       "       font-style: normal;\n",
       "    }\n",
       "    .Rmk {    \n",
       "\tbackground-color: #dbf1fc;\n",
       "\tborder-left: 5px solid #385487;\n",
       "\tpadding: 0.5em;\n",
       "    }\n",
       "    .Rmk:before {\n",
       "\tcontent: \"Remark.\";\n",
       "\tcolor:#385487;\n",
       "\tfont-weight: bold;\n",
       "\tfont-style: normal;\n",
       "    }\n",
       "    .Ex {    \n",
       "\tbackground-color: #dbf1fc;\n",
       "\tborder-left: 5px solid #385487;\n",
       "\tpadding: 0.5em;\n",
       "    }\n",
       "    .Ex:before {\n",
       "\tcontent: \"Example.\";\n",
       "\tcolor:#385487;\n",
       "\tfont-weight: bold;\n",
       "\tfont-style: normal;\n",
       "    }\n",
       "\n",
       "/*    .toc-item-num {\n",
       "#        display: none;\n",
       "#    }\n",
       "*/\n",
       "    .reveal section img{\n",
       "        margin: 0px auto;\n",
       "    }\n",
       "\n",
       "    div.output_area img{\n",
       "        display: block;\n",
       "        margin: 0px auto;\n",
       "    }\n",
       "  \n",
       "</style>\n",
       "\n",
       "<script>\n",
       "MathJax.Hub.Config({\n",
       "TeX: {extensions: [\"AMSmath.js\"] },\n",
       "                tex2jax: {\n",
       "                    inlineMath: [ ['$','$'], [\"\\\\(\",\"\\\\)\"] ],\n",
       "                    displayMath: [ ['$$','$$'], [\"\\\\[\",\"\\\\]\"] ]\n",
       "                },\n",
       "                displayAlign: 'center', // Change this to 'center' to center equations.\n",
       "                \"HTML-CSS\": {\n",
       "                    styles: {'.MathJax_Display': {\"margin\": 4}}\n",
       "                }\n",
       "        });\n",
       "\n",
       "\n",
       "\n",
       "</script>\n"
      ],
      "text/plain": [
       "<IPython.core.display.HTML object>"
      ]
     },
     "execution_count": 1,
     "metadata": {},
     "output_type": "execute_result"
    }
   ],
   "source": [
    "# execute this part to modify the css style\n",
    "from IPython.core.display import HTML\n",
    "def css_styling():\n",
    "    styles = open(\"./style/custom2.css\").read()\n",
    "    return HTML(styles)\n",
    "css_styling()\n"
   ]
  },
  {
   "cell_type": "code",
   "execution_count": 2,
   "metadata": {},
   "outputs": [],
   "source": [
    "## loading python libraries\n",
    "\n",
    "# necessary to display plots inline:\n",
    "%matplotlib inline   \n",
    "\n",
    "# load the libraries\n",
    "import matplotlib.pyplot as plt # 2D plotting library\n",
    "import numpy as np              # package for scientific computing  \n",
    "from pylab import *\n",
    "\n",
    "from math import *              # package for mathematics (pi, arctan, sqrt, factorial ...)\n",
    "import sympy as sympy             # package for symbolic computation\n",
    "from sympy import *\n"
   ]
  },
  {
   "cell_type": "markdown",
   "metadata": {
    "collapsed": true
   },
   "source": [
    "\n",
    "<a id=\"introduction\"></a>\n",
    "# Introduction to SymPy"
   ]
  },
  {
   "cell_type": "markdown",
   "metadata": {},
   "source": [
    "Using python library `SymPy` we can perform <i>exact</i> computations. For instance, run and compare the following scripts:"
   ]
  },
  {
   "cell_type": "code",
   "execution_count": 3,
   "metadata": {},
   "outputs": [
    {
     "name": "stdout",
     "output_type": "stream",
     "text": [
      "With Numpy: \n",
      "root of two is 1.4142135623730951\n",
      "the square of (root of two) is 2.0000000000000004\n",
      "---------\n",
      "With SymPy: \n",
      "root of two is sqrt(2)\n",
      "the square of (root of two) is 2\n"
     ]
    }
   ],
   "source": [
    "print('With Numpy: ')\n",
    "print('root of two is '+str(np.sqrt(2))+'')\n",
    "print('the square of (root of two) is '+str(np.sqrt(2)**2)+'')\n",
    "print('---------')\n",
    "print('With SymPy: ')\n",
    "print('root of two is '+str(sympy.sqrt(2))+'')\n",
    "print('the square of (root of two) is '+str(sympy.sqrt(2)**2)+'')\n"
   ]
  },
  {
   "cell_type": "markdown",
   "metadata": {},
   "source": [
    "One can expand or simplify expressions:"
   ]
  },
  {
   "cell_type": "code",
   "execution_count": 4,
   "metadata": {},
   "outputs": [
    {
     "name": "stdout",
     "output_type": "stream",
     "text": [
      "Simplification of algebraic expressions:\n",
      "the square root of 40 is 2*sqrt(10)\n",
      "(root(3)+root(2))**20 is equal to 4517251249 + 1844160100*sqrt(6)\n",
      "----------------\n",
      "Simplification of symbolic expressions:\n",
      "(x**2 - 2*x + 1)/(x - 1) simplifies into x - 1\n"
     ]
    }
   ],
   "source": [
    "print('Simplification of algebraic expressions:')\n",
    "print('the square root of 40 is '+str(sympy.sqrt(40))+'')\n",
    "print('(root(3)+root(2))**20 is equal to '+str(expand((sympy.sqrt(3)+sympy.sqrt(2))**20)))\n",
    "#\n",
    "print('----------------')\n",
    "print('Simplification of symbolic expressions:')\n",
    "var('x') # We declare a 'symbolic' variable\n",
    "Expression=(x**2 - 2*x + 1)/(x-1)\n",
    "print(str(Expression) + ' simplifies into '+str(simplify(Expression)))\n"
   ]
  },
  {
   "cell_type": "markdown",
   "metadata": {},
   "source": [
    "With `Sympy` one can also obtain Taylor expansions of functions with `series`:"
   ]
  },
  {
   "cell_type": "code",
   "execution_count": 5,
   "metadata": {},
   "outputs": [
    {
     "name": "stdout",
     "output_type": "stream",
     "text": [
      "Expansion of cos(x) at x=0: 1 - x**2/2 + x**4/24 + O(x**6)\n",
      "Expansion of cos(1/n) when n -> +oo: 1/(24*n**4) - 1/(2*n**2) + 1 + O(n**(-6), (n, oo))\n"
     ]
    }
   ],
   "source": [
    "# Real variable\n",
    "var('x')\n",
    "Expression=cos(x)\n",
    "print('Expansion of cos(x) at x=0: '+str(Expression.series(x,0)))\n",
    "\n",
    "# integer variable\n",
    "var('n',integer=True)\n",
    "Expression=cos(1/n)\n",
    "print('Expansion of cos(1/n) when n -> +oo: '+str(Expression.series(n,oo)))   # oo means infinity (!)\n"
   ]
  },
  {
   "cell_type": "markdown",
   "metadata": {},
   "source": [
    "`SymPy` can also compute with \"big O's\". (By default $\\mathcal{O}(x)$ is considered for $x\\to 0$.)"
   ]
  },
  {
   "cell_type": "code",
   "execution_count": 6,
   "metadata": {},
   "outputs": [
    {
     "data": {
      "text/latex": [
       "$\\displaystyle x^{2} + x^{3} + O\\left(x^{4}\\right)$"
      ],
      "text/plain": [
       "x**2 + x**3 + O(x**4)"
      ]
     },
     "execution_count": 6,
     "metadata": {},
     "output_type": "execute_result"
    }
   ],
   "source": [
    "var('x')\n",
    "simplify((x+O(x**3))*(x+x**2+O(x**3)))\n"
   ]
  },
  {
   "cell_type": "markdown",
   "metadata": {},
   "source": [
    "<div markdown=1 class=\"Rmk\"> A nice feature of `Sympy` is that you can export formulas in $\\texttt{LateX}$. You also can get nice displays with `display`."
   ]
  },
  {
   "cell_type": "code",
   "execution_count": 7,
   "metadata": {},
   "outputs": [
    {
     "name": "stdout",
     "output_type": "stream",
     "text": [
      "2*cos(x + y + pi/4)**2\n",
      "2 \\cos^{2}{\\left(x + y + \\frac{\\pi}{4} \\right)}\n"
     ]
    },
    {
     "data": {
      "text/latex": [
       "$\\displaystyle 2 \\cos^{2}{\\left(x + y + \\frac{\\pi}{4} \\right)}$"
      ],
      "text/plain": [
       "2*cos(x + y + pi/4)**2"
      ]
     },
     "metadata": {},
     "output_type": "display_data"
    }
   ],
   "source": [
    "var('x y')\n",
    "formula=simplify((cos(x+y)-sin(x+y))**2)\n",
    "print(formula)\n",
    "print(latex(formula))\n",
    "display(formula)\n"
   ]
  },
  {
   "cell_type": "markdown",
   "metadata": {},
   "source": [
    "**Warning:** Fractions such as $1/4$ must be introduced with `Rational(1,4)` to keep `Sympy` from evaluating the expression. For example:"
   ]
  },
  {
   "cell_type": "code",
   "execution_count": 8,
   "metadata": {},
   "outputs": [
    {
     "name": "stdout",
     "output_type": "stream",
     "text": [
      "(1/4)^3 = 0.015625\n",
      "(1/4)^3 = 1/64\n"
     ]
    }
   ],
   "source": [
    "print('(1/4)^3 = '+str((1/4)**3))\n",
    "print('(1/4)^3 = '+str(Rational(1,4)**3))\n"
   ]
  },
  {
   "cell_type": "markdown",
   "metadata": {},
   "source": [
    "<a id=\"LetSymPy\"></a>\n",
    "# Let SymPy do the proofs"
   ]
  },
  {
   "cell_type": "markdown",
   "metadata": {},
   "source": [
    "### Exercise 1.  A warm-up"
   ]
  },
  {
   "cell_type": "markdown",
   "metadata": {},
   "source": [
    "<div markdown=1 class=\"DoIt\"> <br>\n",
    "Set $\\phi=\\frac{1+\\sqrt{5}}{2}$. Use `SymPy` to simplify $F=\\frac{\\phi^4-\\phi}{1+\\phi^7}$."
   ]
  },
  {
   "cell_type": "code",
   "execution_count": 9,
   "metadata": {},
   "outputs": [
    {
     "name": "stdout",
     "output_type": "stream",
     "text": [
      "F = (-sqrt(5)/2 - 1/2 + (1/2 + sqrt(5)/2)**4)/(1 + (1/2 + sqrt(5)/2)**7)\n",
      "simplified F = 14/29 - 4*sqrt(5)/29\n"
     ]
    }
   ],
   "source": [
    "phi=(1+sympy.sqrt(5))/2\n",
    "formula=(phi**4-phi)/(phi**7+1)\n",
    "print(\"F = \"+str(formula))\n",
    "print(\"simplified F = \"+str(simplify(formula)))\n"
   ]
  },
  {
   "cell_type": "markdown",
   "metadata": {},
   "source": [
    "### Exercise 2.  A simple (?) recurrence\n",
    "\n",
    "We will see how to use SymPy to prove a mathematical statement. Our aim is to make as rigorous proofs as possible, as long as we trust SymPy."
   ]
  },
  {
   "cell_type": "markdown",
   "metadata": {},
   "source": [
    "<div markdown=1 class=\"DoIt\"> <br>\n",
    "Let $a,b$ be two real numbers, we define the sequence $(u_n)_{n\\geq 0}$ as follows: $u_0=a,u_1=b$ and for $n\\geq 2$\n",
    "$$\n",
    "u_{n}=\\frac{1+u_{n-1}}{u_{n-2}}.\n",
    "$$\n",
    "\n",
    "1. Write a short program which returns the $15$ first values of $u_n$ in terms of symbolic variables $a,b$.</i>\n",
    "The output should be something like:\n",
    "```\n",
    "u_0 = a\n",
    "u_1 = b\n",
    "u_2 = (b + 1)/a\n",
    "...\n",
    "```\n",
    "2. Use `SymPy` to make and prove a conjecture for the asymptotic behaviour of the sequence $(u_n)$, for every reals $a,b$."
   ]
  },
  {
   "cell_type": "code",
   "execution_count": 10,
   "metadata": {},
   "outputs": [
    {
     "name": "stdout",
     "output_type": "stream",
     "text": [
      "u_0 = a\n",
      "u_1 = b\n",
      "u_2 = (b + 1)/a\n",
      "u_3 = (a + b + 1)/(a*b)\n",
      "u_4 = (a + 1)/b\n",
      "u_5 = a\n",
      "u_6 = b\n",
      "u_7 = (b + 1)/a\n",
      "u_8 = (a + b + 1)/(a*b)\n",
      "u_9 = (a + 1)/b\n",
      "u_10 = a\n",
      "u_11 = b\n",
      "u_12 = (b + 1)/a\n",
      "u_13 = (a + b + 1)/(a*b)\n",
      "u_14 = (a + 1)/b\n"
     ]
    }
   ],
   "source": [
    "def InductionFormula(x,y):\n",
    "    return (1+x)/y\n",
    "\n",
    "var('a b')\n",
    "Sequence=[a,b]\n",
    "\n",
    "print('u_0 = a')\n",
    "print('u_1 = b')\n",
    "for i in range(2,15):\n",
    "    Sequence.append(simplify(InductionFormula(Sequence[-1],Sequence[-2])))\n",
    "    print('u_'+str(i)+' = '+str(Sequence[-1]))\n"
   ]
  },
  {
   "cell_type": "markdown",
   "metadata": {},
   "source": [
    "<div markdown=1 class=\"Answers\"> \n",
    "1. See the cell above.\n",
    "2. If $a,b\\neq 0$, the sequence is well defined and we observe that $u_{5}=u_0$ and $u_6=u_1$.<br>\n",
    "Since the sequence is defined by a recurrence of order two (<i>i.e.</i> $u_{n}$ is a function of $u_{n-1},u_{n-2}$\n",
    " this implies that the sequence is periodic: $u_{n+5}=u_n$ for every $n$.<br>\n",
    "So if we trust Sympy the proof is done."
   ]
  },
  {
   "cell_type": "markdown",
   "metadata": {},
   "source": [
    "<a id=\"Archimedes\"></a>\n",
    "### Exercise 3. What if Archimedes had known `Sympy`?\n",
    "\n",
    "For $n\\geq 1$, let $\\mathcal{P}_n$ be a regular $3\\times 2^n$-gon with radius $1$. Here is $\\mathcal{P}_1$:\n",
    "\n",
    "<img src=\"./figures/Archimede.jpg\" alt=\"Roots\" style=\"width: 350px;\"/>\n",
    "\n",
    "Archimedes (IIIrd century BC) used the fact that $\\mathcal{P}_n$ gets closer and closer to the unit circle to obtain good approximations of $\\pi$.<br>\n",
    "We will use SymPy to deduce nice formulas for approximations of $\\pi$."
   ]
  },
  {
   "cell_type": "markdown",
   "metadata": {},
   "source": [
    "<div markdown=1 class=\"DoIt\">\n",
    "Let $L_n$ be the length of any side of $\\mathcal{P}_n$. Compute $L_1$ and use the following picture to write $L_{n+1}$ as a function of $L_n$:\n",
    "\n",
    "* $O$ is the center of the circle, $OC=1$.\n",
    "* $(OB)$ is the bisector of $\\widehat{DOC}$.\n",
    "* $\\widehat{OAC}$ is a right angle.\n",
    "\n",
    "<img src=\"./figures/SchemaArchimede.jpg\" alt=\"Roots\" style=\"width: 350px;\"/>"
   ]
  },
  {
   "cell_type": "markdown",
   "metadata": {},
   "source": [
    "<div markdown=1 class=\"Answers\"> As $OB$ is the bisector we have that $CB=BD$, which both are sides of $\\mathcal{P}_{n+1}$.<br>\n",
    "Besides, $OAC$ is rectangle at $A$. By Pythagora's theorem\n",
    "$$\n",
    "1^2=OA^2+AC^2=OA^2+(L_n/2)^2.\n",
    "$$\n",
    "$BAC$ is also rectangle at $A$, therefore\n",
    "\\begin{align*}\n",
    "L_{n+1}^2=BC^2&=AB^2+BC^2\\\\\n",
    "&=(1-OA)^2+(L_n/2)^2\\\\\n",
    "&=\\bigg(1-\\sqrt{1-(L_n/2)^2}\\bigg)^2+(L_n/2)^2\\\\\n",
    "&=1+1-(L_n/2)^2-2\\sqrt{1-(L_n/2)^2}+(L_n/2)^2\\\\\n",
    "&=2-2\\sqrt{1-(L_n/2)^2}.\n",
    "\\end{align*}\n",
    "Finally we obtain\n",
    "\\begin{align*}\n",
    "L_{n+1}=\\sqrt{2-2\\sqrt{1-(L_n/2)^2}}.\n",
    "\\end{align*}"
   ]
  },
  {
   "cell_type": "markdown",
   "metadata": {},
   "source": [
    "<div markdown=1 class=\"DoIt\">\n",
    "1. Write a script which computes exact expressions for the first values $L_1,L_2,\\dots, L_n$. (First try for small $n$'s.)\n",
    "\n",
    "2. Find a sequence $a_n$ such that $a_nL_n$ converges to $\\pi$ (we don't ask for a proof). Deduce some good algebraic approximations of $\\pi$. Export your results in $\\texttt{Latex}$ in order to get nice formulas.\n",
    "\n",
    "<i>(In order to check your formulas, you may compute numerical evaluations. With `SymPy`, a numerical evaluation is obtained with `N(expression)`.)</i>"
   ]
  },
  {
   "cell_type": "code",
   "execution_count": 11,
   "metadata": {},
   "outputs": [
    {
     "data": {
      "text/latex": [
       "$\\displaystyle 6 \\sqrt{2 - \\sqrt{3}}$"
      ],
      "text/plain": [
       "6*sqrt(2 - sqrt(3))"
      ]
     },
     "metadata": {},
     "output_type": "display_data"
    },
    {
     "name": "stdout",
     "output_type": "stream",
     "text": [
      "n = 1\n",
      "3.10582854123025\n"
     ]
    },
    {
     "data": {
      "text/latex": [
       "$\\displaystyle 12 \\sqrt{2 - \\sqrt{\\sqrt{3} + 2}}$"
      ],
      "text/plain": [
       "12*sqrt(2 - sqrt(sqrt(3) + 2))"
      ]
     },
     "metadata": {},
     "output_type": "display_data"
    },
    {
     "name": "stdout",
     "output_type": "stream",
     "text": [
      "n = 2\n",
      "3.13262861328124\n"
     ]
    },
    {
     "data": {
      "text/latex": [
       "$\\displaystyle 24 \\sqrt{2 - \\sqrt{\\sqrt{\\sqrt{3} + 2} + 2}}$"
      ],
      "text/plain": [
       "24*sqrt(2 - sqrt(sqrt(sqrt(3) + 2) + 2))"
      ]
     },
     "metadata": {},
     "output_type": "display_data"
    },
    {
     "name": "stdout",
     "output_type": "stream",
     "text": [
      "n = 3\n",
      "3.13935020304687\n"
     ]
    },
    {
     "data": {
      "text/latex": [
       "$\\displaystyle 48 \\sqrt{2 - \\sqrt{\\sqrt{\\sqrt{\\sqrt{3} + 2} + 2} + 2}}$"
      ],
      "text/plain": [
       "48*sqrt(2 - sqrt(sqrt(sqrt(sqrt(3) + 2) + 2) + 2))"
      ]
     },
     "metadata": {},
     "output_type": "display_data"
    },
    {
     "name": "stdout",
     "output_type": "stream",
     "text": [
      "n = 4\n",
      "3.14103195089051\n"
     ]
    },
    {
     "data": {
      "text/latex": [
       "$\\displaystyle 96 \\sqrt{2 - \\sqrt{\\sqrt{\\sqrt{\\sqrt{\\sqrt{3} + 2} + 2} + 2} + 2}}$"
      ],
      "text/plain": [
       "96*sqrt(2 - sqrt(sqrt(sqrt(sqrt(sqrt(3) + 2) + 2) + 2) + 2))"
      ]
     },
     "metadata": {},
     "output_type": "display_data"
    },
    {
     "name": "stdout",
     "output_type": "stream",
     "text": [
      "n = 5\n",
      "3.14145247228546\n"
     ]
    },
    {
     "data": {
      "text/latex": [
       "$\\displaystyle 192 \\sqrt{2 - \\sqrt{\\sqrt{\\sqrt{\\sqrt{\\sqrt{\\sqrt{3} + 2} + 2} + 2} + 2} + 2}}$"
      ],
      "text/plain": [
       "192*sqrt(2 - sqrt(sqrt(sqrt(sqrt(sqrt(sqrt(3) + 2) + 2) + 2) + 2) + 2))"
      ]
     },
     "metadata": {},
     "output_type": "display_data"
    },
    {
     "name": "stdout",
     "output_type": "stream",
     "text": [
      "n = 6\n",
      "3.14155760791186\n"
     ]
    },
    {
     "data": {
      "text/latex": [
       "$\\displaystyle 384 \\sqrt{2 - \\sqrt{\\sqrt{\\sqrt{\\sqrt{\\sqrt{\\sqrt{\\sqrt{3} + 2} + 2} + 2} + 2} + 2} + 2}}$"
      ],
      "text/plain": [
       "384*sqrt(2 - sqrt(sqrt(sqrt(sqrt(sqrt(sqrt(sqrt(3) + 2) + 2) + 2) + 2) + 2) + 2))"
      ]
     },
     "metadata": {},
     "output_type": "display_data"
    },
    {
     "name": "stdout",
     "output_type": "stream",
     "text": [
      "n = 7\n",
      "3.14158389214832\n"
     ]
    }
   ],
   "source": [
    "SuccessiveApproximations=[1]\n",
    "p=8\n",
    "for n in range(1,p):\n",
    "    OldValue=SuccessiveApproximations[-1]\n",
    "    NewValue=sqrt(2-2*sqrt(1-(OldValue**2)*Rational(1,4)))\n",
    "    SuccessiveApproximations.append(NewValue)\n",
    "    #print(latex(simplify(3*(2**n)*NewValue)))\n",
    "    display(simplify(3*(2**n)*NewValue))\n",
    "    print('n = '+str(n))\n",
    "    print(N(NewValue*3*2**(n)))\n"
   ]
  },
  {
   "cell_type": "markdown",
   "metadata": {},
   "source": [
    "<div markdown=1 class=\"Answers\"> \n",
    "When $n$ goes large, $\\mathcal{P}_n$ gets closer and closer to the unit circle. As the perimeter of $\\mathcal{P}_n$ is $3\\times 2^n L_n$, we expect that\n",
    "$$\n",
    "3\\times 2^n L_n \\to 2\\pi,\n",
    "$$\n",
    "therefore we choose $a_n=3\\times 2^{n-1}$. \n",
    "For $n=8$ we obtain:\n",
    "<font size=\"-1\">\n",
    "$$\n",
    "\\pi \\approx 384 \\sqrt{- \\sqrt{\\sqrt{\\sqrt{\\sqrt{\\sqrt{\\sqrt{\\sqrt{3} + 2} + 2} + 2} + 2} + 2} + 2} + 2}\n",
    "= 3.141583892...\n",
    "$$\n",
    "</font>\n"
   ]
  },
  {
   "cell_type": "markdown",
   "metadata": {},
   "source": [
    "<a id=\"Solving\"></a>\n",
    "# Solving equations with SymPy"
   ]
  },
  {
   "cell_type": "markdown",
   "metadata": {},
   "source": [
    "One can solve equations with Sympy. The following script shows how to solve $x^2=x+1$:"
   ]
  },
  {
   "cell_type": "code",
   "execution_count": 18,
   "metadata": {},
   "outputs": [
    {
     "name": "stdout",
     "output_type": "stream",
     "text": [
      "[1/2 - sqrt(5)/2, 1/2 + sqrt(5)/2]\n"
     ]
    }
   ],
   "source": [
    "var('x') # we declare the variable\n",
    "SetOfSolutions=solve(x**2-x-1,x)\n",
    "print(SetOfSolutions)\n"
   ]
  },
  {
   "cell_type": "markdown",
   "metadata": {},
   "source": [
    "<a id=\"Easy\"></a>\n",
    "### Exercise 4.  Solving equations with Sympy: the easy case\n",
    "\n",
    "Let $n\\geq 1$ be an integer, we are interested in solving the equation\n",
    "\\begin{equation}\n",
    "x^3 +nx =1.\\tag{$\\star$}\n",
    "\\end{equation}\n",
    "\n",
    "In the script below we plot $x \\mapsto x^3$, and $x \\mapsto 1-nx$ for $0\\leq x\\leq 1$ and for several (large) values of $n$. This suggests that Equation $(\\star)$ has a unique real solution in the interval $[0,1]$, that we will denote by $S_n$."
   ]
  },
  {
   "cell_type": "code",
   "execution_count": 5,
   "metadata": {},
   "outputs": [
    {
     "data": {
      "image/png": "[encoded data removed]",
      "text/plain": [
       "<matplotlib.figure.Figure at 0x4738210>"
      ]
     },
     "metadata": {},
     "output_type": "display_data"
    }
   ],
   "source": [
    "RangeOf_x=np.arange(0,1,0.01)\n",
    "\n",
    "plt.plot(RangeOf_x,RangeOf_x**3,label='x $\\mapsto$ x^3')\n",
    "\n",
    "for n in [10, 20, 30]:\n",
    "    f=[1-n*x for x in RangeOf_x]\n",
    "    plt.plot(RangeOf_x,f,label='x $\\mapsto$ 1-nx for n ='+str(n)+' ')\n",
    "\n",
    "plt.xlim(0, 1),plt.ylim(-1, 1)\n",
    "plt.xlabel('Value of x')\n",
    "plt.legend()\n",
    "plt.title('Location of S_n')\n",
    "plt.show()\n"
   ]
  },
  {
   "cell_type": "markdown",
   "metadata": {},
   "source": [
    "<div markdown=1 class=\"DoIt\"> **(Theory)**\n",
    "\n",
    "1. Prove that indeed for every $n\\geq 1$, Equation $(\\star)$ has a unique real solution in the interval $[0,1]$. \n",
    "2. According to the plot, what can we conjecture for the limit $S_n$?"
   ]
  },
  {
   "cell_type": "markdown",
   "metadata": {},
   "source": [
    "<div markdown=1 class=\"Answers\"> \n",
    "1. The map $x\\mapsto f(x)=x^3+nx -1$ is continuous and increasing on $[0,1]$, since\n",
    "$$\n",
    "f'(x)=3x^2 +n > n>0.\n",
    "$$\n",
    "Besides,\n",
    "$$\n",
    "f(0)=0^3-n\\times 0-1=-1,\\qquad f(1)=1^3+n\\times 1-1=n>0.\n",
    "$$\n",
    "This implies that there is a unique $S_n \\in(0,1)$ such that\n",
    "$f(S_n)=0$, <i>i.e.</i>\n",
    "$$\n",
    "(S_n)^3 +nS_n =1.\n",
    "$$\n",
    "2. On the figure above we observe that when $n\\to +\\infty$, the solution of Equation $(\\star)$ seems to get closer and closer to zero.<br>\n",
    "We therefore conjecture \n",
    "$$\n",
    "\\lim_{n\\to+\\infty} S_n=0.\n",
    "$$"
   ]
  },
  {
   "cell_type": "markdown",
   "metadata": {},
   "source": [
    "<div markdown=1 class=\"DoIt\"> <br>\n",
    "\n",
    "1. Use the function `solve()` to compute the exact expression of $S_n$.\n",
    "2. Use `SymPy` and the function `series`to get the asymptotic expansion of  $S_n$ (up to $\\mathcal{O}(1/n^5)$). Check your previous conjecture."
   ]
  },
  {
   "cell_type": "code",
   "execution_count": 27,
   "metadata": {},
   "outputs": [
    {
     "data": {
      "text/latex": [
       "$\\displaystyle - \\frac{n}{3 \\sqrt[3]{\\sqrt{\\frac{n^{3}}{27} + \\frac{1}{4}} + \\frac{1}{2}}} + \\sqrt[3]{\\sqrt{\\frac{n^{3}}{27} + \\frac{1}{4}} + \\frac{1}{2}}$"
      ],
      "text/plain": [
       "-n/(3*(sqrt(n**3/27 + 1/4) + 1/2)**(1/3)) + (sqrt(n**3/27 + 1/4) + 1/2)**(1/3)"
      ]
     },
     "metadata": {},
     "output_type": "display_data"
    },
    {
     "name": "stdout",
     "output_type": "stream",
     "text": [
      "Taylor expansion when epsilon -> 0 : -1/n**4 + 1/n + O(n**(-5), (n, oo))\n"
     ]
    }
   ],
   "source": [
    "var('x')\n",
    "var('n')#,integer=True)\n",
    "\n",
    "# Question 1.\n",
    "Solutions=solve(x**3+n*x-1,x)\n",
    "Sn=Solutions[0]  # The two other solutions are complex numbers\n",
    "display(Sn)\n",
    "# Question 2.\n",
    "Taylor=series(Sn,n,oo,5)\n",
    "print(\"Taylor expansion when epsilon -> 0 : \"+str(Taylor))\n"
   ]
  },
  {
   "cell_type": "markdown",
   "metadata": {},
   "source": [
    "<div markdown=1 class=\"Answers\"> \n",
    "1. According to the above script,\n",
    "$$\n",
    "\\frac{- 2 \\sqrt[3]{18} n + \\sqrt[3]{12} \\left(\\sqrt{3} \\sqrt{4 n^{3} + 27} + 9\\right)^{\\frac{2}{3}}}{6 \\sqrt[3]{\\sqrt{3} \\sqrt{4 n^{3} + 27} + 9}}.\n",
    "$$\n",
    "2. SymPy gives\n",
    "$$\n",
    "S_n=\\frac{1}{n}-\\frac{1}{n^4}+\\mathcal{O}(1/n^5).\n",
    "$$\n",
    "Indeed, this goes to zero as expected."
   ]
  },
  {
   "cell_type": "markdown",
   "metadata": {},
   "source": [
    "<a id=\"Help\"></a>\n",
    "### **(Bonus)** Exercise 5. Solving equations: when SymPy needs help\n",
    " \n",
    "We consider the following equation:\n",
    "\\begin{equation}\n",
    "X^5-3\\varepsilon X^4-1=0, \\tag{$\\star$}\n",
    "\\end{equation}\n",
    "where $\\varepsilon$ is a positive parameter. As in previous exercise a quick analysis shows that if $\\varepsilon>0$ is small enough then ($\\star$) has a unique real solution, that we denote by $S_\\varepsilon$."
   ]
  },
  {
   "cell_type": "markdown",
   "metadata": {},
   "source": [
    "The degree of this equation is too high to be solved by `SymPy`:"
   ]
  },
  {
   "cell_type": "code",
   "execution_count": 28,
   "metadata": {},
   "outputs": [
    {
     "data": {
      "text/plain": [
       "[]"
      ]
     },
     "execution_count": 28,
     "metadata": {},
     "output_type": "execute_result"
    }
   ],
   "source": [
    "var('x')\n",
    "var('e')\n",
    "solve(x**5-3*e*x**4-1,x)\n"
   ]
  },
  {
   "cell_type": "markdown",
   "metadata": {},
   "source": [
    "Indeed, `SymPy` needs help to handle this equation."
   ]
  },
  {
   "cell_type": "markdown",
   "metadata": {},
   "source": [
    "In the above script we plotted the function $f(x)=x^5-3\\varepsilon x^4-1$ for some small $\\varepsilon$. \n",
    "This suggests that $\\lim_{\\varepsilon \\to 0}S_\\varepsilon=1$."
   ]
  },
  {
   "cell_type": "code",
   "execution_count": 30,
   "metadata": {},
   "outputs": [
    {
     "data": {
      "image/png": "[encoded data removed]",
      "text/plain": [
       "<Figure size 432x288 with 1 Axes>"
      ]
     },
     "metadata": {
      "needs_background": "light"
     },
     "output_type": "display_data"
    }
   ],
   "source": [
    "RangeOf_x=np.arange(0,2,0.01)\n",
    "\n",
    "def ToBeZero(x,eps):\n",
    "    return x**5+x**4*(-3*eps) -1\n",
    "\n",
    "eps=0.001\n",
    "plt.plot(RangeOf_x,[ToBeZero(x,eps) for x in RangeOf_x],label='x**5+x**4*(-3*eps)-1')\n",
    "\n",
    "plt.xlim(0, 2)\n",
    "plt.ylim(-1, 1)\n",
    "plt.plot([-2,2],[0,0])\n",
    "plt.plot([1,1],[-2,2])\n",
    "plt.xlabel('Value of x')\n",
    "plt.title('Location of S_eps, with eps ='+str(eps))\n",
    "plt.legend()\n",
    "plt.show()\n"
   ]
  },
  {
   "cell_type": "markdown",
   "metadata": {},
   "source": [
    "<div markdown=1 class=\"DoIt\"><br>\n",
    "We admit that $S_\\varepsilon$ can be written as \n",
    "\\begin{equation}\n",
    "S_\\varepsilon = 1+ r\\varepsilon + s\\varepsilon^2+ \\mathcal{O}(\\varepsilon^3),\n",
    "\\end{equation}\n",
    "for some real $r,s$. Use `SymPy` to find $r,s$.<br>\n",
    "<i>(You can use any `SymPy` function already seen in this notebook.)<i>"
   ]
  },
  {
   "cell_type": "code",
   "execution_count": 23,
   "metadata": {},
   "outputs": [
    {
     "name": "stdout",
     "output_type": "stream",
     "text": [
      "-3*eps + 5*eps*r + 5*eps**2*s - 12*eps**2*r + 10*eps**2*r**2 + O(eps**3)\n"
     ]
    },
    {
     "data": {
      "text/plain": [
       "[(3/5, 18/25)]"
      ]
     },
     "execution_count": 23,
     "metadata": {},
     "output_type": "execute_result"
    }
   ],
   "source": [
    "var('r')\n",
    "var('s')\n",
    "var('eps')\n",
    "Expression=ToBeZero(1+r*eps+s*eps**2+O(eps**3),eps)\n",
    "\n",
    "Simple=simplify(Expression)\n",
    "print(Simple)\n",
    "\n",
    "solve([-3+5*r,5*s-12*r+10*r**2],[r,s])\n"
   ]
  },
  {
   "cell_type": "markdown",
   "metadata": {},
   "source": [
    "<div markdown=1 class=\"Answers\"> If we plug $ 1+ r\\varepsilon + s\\varepsilon^2+ \\mathcal{O}(\\varepsilon^3)$ into equation ($\\star$) we obtain (with the script):\n",
    "\\begin{equation}\n",
    "0=-3\\varepsilon + 5r\\varepsilon + 5s\\varepsilon^2 - 12r\\varepsilon^2 + 10r^2\\varepsilon^2 + \\mathcal{O}(\\varepsilon^3).\n",
    "\\tag{$\\mathcal{E}$}\n",
    "\\end{equation}\n",
    "If we divide equation ($\\mathcal{E}$) by $\\varepsilon$ we obtain\n",
    "$$\n",
    "0=-3 + 5r + 5s\\varepsilon - 12r\\varepsilon + 10r^2\\varepsilon + \\mathcal{O}(\\varepsilon^2),\n",
    "$$\n",
    "which yields $-3+5r=0$ by letting $\\varepsilon \\to 0$, i.e. $r=3/5$.\n",
    "\n",
    "If we plug this into ($\\mathcal{E}$) and divide by $\\varepsilon^2$ we obtain\n",
    "$$\n",
    "0=5s - 12r + 10r^2 + \\mathcal{O}(\\varepsilon),\n",
    "$$\n",
    "which gives $5s-12r+10r^2=0$, i.e. $s=18/25$.\n",
    "<br><br>\n",
    "Finally,\n",
    "$$\n",
    "S_\\varepsilon=1+\\tfrac{3}{5}\\varepsilon + \\tfrac{18}{25}\\varepsilon^2 + \\mathcal{O}(\\varepsilon^2),\n",
    "$$\n"
   ]
  },
  {
   "cell_type": "code",
   "execution_count": null,
   "metadata": {},
   "outputs": [],
   "source": []
  }
 ],
 "metadata": {
  "kernelspec": {
   "display_name": "Python 3 (ipykernel)",
   "language": "python",
   "name": "python3"
  },
  "language_info": {
   "codemirror_mode": {
    "name": "ipython",
    "version": 3
   },
   "file_extension": ".py",
   "mimetype": "text/x-python",
   "name": "python",
   "nbconvert_exporter": "python",
   "pygments_lexer": "ipython3",
   "version": "3.9.7"
  },
  "vscode": {
   "interpreter": {
    "hash": "31f2aee4e71d21fbe5cf8b01ff0e069b9275f58929596ceb00d14d90e3e16cd6"
   }
  }
 },
 "nbformat": 4,
 "nbformat_minor": 2
}
