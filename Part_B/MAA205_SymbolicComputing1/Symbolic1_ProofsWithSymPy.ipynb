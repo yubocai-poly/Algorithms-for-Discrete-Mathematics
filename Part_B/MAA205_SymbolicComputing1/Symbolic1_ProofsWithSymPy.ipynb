{
 "cells": [
  {
   "cell_type": "markdown",
   "metadata": {},
   "source": [
    "<center>**Bachelor of Ecole Polytechnique**</center>\n",
    "<center>Computational Mathematics, year 2, semester 1</center>\n",
    "<center>Lecturer: Lucas Gerin <a href=\"mailto:lucas.gerin@polytechnique.edu\">(send mail)</a></center>\n",
    "\n",
    "# Symbolic computing 1: Proofs with SymPy\n"
   ]
  },
  {
   "cell_type": "markdown",
   "metadata": {},
   "source": [
    "## Table of contents\n",
    "\n",
    "- [Introduction to SymPy](#introduction)\n",
    "- [Let SymPy do the proof](#LetSymPy)\n",
    " * [Archimedes vs SymPy](#Archimedes)\n",
    "- [Solving equations](#Solving)\n",
    " * [The easy case](#Easy)\n",
    " * [Bonus: When SymPy needs help](#Help)\n"
   ]
  },
  {
   "cell_type": "code",
   "execution_count": 21,
   "metadata": {},
   "outputs": [
    {
     "data": {
      "text/html": [
       "<link href='http://fonts.googleapis.com/css?family=Fenix' rel='stylesheet' type='text/css'>\n",
       "<link href='http://fonts.googleapis.com/css?family=Alegreya+Sans:100,300,400,500,700,800,900,100italic,300italic,400italic,500italic,700italic,800italic,900italic' rel='stylesheet' type='text/css'>\n",
       "<link href='http://fonts.googleapis.com/css?family=Source+Code+Pro:300,400' rel='stylesheet' type='text/css'>\n",
       "<link href=\"https://fonts.googleapis.com/css?family=Oswald|Raleway\" rel=\"stylesheet\" type='text/css'> \n",
       "<style>\n",
       ".prompt{\n",
       "    display: none !important;\n",
       "}\n",
       "\n",
       ".rendered_html pre {\n",
       "    border: 1px solid #f0f6f9 !important;\n",
       "}\n",
       "\n",
       ".rendered_html pre, .rendered_html code {\n",
       "    background-color: #d3d8db !important;\n",
       "    padding: 1% !important;\n",
       "    line-height: 200% !important;\n",
       "    border-radius: 10px !important;\n",
       "}\n",
       "\n",
       "div.input_area {\n",
       "    border-radius: 10px !important;\n",
       "    background-color: #e1e1e6 !important;\n",
       "}\n",
       "\n",
       "div.cell{\n",
       "        width:85% !important;\n",
       "        margin-left:5% !important;\n",
       "        /*margin-right:auto;*/\n",
       "    }\n",
       "    h1, h2, h3, h4, h5 {\n",
       "        font-family: 'Oswald', sans-serif; !important;\n",
       "        font-style: oblique !important;\n",
       "    }\n",
       "    div.text_cell_render{\n",
       "        font-family: 'Raleway', sans-serif; !important;\n",
       "        line-height: 135% !important;\n",
       "        font-size: 120% !important;\n",
       "        width:100%;/*600px;*/\n",
       "        /*margin-left:auto;*/\n",
       "        /*margin-right:auto;*/\n",
       "    }\n",
       "    .CodeMirror{\n",
       "            font-family: \"Source Code Pro\" !important;\n",
       "\t\t\tfont-size: 100% !important;\n",
       "    }\n",
       "    .text_cell_render p{\n",
       "        text-align: justify !important;\n",
       "    }\n",
       "    .text_cell_render h1 {\n",
       "        font-weight: 200 !important;\n",
       "\t\tline-height: 100% !important;\n",
       "        color:#47597A !important;\n",
       "        margin-bottom: 10.em !important;\n",
       "        margin-top: 50.em !important;\n",
       "        padding-bottom: 50.em !important;\n",
       "        padding-top: 50.em !important;\n",
       "        display: block !important;\n",
       "        font-size: 300% !important;\n",
       "        text-align: center !important;\n",
       "        border-bottom: 1px solid #47597A !important;\n",
       "        border-top: 1px solid #47597A !important;\n",
       "    }\n",
       "    .text_cell_render h2 {\n",
       "        font-weight: 200 !important;\n",
       "\tline-height: 100% !important;\n",
       "        color:#47597A !important;\n",
       "        margin-bottom: 0.5em !important;\n",
       "        margin-top: 0.5em !important;\n",
       "        display: block !important;\n",
       "        font-size: 200% !important;\n",
       "        border-bottom: 1px solid #47597A !important;\n",
       "    }\n",
       "    .text_cell_render h3 {\n",
       "        font-weight: 200 !important;\n",
       "\tline-height: 100% !important;\n",
       "        color:#47597A !important;\n",
       "        margin-bottom: 0.5em !important;\n",
       "        margin-top: 0.5em !important;\n",
       "        display: block !important;\n",
       "        font-size: 150% !important;\n",
       "    }\n",
       "    .text_cell_render h4 {\n",
       "        font-style: italic !important;\n",
       "        font-weight: bold !important;\n",
       "\tline-height: 100% !important;\n",
       "        color:#47597A !important;\n",
       "        display: block !important;\n",
       "        font-size: 100% !important;\n",
       "    }\n",
       "    .text_cell_render h5 {\n",
       "        font-weight: 200 !important;\n",
       "\tline-height: 100% !important;\n",
       "        color:#47597A !important;\n",
       "        margin-bottom: 0.5em !important;\n",
       "        margin-top: 0.5em !important;\n",
       "        display: block !important;\n",
       "        font-size: 100% !important;\n",
       "    }\n",
       "    .text_cell_render ul {\n",
       "\tlist-style-type: disc !important;\n",
       "\tline-height: 2;\n",
       "\t/*color:#47597A !important;*/\n",
       "    }\n",
       "    .warning{\n",
       "        color: rgb( 240, 20, 20 ) !important;\n",
       "        }\n",
       "    .Abstract {  \n",
       "\ttext-align: justify;\n",
       "\tbackground-color: #d6edf9;\n",
       "\tborder-left: 5px solid #47597A;\n",
       "\tpadding: 0.5em;\n",
       "\tmargin: 0  150px 0 150px;\n",
       "    }\n",
       "    .Def {    \n",
       "\tbackground-color: #d9f7d7;\n",
       "\tborder-left: 5px solid #4a7047;\n",
       "\tpadding: 0.5em;\n",
       "    }\n",
       "    .Def:before {\n",
       "\tcontent: \"Definition.\";\n",
       "\tcolor:#4a7047;\n",
       "\tfont-weight: bold;\n",
       "\tfont-style: normal;\n",
       "    }\n",
       "    .DoIt {    \n",
       "\tbackground-color: #e8cfc9;\n",
       "\tborder-left: 5px solid #a90e05;\n",
       "\tpadding: 0.5em;\n",
       "    }\n",
       "    .DoIt:before {\n",
       "\tcontent: \"Do it yourself.\";\n",
       "\tcolor:#a90e05;\n",
       "\tfont-weight: bold;\n",
       "\tfont-style: normal;\n",
       "    }\n",
       "    .Answers {    \n",
       "\tbackground-color: #DDA0DD;\n",
       "\tborder-left: 5px solid #9932CC;\n",
       "\tpadding: 0.5em;\n",
       "    }\n",
       "    .Answers:before {\n",
       "\tcontent: \"Answers.\";\n",
       "\tcolor:#682145;\n",
       "\tfont-weight: bold;\n",
       "\tfont-style: normal;\n",
       "    }\n",
       "    .Prop {    \n",
       "\tbackground-color:#f9ecd1;\n",
       "\tborder-left: 5px solid #ba7021;\n",
       "\tpadding: 0.5em;\n",
       "    }\n",
       "   .Prop:before {\n",
       "       content: \"Proposition.\";\n",
       "       color:#ba7021;\n",
       "       font-weight: bold;\n",
       "       font-style: normal;\n",
       "    }\n",
       "   .Thm {    \n",
       "\tbackground-color:#f9ecd1;\n",
       "\tborder-left: 5px solid #ba7021;\n",
       "\tpadding: 0.5em;\n",
       "    }\n",
       "   .Thm:before {\n",
       "       content: \"Theorem.\";\n",
       "       color:#ba7021;\n",
       "       font-weight: bold;\n",
       "       font-style: normal;\n",
       "    } \n",
       "   .Algo {    \n",
       "\tbackground-color:#f9ecd1;\n",
       "\tborder-left: 5px solid #ba7021;\n",
       "\tpadding: 0.5em;\n",
       "    }\n",
       "   .Algo:before {\n",
       "       content: \"Algorithm.\";\n",
       "       color:#ba7021;\n",
       "       font-weight: bold;\n",
       "       font-style: normal;\n",
       "    }\n",
       "    .Rmk {    \n",
       "\tbackground-color: #dbf1fc;\n",
       "\tborder-left: 5px solid #385487;\n",
       "\tpadding: 0.5em;\n",
       "    }\n",
       "    .Rmk:before {\n",
       "\tcontent: \"Remark.\";\n",
       "\tcolor:#385487;\n",
       "\tfont-weight: bold;\n",
       "\tfont-style: normal;\n",
       "    }\n",
       "    .Ex {    \n",
       "\tbackground-color: #dbf1fc;\n",
       "\tborder-left: 5px solid #385487;\n",
       "\tpadding: 0.5em;\n",
       "    }\n",
       "    .Ex:before {\n",
       "\tcontent: \"Example.\";\n",
       "\tcolor:#385487;\n",
       "\tfont-weight: bold;\n",
       "\tfont-style: normal;\n",
       "    }\n",
       "\n",
       "/*    .toc-item-num {\n",
       "#        display: none;\n",
       "#    }\n",
       "*/\n",
       "    .reveal section img{\n",
       "        margin: 0px auto;\n",
       "    }\n",
       "\n",
       "    div.output_area img{\n",
       "        display: block;\n",
       "        margin: 0px auto;\n",
       "    }\n",
       "  \n",
       "</style>\n",
       "\n",
       "<script>\n",
       "MathJax.Hub.Config({\n",
       "TeX: {extensions: [\"AMSmath.js\"] },\n",
       "                tex2jax: {\n",
       "                    inlineMath: [ ['$','$'], [\"\\\\(\",\"\\\\)\"] ],\n",
       "                    displayMath: [ ['$$','$$'], [\"\\\\[\",\"\\\\]\"] ]\n",
       "                },\n",
       "                displayAlign: 'center', // Change this to 'center' to center equations.\n",
       "                \"HTML-CSS\": {\n",
       "                    styles: {'.MathJax_Display': {\"margin\": 4}}\n",
       "                }\n",
       "        });\n",
       "\n",
       "\n",
       "\n",
       "</script>\n"
      ],
      "text/plain": [
       "<IPython.core.display.HTML object>"
      ]
     },
     "execution_count": 21,
     "metadata": {},
     "output_type": "execute_result"
    }
   ],
   "source": [
    "# execute this part to modify the css style\n",
    "from IPython.core.display import HTML\n",
    "def css_styling():\n",
    "    styles = open(\"./style/custom2.css\").read()\n",
    "    return HTML(styles)\n",
    "css_styling()\n"
   ]
  },
  {
   "cell_type": "code",
   "execution_count": 22,
   "metadata": {},
   "outputs": [],
   "source": [
    "## loading python libraries\n",
    "\n",
    "# necessary to display plots inline:\n",
    "%matplotlib inline   \n",
    "\n",
    "# load the libraries\n",
    "import matplotlib.pyplot as plt # 2D plotting library\n",
    "import numpy as np              # package for scientific computing  \n",
    "from pylab import *\n",
    "\n",
    "from math import *              # package for mathematics (pi, arctan, sqrt, factorial ...)\n",
    "import sympy as sympy             # package for symbolic computation\n",
    "from sympy import *\n"
   ]
  },
  {
   "cell_type": "markdown",
   "metadata": {},
   "source": [
    "\n",
    "<a id=\"introduction\"></a>\n",
    "# Introduction to SymPy"
   ]
  },
  {
   "cell_type": "markdown",
   "metadata": {},
   "source": [
    "Using python library `SymPy` we can perform <i>exact</i> computations. For instance, run and compare the following scripts:"
   ]
  },
  {
   "cell_type": "code",
   "execution_count": null,
   "metadata": {},
   "outputs": [
    {
     "name": "stdout",
     "output_type": "stream",
     "text": [
      "With Numpy: \n",
      "root of two is 1.4142135623730951\n",
      "the square of (root of two) is 2.0000000000000004\n",
      "---------\n",
      "With SymPy: \n",
      "root of two is sqrt(2)\n",
      "the square of (root of two) is 2\n"
     ]
    }
   ],
   "source": [
    "print('With Numpy: ')\n",
    "print('root of two is '+str(np.sqrt(2))+'')\n",
    "print('the square of (root of two) is '+str(np.sqrt(2)**2)+'')\n",
    "print('---------')\n",
    "print('With SymPy: ')\n",
    "print('root of two is '+str(sympy.sqrt(2))+'')\n",
    "print('the square of (root of two) is '+str(sympy.sqrt(2)**2)+'')\n"
   ]
  },
  {
   "cell_type": "markdown",
   "metadata": {},
   "source": [
    "One can expand or simplify expressions:"
   ]
  },
  {
   "cell_type": "code",
   "execution_count": 4,
   "metadata": {},
   "outputs": [
    {
     "name": "stdout",
     "output_type": "stream",
     "text": [
      "Simplification/Expansion of algebraic expressions:\n",
      "the square root of 40 is 2*sqrt(10)\n",
      "(root(3)+root(2))**20 is equal to 4517251249 + 1844160100*sqrt(6)\n",
      "----------------\n",
      "Simplification of symbolic expressions:\n",
      "(x**2 - 2*x + 1)/(x - 1) simplifies into x - 1\n"
     ]
    }
   ],
   "source": [
    "print('Simplification/Expansion of algebraic expressions:')\n",
    "print('the square root of 40 is '+str(sympy.sqrt(40))+'')\n",
    "print('(root(3)+root(2))**20 is equal to '+str(expand((sympy.sqrt(3)+sympy.sqrt(2))**20)))\n",
    "#\n",
    "print('----------------')\n",
    "print('Simplification of symbolic expressions:')\n",
    "var('x') # We declare a 'symbolic' variable\n",
    "Expression=(x**2 - 2*x + 1)/(x-1)\n",
    "print(str(Expression) + ' simplifies into '+str(simplify(Expression)))\n"
   ]
  },
  {
   "cell_type": "markdown",
   "metadata": {},
   "source": [
    "With `Sympy` one can also obtain Taylor expansions of functions with `series`:"
   ]
  },
  {
   "cell_type": "code",
   "execution_count": 5,
   "metadata": {},
   "outputs": [
    {
     "name": "stdout",
     "output_type": "stream",
     "text": [
      "Expansion of cos(x) at x=0: 1 - x**2/2 + x**4/24 + O(x**6)\n",
      "Expansion of cos(x) at x=0 at the order 7: 1 - x**2/2 + x**4/24 - x**6/720 + O(x**8)\n",
      "Expansion of cos(1/n) when n -> +oo: 1/(24*n**4) - 1/(2*n**2) + 1 + O(n**(-6), (n, oo))\n"
     ]
    }
   ],
   "source": [
    "# Real variable\n",
    "var('x')\n",
    "Expression=cos(x)\n",
    "print('Expansion of cos(x) at x=0: '+str(Expression.series(x,0)))\n",
    "print('Expansion of cos(x) at x=0 at the order 7: '+str(Expression.series(x,0,8)))\n",
    "\n",
    "# integer variable\n",
    "var('n',integer=True)\n",
    "Expression=cos(1/n)\n",
    "print('Expansion of cos(1/n) when n -> +oo: '+str(Expression.series(n,oo)))   # oo means infinity (!)\n"
   ]
  },
  {
   "cell_type": "markdown",
   "metadata": {},
   "source": [
    "`SymPy` can also compute with \"big O's\". (By default $O(x)$ is considered for $x\\to 0$.)"
   ]
  },
  {
   "cell_type": "code",
   "execution_count": 6,
   "metadata": {},
   "outputs": [
    {
     "data": {
      "text/latex": [
       "$\\displaystyle \\left(x + O\\left(x^{3}\\right)\\right) \\left(x + x^{2} + O\\left(x^{3}\\right)\\right)$"
      ],
      "text/plain": [
       "(x + O(x**3))*(x + x**2 + O(x**3))"
      ]
     },
     "metadata": {},
     "output_type": "display_data"
    },
    {
     "name": "stdout",
     "output_type": "stream",
     "text": [
      "simplifies into:\n"
     ]
    },
    {
     "data": {
      "text/latex": [
       "$\\displaystyle x^{2} + x^{3} + O\\left(x^{4}\\right)$"
      ],
      "text/plain": [
       "x**2 + x**3 + O(x**4)"
      ]
     },
     "execution_count": 6,
     "metadata": {},
     "output_type": "execute_result"
    }
   ],
   "source": [
    "var('x')\n",
    "\n",
    "display((x+O(x**3))*(x+x**2+O(x**3)))\n",
    "print('simplifies into:')\n",
    "simplify((x+O(x**3))*(x+x**2+O(x**3)))\n"
   ]
  },
  {
   "cell_type": "markdown",
   "metadata": {},
   "source": [
    "<div markdown=1 class=\"Rmk\"> A nice feature of `Sympy` is that you can export formulas in $\\texttt{LateX}$. You also can get nice displays with `display`."
   ]
  },
  {
   "cell_type": "code",
   "execution_count": 7,
   "metadata": {},
   "outputs": [
    {
     "name": "stdout",
     "output_type": "stream",
     "text": [
      "2*cos(x + y + pi/4)**2\n",
      "2 \\cos^{2}{\\left(x + y + \\frac{\\pi}{4} \\right)}\n"
     ]
    },
    {
     "data": {
      "text/latex": [
       "$\\displaystyle 2 \\cos^{2}{\\left(x + y + \\frac{\\pi}{4} \\right)}$"
      ],
      "text/plain": [
       "2*cos(x + y + pi/4)**2"
      ]
     },
     "metadata": {},
     "output_type": "display_data"
    }
   ],
   "source": [
    "var('x y')\n",
    "formula=simplify((cos(x+y)-sin(x+y))**2)\n",
    "print(formula)\n",
    "print(latex(formula))\n",
    "display(formula)\n"
   ]
  },
  {
   "cell_type": "markdown",
   "metadata": {},
   "source": [
    "**Warning:** Fractions such as $1/4$ must be introduced with `Rational(1,4)` to keep `Sympy` from evaluating the expression. For example:"
   ]
  },
  {
   "cell_type": "code",
   "execution_count": 8,
   "metadata": {},
   "outputs": [
    {
     "name": "stdout",
     "output_type": "stream",
     "text": [
      "(1/4)^3 = 0.015625\n",
      "(1/4)^3 = 1/64\n"
     ]
    }
   ],
   "source": [
    "print('(1/4)^3 = '+str((1/4)**3))\n",
    "print('(1/4)^3 = '+str(Rational(1,4)**3))\n"
   ]
  },
  {
   "cell_type": "markdown",
   "metadata": {},
   "source": [
    "<a id=\"LetSymPy\"></a>\n",
    "# Let SymPy do the proofs"
   ]
  },
  {
   "cell_type": "markdown",
   "metadata": {},
   "source": [
    "### Exercise 1.  A warm-up"
   ]
  },
  {
   "cell_type": "markdown",
   "metadata": {},
   "source": [
    "<div markdown=1 class=\"DoIt\"> \n",
    "\n",
    "Set $\\phi=\\frac{1+\\sqrt{5}}{2}$. Use `SymPy` to simplify $F=\\frac{\\phi^4-\\phi}{1+\\phi^7}$."
   ]
  },
  {
   "cell_type": "code",
   "execution_count": 5,
   "metadata": {},
   "outputs": [
    {
     "name": "stdout",
     "output_type": "stream",
     "text": [
      "The result of F is: \n"
     ]
    },
    {
     "data": {
      "text/latex": [
       "$\\displaystyle \\frac{14}{29} - \\frac{4 \\sqrt{5}}{29}$"
      ],
      "text/plain": [
       "14/29 - 4*sqrt(5)/29"
      ]
     },
     "execution_count": 5,
     "metadata": {},
     "output_type": "execute_result"
    }
   ],
   "source": [
    "phi = (1 + sympy.sqrt(5)) / 2\n",
    "F = (phi**4 - phi) / (1 + phi**7)\n",
    "print('The result of F is: ')\n",
    "simplify(F)"
   ]
  },
  {
   "cell_type": "markdown",
   "metadata": {},
   "source": [
    "### Exercise 2.  A simple (?) recurrence\n",
    "\n",
    "We will see how to use SymPy to prove a mathematical statement. Our aim is to make as rigorous proofs as possible, as long as we trust SymPy."
   ]
  },
  {
   "cell_type": "markdown",
   "metadata": {},
   "source": [
    "<div markdown=1 class=\"DoIt\"> <br>\n",
    "\n",
    "Let $a,b$ be two real numbers $\\neq 0$, we define the sequence $(u_n)_{n\\geq 0}$ as follows: $u_0=a,u_1=b$ and for $n\\geq 2$\n",
    "$$\n",
    "u_{n}=\\frac{1+u_{n-1}}{u_{n-2}}.\n",
    "$$\n",
    "\n",
    "1. Write a short program which returns the $15$ first values of $u_n$ in terms of symbolic variables $a,b$.</i>\n",
    "The output should be something like:\n",
    "```\n",
    "u_0 = a\n",
    "u_1 = b\n",
    "u_2 = (b + 1)/a\n",
    "...\n",
    "```\n",
    "2. Use `SymPy` to make and prove a conjecture for the asymptotic behaviour of the sequence $(u_n)$, for every reals $a,b$."
   ]
  },
  {
   "cell_type": "code",
   "execution_count": 21,
   "metadata": {},
   "outputs": [
    {
     "name": "stdout",
     "output_type": "stream",
     "text": [
      "[a, b, (b + 1)/a, (a + b + 1)/(a*b), (a + 1)/b, a, b, (b + 1)/a, (a + b + 1)/(a*b), (a + 1)/b, a, b, (b + 1)/a, (a + b + 1)/(a*b), (a + 1)/b, a]\n",
      "The cycle of the sequence is 4 and like following: \n",
      "a\n",
      "b\n",
      "(b + 1)/a\n",
      "(a + b + 1)/(a*b)\n"
     ]
    }
   ],
   "source": [
    "# Qeustion 1\n",
    "def recurrence_computation(a, b, n):\n",
    "    var('a b')\n",
    "    u_0 = a\n",
    "    u_1 = b\n",
    "    result = [u_0, u_1]\n",
    "    for n in range(2, n):\n",
    "        u_n = simplify((1 + u_1) / u_0)\n",
    "        result.append(u_n)\n",
    "        u_0 = simplify(u_1)\n",
    "        u_1 = simplify(u_n)\n",
    "        \n",
    "    return result\n",
    "\n",
    "print(recurrence_computation(a, b, 16))\n",
    "\n",
    "# Question 2\n",
    "print('The cycle of the sequence is 4 and like following: ')\n",
    "lis = recurrence_computation(a, b, 9)\n",
    "for i in range(5, 9):\n",
    "    print(lis[i])"
   ]
  },
  {
   "cell_type": "markdown",
   "metadata": {},
   "source": [
    "<div markdown=1 class=\"Answers\"> \n",
    "\n",
    "1. The result of the first 15 values of $u_n$ is like above.\n",
    "\n",
    "2. By using `SymPy` to simplify the expression, we can get the asymptotic behaviour of the sequence $(u_n)$ with cycle 4. We got $u_{0} = a$, $u_{1} = b$, $u_{2} = \\frac{b+1}{a}$, $u_{3} = \\frac{a+b+1}{a \\cdot b}$"
   ]
  },
  {
   "cell_type": "markdown",
   "metadata": {},
   "source": [
    "<a id=\"Archimedes\"></a>\n",
    "### Exercise 3. What if Archimedes had known `Sympy`?\n",
    "\n",
    "For $n\\geq 1$, let $\\mathcal{P}_n$ be a regular $3\\times 2^n$-gon with radius $1$. Here is $\\mathcal{P}_1$:\n",
    "\n",
    "<img src=\"./figures/Archimede.jpg\" alt=\"Roots\" style=\"width: 350px;\"/>\n",
    "\n",
    "Archimedes (IIIrd century BC) used the fact that $\\mathcal{P}_n$ gets closer and closer to the unit circle to obtain good approximations of $\\pi$.<br>\n",
    "We will use SymPy to deduce nice formulas for approximations of $\\pi$."
   ]
  },
  {
   "cell_type": "markdown",
   "metadata": {},
   "source": [
    "<div markdown=1 class=\"DoIt\">\n",
    "\n",
    "Let $L_n$ be the length of any side of $\\mathcal{P}_n$. Compute $L_1$ and use the following picture to write $L_{n+1}$ as a function of $L_n$:\n",
    "\n",
    "* $O$ is the center of the circle, $OC=1$.\n",
    "* $(OB)$ is the bisector of $\\widehat{DOC}$.\n",
    "* $\\widehat{OAC}$ is a right angle.\n",
    "\n",
    "<img src=\"./figures/SchemaArchimede.jpg\" alt=\"Roots\" style=\"width: 350px;\"/>"
   ]
  },
  {
   "cell_type": "markdown",
   "metadata": {},
   "source": [
    "<div markdown=1 class=\"Answers\">\n",
    "\n",
    "Since we got $\\triangle OCD$ is equilateral triangle, therefore we can get $L_1 = r = 1$. \n",
    "\n",
    "Then we try to compute $L_{n+1}$. Since we got the 2 times with regular $3\\times 2^n$-gon every time, therefore we have $\\angle COD_{n+1} = \\angle COB_{n} =\\frac{1}{2} \\angle COD_{n}$. \n",
    "\n",
    "Besides, $OAC$ is rectangle at $A$. By Pythagora's theorem\n",
    "$$\n",
    "1^2=OA^2+AC^2=OA^2+(L_n/2)^2.\n",
    "$$\n",
    "$BAC$ is also rectangle at $A$, therefore\n",
    "\\begin{align*}\n",
    "L_{n+1}^2=BC^2&=AB^2+BC^2\\\\\n",
    "&=(1-OA)^2+(L_n/2)^2\\\\\n",
    "&=\\bigg(1-\\sqrt{1-(L_n/2)^2}\\bigg)^2+(L_n/2)^2\\\\\n",
    "&=1+1-(L_n/2)^2-2\\sqrt{1-(L_n/2)^2}+(L_n/2)^2\\\\\n",
    "&=2-2\\sqrt{1-(L_n/2)^2}.\n",
    "\\end{align*}\n",
    "Finally we obtain\n",
    "\\begin{align*}\n",
    "L_{n+1}=\\sqrt{2-2\\sqrt{1-(L_n/2)^2}}.\n",
    "\\end{align*}\n",
    "\n"
   ]
  },
  {
   "cell_type": "markdown",
   "metadata": {},
   "source": [
    "<div markdown=1 class=\"DoIt\">\n",
    "\n",
    "1. Write a script which computes exact expressions for the first values $L_1,L_2,\\dots, L_n$. (First try for small $n$'s.)\n",
    "\n",
    "2. Find a sequence $a_n$ such that $a_nL_n$ converges to $\\pi$ (here we don't ask for a proof, this is quite complicated to prove rigorously). Deduce some good algebraic approximations of $\\pi$. Export your results in $\\texttt{Latex}$ in order to get nice formulas.\n",
    "\n",
    "<i>(In order to check your formulas, you may compute numerical evaluations. With `SymPy`, a numerical evaluation is obtained with `N(expression)`.)</i>"
   ]
  },
  {
   "cell_type": "code",
   "execution_count": 52,
   "metadata": {},
   "outputs": [
    {
     "name": "stdout",
     "output_type": "stream",
     "text": [
      "n =  1\n",
      "The numerical result of pi is  3.0\n"
     ]
    },
    {
     "data": {
      "text/plain": [
       "3"
      ]
     },
     "metadata": {},
     "output_type": "display_data"
    },
    {
     "name": "stdout",
     "output_type": "stream",
     "text": [
      "n =  2\n",
      "The numerical result of pi is  3.105828541\n"
     ]
    },
    {
     "data": {
      "text/latex": [
       "$\\displaystyle 6 \\sqrt{2 - \\sqrt{3}}$"
      ],
      "text/plain": [
       "6*sqrt(2 - sqrt(3))"
      ]
     },
     "metadata": {},
     "output_type": "display_data"
    },
    {
     "name": "stdout",
     "output_type": "stream",
     "text": [
      "n =  3\n",
      "The numerical result of pi is  3.132628613\n"
     ]
    },
    {
     "data": {
      "text/latex": [
       "$\\displaystyle 12 \\sqrt{2 - 2 \\sqrt{\\frac{\\sqrt{3}}{4} + \\frac{1}{2}}}$"
      ],
      "text/plain": [
       "12*sqrt(2 - 2*sqrt(sqrt(3)/4 + 1/2))"
      ]
     },
     "metadata": {},
     "output_type": "display_data"
    },
    {
     "name": "stdout",
     "output_type": "stream",
     "text": [
      "n =  4\n",
      "The numerical result of pi is  3.139350203\n"
     ]
    },
    {
     "data": {
      "text/latex": [
       "$\\displaystyle 24 \\sqrt{2 - 2 \\sqrt{\\frac{\\sqrt{\\frac{\\sqrt{3}}{4} + \\frac{1}{2}}}{2} + \\frac{1}{2}}}$"
      ],
      "text/plain": [
       "24*sqrt(2 - 2*sqrt(sqrt(sqrt(3)/4 + 1/2)/2 + 1/2))"
      ]
     },
     "metadata": {},
     "output_type": "display_data"
    },
    {
     "name": "stdout",
     "output_type": "stream",
     "text": [
      "n =  5\n",
      "The numerical result of pi is  3.141031951\n"
     ]
    },
    {
     "data": {
      "text/latex": [
       "$\\displaystyle 48 \\sqrt{2 - 2 \\sqrt{\\frac{\\sqrt{\\frac{\\sqrt{\\frac{\\sqrt{3}}{4} + \\frac{1}{2}}}{2} + \\frac{1}{2}}}{2} + \\frac{1}{2}}}$"
      ],
      "text/plain": [
       "48*sqrt(2 - 2*sqrt(sqrt(sqrt(sqrt(3)/4 + 1/2)/2 + 1/2)/2 + 1/2))"
      ]
     },
     "metadata": {},
     "output_type": "display_data"
    },
    {
     "name": "stdout",
     "output_type": "stream",
     "text": [
      "n =  6\n",
      "The numerical result of pi is  3.141452472\n"
     ]
    },
    {
     "data": {
      "text/latex": [
       "$\\displaystyle 96 \\sqrt{2 - 2 \\sqrt{\\frac{\\sqrt{\\frac{\\sqrt{\\frac{\\sqrt{\\frac{\\sqrt{3}}{4} + \\frac{1}{2}}}{2} + \\frac{1}{2}}}{2} + \\frac{1}{2}}}{2} + \\frac{1}{2}}}$"
      ],
      "text/plain": [
       "96*sqrt(2 - 2*sqrt(sqrt(sqrt(sqrt(sqrt(3)/4 + 1/2)/2 + 1/2)/2 + 1/2)/2 + 1/2))"
      ]
     },
     "metadata": {},
     "output_type": "display_data"
    },
    {
     "name": "stdout",
     "output_type": "stream",
     "text": [
      "n =  7\n",
      "The numerical result of pi is  3.141557608\n"
     ]
    },
    {
     "data": {
      "text/latex": [
       "$\\displaystyle 192 \\sqrt{2 - 2 \\sqrt{\\frac{\\sqrt{\\frac{\\sqrt{\\frac{\\sqrt{\\frac{\\sqrt{\\frac{\\sqrt{3}}{4} + \\frac{1}{2}}}{2} + \\frac{1}{2}}}{2} + \\frac{1}{2}}}{2} + \\frac{1}{2}}}{2} + \\frac{1}{2}}}$"
      ],
      "text/plain": [
       "192*sqrt(2 - 2*sqrt(sqrt(sqrt(sqrt(sqrt(sqrt(3)/4 + 1/2)/2 + 1/2)/2 + 1/2)/2 + 1/2)/2 + 1/2))"
      ]
     },
     "metadata": {},
     "output_type": "display_data"
    }
   ],
   "source": [
    "# Question 1\n",
    "def edge_compute(n):\n",
    "    l1 = 1\n",
    "    for i in range(1, n):\n",
    "        l1 = sympy.sqrt(2 - 2 * sympy.sqrt(1 - l1**2 * Rational(1, 4)))\n",
    "\n",
    "    return l1\n",
    "\n",
    "\n",
    "# Question 2\n",
    "# Here we create a sequence a_n to express the division of the edge of the polygon\n",
    "def anln(n):\n",
    "    var('n')\n",
    "    a_n = 3 * 2**(n - 1)\n",
    "    l_n = edge_compute(n)\n",
    "\n",
    "    return a_n * l_n\n",
    "\n",
    "\n",
    "for i in range(1, 8):\n",
    "    print('n = ', i)\n",
    "    print('The numerical result of pi is ', round(float(anln(i)), 9))\n",
    "    display(anln(i))\n"
   ]
  },
  {
   "cell_type": "markdown",
   "metadata": {},
   "source": [
    "<div markdown=1 class=\"Answers\"> \n",
    "\n",
    "When $n$ goes large, $\\mathcal{P}_n$ gets closer and closer to the unit circle. As the perimeter of $\\mathcal{P}_n$ is $3\\times 2^n L_n$, we expect that\n",
    "$$\n",
    "3\\times 2^n L_n \\to 2\\pi,\n",
    "$$\n",
    "therefore we choose $a_n=3\\times 2^{n-1}$. \n",
    "For $n=8$ we obtain:\n",
    "<font size=\"-1\">\n",
    "$$\n",
    "\\pi \\approx 384 \\sqrt{- \\sqrt{\\sqrt{\\sqrt{\\sqrt{\\sqrt{\\sqrt{\\sqrt{3} + 2} + 2} + 2} + 2} + 2} + 2} + 2}\n",
    "= 3.141583892...\n",
    "$$\n",
    "</font>"
   ]
  },
  {
   "cell_type": "markdown",
   "metadata": {},
   "source": [
    "<a id=\"Solving\"></a>\n",
    "# Solving equations with SymPy"
   ]
  },
  {
   "cell_type": "markdown",
   "metadata": {},
   "source": [
    "One can solve equations with Sympy. The following script shows how to solve $x^2=x+1$:"
   ]
  },
  {
   "cell_type": "code",
   "execution_count": 53,
   "metadata": {},
   "outputs": [
    {
     "name": "stdout",
     "output_type": "stream",
     "text": [
      "[1/2 - sqrt(5)/2, 1/2 + sqrt(5)/2]\n"
     ]
    }
   ],
   "source": [
    "var('x') # we declare the variable\n",
    "SetOfSolutions=solve(x**2-x-1,x)\n",
    "print(SetOfSolutions)"
   ]
  },
  {
   "cell_type": "markdown",
   "metadata": {},
   "source": [
    "<a id=\"Easy\"></a>\n",
    "### Exercise 4.  Solving equations with Sympy: the easy case\n",
    "\n",
    "Let $n\\geq 1$ be an integer, we are interested in solving the equation\n",
    "\\begin{equation}\n",
    "x^3 +nx =1.\\tag{$\\star$}\n",
    "\\end{equation}\n",
    "\n",
    "In the script below we plot $x \\mapsto x^3$, and $x \\mapsto 1-nx$ for $0\\leq x\\leq 1$ and for several (large) values of $n$. This suggests that Equation $(\\star)$ has a unique real solution in the interval $[0,1]$, that we will denote by $S_n$."
   ]
  },
  {
   "cell_type": "code",
   "execution_count": 54,
   "metadata": {},
   "outputs": [
    {
     "data": {
      "image/png": "[encoded data removed]",
      "text/plain": [
       "<Figure size 432x288 with 1 Axes>"
      ]
     },
     "metadata": {
      "needs_background": "light"
     },
     "output_type": "display_data"
    }
   ],
   "source": [
    "RangeOf_x=np.arange(0,1,0.01)\n",
    "\n",
    "plt.plot(RangeOf_x,RangeOf_x**3,label='x $\\mapsto$ x^3')\n",
    "\n",
    "for n in [10, 20, 30]:\n",
    "    f=[1-n*x for x in RangeOf_x]\n",
    "    plt.plot(RangeOf_x,f,label='x $\\mapsto$ 1-nx for n ='+str(n)+' ')\n",
    "\n",
    "plt.xlim(0, 1),plt.ylim(-1, 1)\n",
    "plt.xlabel('Value of x')\n",
    "plt.legend()\n",
    "plt.title('Location of S_n')\n",
    "plt.show()\n"
   ]
  },
  {
   "cell_type": "markdown",
   "metadata": {},
   "source": [
    "<div markdown=1 class=\"DoIt\"> **(Theory)**\n",
    "\n",
    "1. Prove that indeed for every $n\\geq 1$, Equation $(\\star)$ has a unique real solution in the interval $[0,1]$. \n",
    "2. According to the plot, what can we conjecture for the limit $S_n$?"
   ]
  },
  {
   "cell_type": "markdown",
   "metadata": {},
   "source": [
    "<div markdown=1 class=\"Answers\"> \n",
    "\n",
    "**Question 1**\n",
    "\n",
    "The map $x\\mapsto f(x)=x^3+nx -1$ is continuous and increasing on $[0,1]$, since\n",
    "$$\n",
    "f'(x)=3x^2 +n > n>0.\n",
    "$$\n",
    "Besides,\n",
    "$$\n",
    "f(0)=0^3-n\\times 0-1=-1,\\qquad f(1)=1^3+n\\times 1-1=n>0.\n",
    "$$\n",
    "This implies that there is a unique $S_n \\in(0,1)$ such that\n",
    "$f(S_n)=0$, <i>i.e.</i>\n",
    "$$\n",
    "(S_n)^3 +nS_n =1.\n",
    "$$\n",
    "\n",
    "\n",
    "**Question 2**\n",
    "\n",
    "From the graph we can find the intersection of $f(x)=x^3$ and $g(x)=1-nx$ is get closer to 0 as $n$ goes large. Therefore we can conjecture that \n",
    "$$\n",
    "\\lim_{n\\to+\\infty} S_n=0.\n",
    "$$"
   ]
  },
  {
   "cell_type": "markdown",
   "metadata": {},
   "source": [
    "<div markdown=1 class=\"DoIt\"> <br>\n",
    "\n",
    "1. Use the function `solve()` to compute the exact expression of $S_n$.\n",
    "2. Use `SymPy` and the function `series`to get the asymptotic expansion of  $S_n$ (up to $\\mathcal{O}(1/n^5)$). Check your previous conjecture."
   ]
  },
  {
   "cell_type": "code",
   "execution_count": 71,
   "metadata": {},
   "outputs": [
    {
     "name": "stdout",
     "output_type": "stream",
     "text": [
      "The real number solutions of x^3 - nx - 1 = 0 are: \n"
     ]
    },
    {
     "data": {
      "text/latex": [
       "$\\displaystyle - \\frac{n}{3 \\sqrt[3]{\\sqrt{\\frac{n^{3}}{27} + \\frac{1}{4}} + \\frac{1}{2}}} + \\sqrt[3]{\\sqrt{\\frac{n^{3}}{27} + \\frac{1}{4}} + \\frac{1}{2}}$"
      ],
      "text/plain": [
       "-n/(3*(sqrt(n**3/27 + 1/4) + 1/2)**(1/3)) + (sqrt(n**3/27 + 1/4) + 1/2)**(1/3)"
      ]
     },
     "metadata": {},
     "output_type": "display_data"
    },
    {
     "data": {
      "text/latex": [
       "$\\displaystyle \\frac{- 2 \\sqrt[3]{18} n + \\sqrt[3]{12} \\left(\\sqrt{3} \\sqrt{4 n^{3} + 27} + 9\\right)^{\\frac{2}{3}}}{6 \\sqrt[3]{\\sqrt{3} \\sqrt{4 n^{3} + 27} + 9}}$"
      ],
      "text/plain": [
       "(-2*18**(1/3)*n + 12**(1/3)*(sqrt(3)*sqrt(4*n**3 + 27) + 9)**(2/3))/(6*(sqrt(3)*sqrt(4*n**3 + 27) + 9)**(1/3))"
      ]
     },
     "metadata": {},
     "output_type": "display_data"
    },
    {
     "name": "stdout",
     "output_type": "stream",
     "text": [
      "The complex number solutions of x^3 - nx - 1 = 0 are: \n"
     ]
    },
    {
     "data": {
      "text/latex": [
       "$\\displaystyle \\frac{8 \\sqrt[3]{18} n - \\sqrt[3]{12} \\left(1 + \\sqrt{3} i\\right)^{2} \\left(\\sqrt{3} \\sqrt{4 n^{3} + 27} + 9\\right)^{\\frac{2}{3}}}{12 \\left(1 + \\sqrt{3} i\\right) \\sqrt[3]{\\sqrt{3} \\sqrt{4 n^{3} + 27} + 9}}$"
      ],
      "text/plain": [
       "(8*18**(1/3)*n - 12**(1/3)*(1 + sqrt(3)*I)**2*(sqrt(3)*sqrt(4*n**3 + 27) + 9)**(2/3))/(12*(1 + sqrt(3)*I)*(sqrt(3)*sqrt(4*n**3 + 27) + 9)**(1/3))"
      ]
     },
     "metadata": {},
     "output_type": "display_data"
    },
    {
     "data": {
      "text/latex": [
       "$\\displaystyle \\frac{8 \\sqrt[3]{18} n - \\sqrt[3]{12} \\left(1 - \\sqrt{3} i\\right)^{2} \\left(\\sqrt{3} \\sqrt{4 n^{3} + 27} + 9\\right)^{\\frac{2}{3}}}{12 \\left(1 - \\sqrt{3} i\\right) \\sqrt[3]{\\sqrt{3} \\sqrt{4 n^{3} + 27} + 9}}$"
      ],
      "text/plain": [
       "(8*18**(1/3)*n - 12**(1/3)*(1 - sqrt(3)*I)**2*(sqrt(3)*sqrt(4*n**3 + 27) + 9)**(2/3))/(12*(1 - sqrt(3)*I)*(sqrt(3)*sqrt(4*n**3 + 27) + 9)**(1/3))"
      ]
     },
     "metadata": {},
     "output_type": "display_data"
    },
    {
     "name": "stdout",
     "output_type": "stream",
     "text": [
      "Taylor expansion when epsilon -> 0 : -1/n**4 + 1/n + O(n**(-5), (n, oo))\n"
     ]
    },
    {
     "data": {
      "text/latex": [
       "$\\displaystyle - \\frac{1}{n^{4}} + \\frac{1}{n} + O\\left(\\frac{1}{n^{5}}; n\\rightarrow \\infty\\right)$"
      ],
      "text/plain": [
       "-1/n**4 + 1/n + O(n**(-5), (n, oo))"
      ]
     },
     "metadata": {},
     "output_type": "display_data"
    }
   ],
   "source": [
    "# set up variables\n",
    "var('x n')\n",
    "\n",
    "# Question 1\n",
    "solutions = solve(x**3 + n * x - 1, x)\n",
    "print('The real number solutions of x^3 - nx - 1 = 0 are: ')\n",
    "display(solutions[0])\n",
    "display(simplify(solutions[0]))\n",
    "print('The complex number solutions of x^3 - nx - 1 = 0 are: ')\n",
    "display(simplify(solutions[1]))\n",
    "display(simplify(solutions[2]))\n",
    "\n",
    "# Question 2\n",
    "Taylor=series(solutions[0],n,oo,5)\n",
    "print(\"Taylor expansion when epsilon -> 0 : \"+str(Taylor))\n",
    "display(Taylor)"
   ]
  },
  {
   "cell_type": "markdown",
   "metadata": {},
   "source": [
    "<div markdown=1 class=\"Answers\"> \n",
    "\n",
    "**Question 1**\n",
    "\n",
    "According to the above script,\n",
    "$$\n",
    "\\frac{- 2 \\sqrt[3]{18} n + \\sqrt[3]{12} \\left(\\sqrt{3} \\sqrt{4 n^{3} + 27} + 9\\right)^{\\frac{2}{3}}}{6 \\sqrt[3]{\\sqrt{3} \\sqrt{4 n^{3} + 27} + 9}}.\n",
    "$$\n",
    "\n",
    "**Question 2**\n",
    "\n",
    "`SymPy` gives\n",
    "$$\n",
    "S_n=\\frac{1}{n}-\\frac{1}{n^4}+\\mathcal{O}(1/n^5).\n",
    "$$\n",
    "Indeed, this goes to zero as expected."
   ]
  },
  {
   "cell_type": "markdown",
   "metadata": {},
   "source": [
    "<a id=\"Help\"></a>\n",
    "### **(Bonus)** Exercise 5. Solving equations: when SymPy needs help\n",
    " \n",
    "We consider the following equation:\n",
    "\\begin{equation}\n",
    "X^5-3\\varepsilon X^4-1=0, \\tag{$\\star$}\n",
    "\\end{equation}\n",
    "where $\\varepsilon$ is a positive parameter. As in previous exercise a quick analysis shows that if $\\varepsilon>0$ is small enough then ($\\star$) has a unique real solution, that we denote by $S_\\varepsilon$."
   ]
  },
  {
   "cell_type": "markdown",
   "metadata": {},
   "source": [
    "The degree of this equation is too high to be solved by `SymPy`:"
   ]
  },
  {
   "cell_type": "code",
   "execution_count": 72,
   "metadata": {},
   "outputs": [
    {
     "data": {
      "text/plain": [
       "[]"
      ]
     },
     "execution_count": 72,
     "metadata": {},
     "output_type": "execute_result"
    }
   ],
   "source": [
    "var('x')\n",
    "var('eps')\n",
    "solve(x**5-3*eps*x**4-1,x)\n"
   ]
  },
  {
   "cell_type": "markdown",
   "metadata": {},
   "source": [
    "Indeed, `SymPy` needs help to handle this equation."
   ]
  },
  {
   "cell_type": "markdown",
   "metadata": {},
   "source": [
    "In the above script we plotted the function $f(x)=x^5-3\\varepsilon x^4-1$ for some small $\\varepsilon$. \n",
    "This suggests that $\\lim_{\\varepsilon \\to 0}S_\\varepsilon=1$."
   ]
  },
  {
   "cell_type": "code",
   "execution_count": 73,
   "metadata": {},
   "outputs": [
    {
     "data": {
      "image/png": "[encoded data removed]",
      "text/plain": [
       "<Figure size 432x288 with 1 Axes>"
      ]
     },
     "metadata": {
      "needs_background": "light"
     },
     "output_type": "display_data"
    }
   ],
   "source": [
    "RangeOf_x=np.arange(0,2,0.01)\n",
    "\n",
    "def ToBeZero(x,eps):\n",
    "    return x**5+x**4*(-3*eps) -1\n",
    "\n",
    "eps=0.001\n",
    "plt.plot(RangeOf_x,[ToBeZero(x,eps) for x in RangeOf_x],label='x**5+x**4*(-3*eps)-1')\n",
    "\n",
    "plt.xlim(0, 2)\n",
    "plt.ylim(-1, 1)\n",
    "plt.plot([-2,2],[0,0])\n",
    "plt.plot([1,1],[-2,2])\n",
    "plt.xlabel('Value of x')\n",
    "plt.title('Location of S_eps, with eps ='+str(eps))\n",
    "plt.legend()\n",
    "plt.show()\n"
   ]
  },
  {
   "cell_type": "markdown",
   "metadata": {},
   "source": [
    "<div markdown=1 class=\"DoIt\">\n",
    "\n",
    "We admit that $S_\\varepsilon$ can be written as \n",
    "\\begin{equation}\n",
    "S_\\varepsilon = 1+ r\\varepsilon + s\\varepsilon^2+ \\mathcal{O}(\\varepsilon^3),\n",
    "\\end{equation}\n",
    "for some real $r,s$. Use `SymPy` to find $r,s$.<br>\n",
    "<i>(You can use any `SymPy` function already seen in this notebook.)<i>"
   ]
  },
  {
   "cell_type": "code",
   "execution_count": 76,
   "metadata": {},
   "outputs": [
    {
     "data": {
      "text/latex": [
       "$\\displaystyle - 3 eps \\left(1 + eps r + eps^{2} + O\\left(eps^{3}\\right)\\right)^{4} + \\left(1 + eps r + eps^{2} + O\\left(eps^{3}\\right)\\right)^{5} - 1$"
      ],
      "text/plain": [
       "-3*eps*(1 + eps*r + eps**2 + O(eps**3))**4 + (1 + eps*r + eps**2 + O(eps**3))**5 - 1"
      ]
     },
     "metadata": {},
     "output_type": "display_data"
    },
    {
     "data": {
      "text/plain": [
       "[(3/5, 18/25)]"
      ]
     },
     "execution_count": 76,
     "metadata": {},
     "output_type": "execute_result"
    }
   ],
   "source": [
    "var('r s eps')\n",
    "expression = ToBeZero(1 + eps * r + eps**2 + +O(eps**3) * s, eps)\n",
    "\n",
    "simple = simplify(expression)\n",
    "display(simple)\n",
    "\n",
    "solve([-3+5*r,5*s-12*r+10*r**2],[r,s])"
   ]
  },
  {
   "cell_type": "markdown",
   "metadata": {},
   "source": [
    "<div markdown=1 class=\"Answers\">\n",
    "\n",
    "If we plug $ 1+ r\\varepsilon + s\\varepsilon^2+ \\mathcal{O}(\\varepsilon^3)$ into equation ($\\star$) we obtain (with the script):\n",
    "\\begin{equation}\n",
    "0=-3\\varepsilon + 5r\\varepsilon + 5s\\varepsilon^2 - 12r\\varepsilon^2 + 10r^2\\varepsilon^2 + \\mathcal{O}(\\varepsilon^3).\n",
    "\\tag{$\\mathcal{E}$}\n",
    "\\end{equation}\n",
    "If we divide equation ($\\mathcal{E}$) by $\\varepsilon$ we obtain\n",
    "$$\n",
    "0=-3 + 5r + 5s\\varepsilon - 12r\\varepsilon + 10r^2\\varepsilon + \\mathcal{O}(\\varepsilon^2),\n",
    "$$\n",
    "which yields $-3+5r=0$ by letting $\\varepsilon \\to 0$, i.e. $r=3/5$.\n",
    "\n",
    "If we plug this into ($\\mathcal{E}$) and divide by $\\varepsilon^2$ we obtain\n",
    "$$\n",
    "0=5s - 12r + 10r^2 + \\mathcal{O}(\\varepsilon),\n",
    "$$\n",
    "which gives $5s-12r+10r^2=0$, i.e. $s=18/25$.\n",
    "<br><br>\n",
    "Finally,\n",
    "$$\n",
    "S_\\varepsilon=1+\\tfrac{3}{5}\\varepsilon + \\tfrac{18}{25}\\varepsilon^2 + \\mathcal{O}(\\varepsilon^2),\n",
    "$$"
   ]
  }
 ],
 "metadata": {
  "kernelspec": {
   "display_name": "Python 3 (ipykernel)",
   "language": "python",
   "name": "python3"
  },
  "language_info": {
   "codemirror_mode": {
    "name": "ipython",
    "version": 3
   },
   "file_extension": ".py",
   "mimetype": "text/x-python",
   "name": "python",
   "nbconvert_exporter": "python",
   "pygments_lexer": "ipython3",
   "version": "3.9.7"
  },
  "vscode": {
   "interpreter": {
    "hash": "40d3a090f54c6569ab1632332b64b2c03c39dcf918b08424e98f38b5ae0af88f"
   }
  }
 },
 "nbformat": 4,
 "nbformat_minor": 4
}
