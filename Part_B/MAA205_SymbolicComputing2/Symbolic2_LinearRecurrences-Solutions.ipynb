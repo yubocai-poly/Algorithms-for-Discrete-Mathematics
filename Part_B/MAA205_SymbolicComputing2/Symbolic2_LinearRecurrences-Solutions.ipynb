{
 "cells": [
  {
   "cell_type": "markdown",
   "metadata": {},
   "source": [
    "\n",
    "\n",
    "<center>**Bachelor of Ecole Polytechnique**</center>\n",
    "<center>Computational Mathematics, year 2, semester 1</center>\n",
    "<center>Lecturer: Lucas Gerin <a href=\"mailto:lucas.gerin@polytechnique.edu\">(send mail)</a></center>\n",
    "\n",
    "# Symbolic computation 2: Linear recurrences\n"
   ]
  },
  {
   "cell_type": "markdown",
   "metadata": {},
   "source": [
    "## Table of contents\n",
    "\n",
    "- [Warm-up](#warmup)\n",
    "- Solving linear recurrences with `Sympy`\n",
    "  - [The function `rsolve`](#rsolve)\n",
    "  - [Application: Fibonacci](#Fibo)\n",
    "- [Two-dimensional recurrence: matrices with SymPy](#2d)\n",
    "- [Bonus (from BX2023's test)](#Bonus)"
   ]
  },
  {
   "cell_type": "code",
   "execution_count": 2,
   "metadata": {},
   "outputs": [
    {
     "data": {
      "text/html": [
       "<link href='http://fonts.googleapis.com/css?family=Fenix' rel='stylesheet' type='text/css'>\n",
       "<link href='http://fonts.googleapis.com/css?family=Alegreya+Sans:100,300,400,500,700,800,900,100italic,300italic,400italic,500italic,700italic,800italic,900italic' rel='stylesheet' type='text/css'>\n",
       "<link href='http://fonts.googleapis.com/css?family=Source+Code+Pro:300,400' rel='stylesheet' type='text/css'>\n",
       "<link href=\"https://fonts.googleapis.com/css?family=Oswald|Raleway\" rel=\"stylesheet\" type='text/css'> \n",
       "<style>\n",
       ".prompt{\n",
       "    display: none !important;\n",
       "}\n",
       "\n",
       ".rendered_html pre {\n",
       "    border: 1px solid #f0f6f9 !important;\n",
       "}\n",
       "\n",
       ".rendered_html pre, .rendered_html code {\n",
       "    background-color: #d3d8db !important;\n",
       "    padding: 1% !important;\n",
       "    line-height: 200% !important;\n",
       "    border-radius: 10px !important;\n",
       "}\n",
       "\n",
       "div.input_area {\n",
       "    border-radius: 10px !important;\n",
       "    background-color: #e1e1e6 !important;\n",
       "}\n",
       "\n",
       "div.cell{\n",
       "        width:85% !important;\n",
       "        margin-left:5% !important;\n",
       "        /*margin-right:auto;*/\n",
       "    }\n",
       "    h1, h2, h3, h4, h5 {\n",
       "        font-family: 'Oswald', sans-serif; !important;\n",
       "        font-style: oblique !important;\n",
       "    }\n",
       "    div.text_cell_render{\n",
       "        font-family: 'Raleway', sans-serif; !important;\n",
       "        line-height: 135% !important;\n",
       "        font-size: 120% !important;\n",
       "        width:100%;/*600px;*/\n",
       "        /*margin-left:auto;*/\n",
       "        /*margin-right:auto;*/\n",
       "    }\n",
       "    .CodeMirror{\n",
       "            font-family: \"Source Code Pro\" !important;\n",
       "\t\t\tfont-size: 100% !important;\n",
       "    }\n",
       "    .text_cell_render p{\n",
       "        text-align: justify !important;\n",
       "    }\n",
       "    .text_cell_render h1 {\n",
       "        font-weight: 200 !important;\n",
       "\t\tline-height: 100% !important;\n",
       "        color:#47597A !important;\n",
       "        margin-bottom: 10.em !important;\n",
       "        margin-top: 50.em !important;\n",
       "        padding-bottom: 50.em !important;\n",
       "        padding-top: 50.em !important;\n",
       "        display: block !important;\n",
       "        font-size: 300% !important;\n",
       "        text-align: center !important;\n",
       "        border-bottom: 1px solid #47597A !important;\n",
       "        border-top: 1px solid #47597A !important;\n",
       "    }\n",
       "    .text_cell_render h2 {\n",
       "        font-weight: 200 !important;\n",
       "\tline-height: 100% !important;\n",
       "        color:#47597A !important;\n",
       "        margin-bottom: 0.5em !important;\n",
       "        margin-top: 0.5em !important;\n",
       "        display: block !important;\n",
       "        font-size: 200% !important;\n",
       "        border-bottom: 1px solid #47597A !important;\n",
       "    }\n",
       "    .text_cell_render h3 {\n",
       "        font-weight: 200 !important;\n",
       "\tline-height: 100% !important;\n",
       "        color:#47597A !important;\n",
       "        margin-bottom: 0.5em !important;\n",
       "        margin-top: 0.5em !important;\n",
       "        display: block !important;\n",
       "        font-size: 150% !important;\n",
       "    }\n",
       "    .text_cell_render h4 {\n",
       "        font-style: italic !important;\n",
       "        font-weight: bold !important;\n",
       "\tline-height: 100% !important;\n",
       "        color:#47597A !important;\n",
       "        display: block !important;\n",
       "        font-size: 100% !important;\n",
       "    }\n",
       "    .text_cell_render h5 {\n",
       "        font-weight: 200 !important;\n",
       "\tline-height: 100% !important;\n",
       "        color:#47597A !important;\n",
       "        margin-bottom: 0.5em !important;\n",
       "        margin-top: 0.5em !important;\n",
       "        display: block !important;\n",
       "        font-size: 100% !important;\n",
       "    }\n",
       "    .text_cell_render ul {\n",
       "\tlist-style-type: disc !important;\n",
       "\tline-height: 2;\n",
       "\t/*color:#47597A !important;*/\n",
       "    }\n",
       "    .warning{\n",
       "        color: rgb( 240, 20, 20 ) !important;\n",
       "        }\n",
       "    .Abstract {  \n",
       "\ttext-align: justify;\n",
       "\tbackground-color: #d6edf9;\n",
       "\tborder-left: 5px solid #47597A;\n",
       "\tpadding: 0.5em;\n",
       "\tmargin: 0  150px 0 150px;\n",
       "    }\n",
       "    .Def {    \n",
       "\tbackground-color: #d9f7d7;\n",
       "\tborder-left: 5px solid #4a7047;\n",
       "\tpadding: 0.5em;\n",
       "    }\n",
       "    .Def:before {\n",
       "\tcontent: \"Definition.\";\n",
       "\tcolor:#4a7047;\n",
       "\tfont-weight: bold;\n",
       "\tfont-style: normal;\n",
       "    }\n",
       "    .DoIt {    \n",
       "\tbackground-color: #e8cfc9;\n",
       "\tborder-left: 5px solid #a90e05;\n",
       "\tpadding: 0.5em;\n",
       "    }\n",
       "    .DoIt:before {\n",
       "\tcontent: \"Do it yourself.\";\n",
       "\tcolor:#a90e05;\n",
       "\tfont-weight: bold;\n",
       "\tfont-style: normal;\n",
       "    }\n",
       "    .Answers {    \n",
       "\tbackground-color: #DDA0DD;\n",
       "\tborder-left: 5px solid #9932CC;\n",
       "\tpadding: 0.5em;\n",
       "    }\n",
       "    .Answers:before {\n",
       "\tcontent: \"Answers.\";\n",
       "\tcolor:#682145;\n",
       "\tfont-weight: bold;\n",
       "\tfont-style: normal;\n",
       "    }\n",
       "    .Prop {    \n",
       "\tbackground-color:#f9ecd1;\n",
       "\tborder-left: 5px solid #ba7021;\n",
       "\tpadding: 0.5em;\n",
       "    }\n",
       "   .Prop:before {\n",
       "       content: \"Proposition.\";\n",
       "       color:#ba7021;\n",
       "       font-weight: bold;\n",
       "       font-style: normal;\n",
       "    }\n",
       "   .Thm {    \n",
       "\tbackground-color:#f9ecd1;\n",
       "\tborder-left: 5px solid #ba7021;\n",
       "\tpadding: 0.5em;\n",
       "    }\n",
       "   .Thm:before {\n",
       "       content: \"Theorem.\";\n",
       "       color:#ba7021;\n",
       "       font-weight: bold;\n",
       "       font-style: normal;\n",
       "    } \n",
       "   .Algo {    \n",
       "\tbackground-color:#f9ecd1;\n",
       "\tborder-left: 5px solid #ba7021;\n",
       "\tpadding: 0.5em;\n",
       "    }\n",
       "   .Algo:before {\n",
       "       content: \"Algorithm.\";\n",
       "       color:#ba7021;\n",
       "       font-weight: bold;\n",
       "       font-style: normal;\n",
       "    }\n",
       "    .Rmk {    \n",
       "\tbackground-color: #dbf1fc;\n",
       "\tborder-left: 5px solid #385487;\n",
       "\tpadding: 0.5em;\n",
       "    }\n",
       "    .Rmk:before {\n",
       "\tcontent: \"Remark.\";\n",
       "\tcolor:#385487;\n",
       "\tfont-weight: bold;\n",
       "\tfont-style: normal;\n",
       "    }\n",
       "    .Ex {    \n",
       "\tbackground-color: #dbf1fc;\n",
       "\tborder-left: 5px solid #385487;\n",
       "\tpadding: 0.5em;\n",
       "    }\n",
       "    .Ex:before {\n",
       "\tcontent: \"Example.\";\n",
       "\tcolor:#385487;\n",
       "\tfont-weight: bold;\n",
       "\tfont-style: normal;\n",
       "    }\n",
       "\n",
       "/*    .toc-item-num {\n",
       "#        display: none;\n",
       "#    }\n",
       "*/\n",
       "    .reveal section img{\n",
       "        margin: 0px auto;\n",
       "    }\n",
       "\n",
       "    div.output_area img{\n",
       "        display: block;\n",
       "        margin: 0px auto;\n",
       "    }\n",
       "  \n",
       "</style>\n",
       "\n",
       "<script>\n",
       "MathJax.Hub.Config({\n",
       "TeX: {extensions: [\"AMSmath.js\"] },\n",
       "                tex2jax: {\n",
       "                    inlineMath: [ ['$','$'], [\"\\\\(\",\"\\\\)\"] ],\n",
       "                    displayMath: [ ['$$','$$'], [\"\\\\[\",\"\\\\]\"] ]\n",
       "                },\n",
       "                displayAlign: 'center', // Change this to 'center' to center equations.\n",
       "                \"HTML-CSS\": {\n",
       "                    styles: {'.MathJax_Display': {\"margin\": 4}}\n",
       "                }\n",
       "        });\n",
       "\n",
       "\n",
       "\n",
       "</script>\n"
      ],
      "text/plain": [
       "<IPython.core.display.HTML object>"
      ]
     },
     "execution_count": 2,
     "metadata": {},
     "output_type": "execute_result"
    }
   ],
   "source": [
    "# execute this part to modify the css style\n",
    "from IPython.core.display import HTML\n",
    "def css_styling():\n",
    "    styles = open(\"./style/custom2.css\").read()\n",
    "    return HTML(styles)\n",
    "css_styling()"
   ]
  },
  {
   "cell_type": "code",
   "execution_count": 3,
   "metadata": {},
   "outputs": [],
   "source": [
    "## loading python libraries\n",
    "\n",
    "# necessary to display plots inline:\n",
    "%matplotlib inline   \n",
    "\n",
    "# load the libraries\n",
    "import matplotlib.pyplot as plt # 2D plotting library\n",
    "import numpy as np              # package for scientific computing  \n",
    "from pylab import *\n",
    "\n",
    "from math import *              # package for mathematics (pi, arctan, sqrt, factorial ...)\n",
    "import sympy as sympy             # package for symbolic computation\n",
    "from sympy import *\n"
   ]
  },
  {
   "cell_type": "markdown",
   "metadata": {},
   "source": [
    "<a id=\"warmup\"></a>\n",
    "The aim of this Lab session is to use SymPy to solve automatically some simple recurrences. We first solve a particular case \"by hand\" and then use the SymPy function `rsolve`. \n",
    "\n",
    "## Warm-up"
   ]
  },
  {
   "cell_type": "markdown",
   "metadata": {},
   "source": [
    "### Exercise 1. Solving a recurrence (almost) by hand"
   ]
  },
  {
   "cell_type": "markdown",
   "metadata": {},
   "source": [
    "<div markdown=1 class=\"DoIt\"> \n",
    "\n",
    "We want to find an explicit formula for the sequence $(u_n)$ defined by\n",
    "\\begin{equation}\n",
    "\\begin{cases}\n",
    "u_0&=1,\\\\\n",
    "u_{n}&=2u_{n-1} +3n^2. \\qquad (\\forall n\\geq 1).\n",
    "\\end{cases}\n",
    "\\tag{$\\star$}\n",
    "\\end{equation}\n",
    "1. Let  $\\alpha,a,b,c$ be four real parameters. Let $(w_n)_{n\\geq 0}$ be the sequence defined by\n",
    "$$\n",
    "w_n=\\alpha 2^n +an^2+bn+c.\n",
    "$$\n",
    "Use `SymPy` to find $\\alpha,a,b,c$ such that for every $0\\leq n\\leq 3$,\n",
    "$$\n",
    "w_n=u_n.\n",
    "$$\n",
    "<i>To solve a system of equations with `SymPy` with unknowns $x,y$, write something like </i>\n",
    "```\n",
    "solve([x-y-2,3*y+x],[x,y])\n",
    "```\n",
    "2. Prove with `SymPy` that $(w_n)$ defined as above is the unique solution of ($\\star$).\n",
    "\n",
    "<i>(It might be helpful to define a function `w(n,alpha,a,b,c)` which computes $w_n$.)</i>"
   ]
  },
  {
   "cell_type": "code",
   "execution_count": 6,
   "metadata": {},
   "outputs": [
    {
     "name": "stdout",
     "output_type": "stream",
     "text": [
      "--------------\n",
      "Question 1: {alpha: 19, a: -3, b: -12, c: -18}\n"
     ]
    }
   ],
   "source": [
    "# ------------- Question 1 --------------\n",
    "var('n',integer=True)\n",
    "var('alpha a b c')\n",
    "def w(n,alpha,a,b,c):\n",
    "    return alpha*2**n +a*n**2 +b*n +c\n",
    "\n",
    "Solutions=solve(\n",
    "# Quantities which are to be zero:\n",
    "[w(0,alpha,a,b,c)-1,   # initial condition\n",
    "w(1,alpha,a,b,c)-2*w(0,alpha,a,b,c)-3*1**2, \n",
    "w(2,alpha,a,b,c)-2*w(1,alpha,a,b,c)-3*2**2, \n",
    "w(3,alpha,a,b,c)-2*w(2,alpha,a,b,c)-3*3**2, \n",
    "]\n",
    ",\n",
    "# Unknowns:\n",
    "[alpha,a,b,c]\n",
    ")\n",
    "print('--------------')\n",
    "print('Question 1:', Solutions)\n",
    "\n"
   ]
  },
  {
   "cell_type": "markdown",
   "metadata": {},
   "source": [
    "<div markdown=1 class=\"Answers\"> \n",
    "\n",
    "1. We have four unknowns $\\alpha,a,b,c$ and four equations\n",
    "\\begin{align*}\n",
    "u_0&=1,\\\\\n",
    "u_1&=2u_0+3\\times 1^2,\\\\\n",
    "u_2&=2u_1+3\\times 2^2,\\\\\n",
    "u_3&=2u_2+3\\times 3^2,\\\\\n",
    "\\end{align*}\n",
    "With the above script we obtain that if the formula is true then necessarily\n",
    "$$\n",
    "u_n=19\\times 2^n -3n^2-12n-18.\n",
    "$$\n"
   ]
  },
  {
   "cell_type": "code",
   "execution_count": 11,
   "metadata": {},
   "outputs": [
    {
     "name": "stdout",
     "output_type": "stream",
     "text": [
      "--------------\n",
      "Question 2:\n",
      "With these coefficients the simplification of w(n)-2w(n-1)-3n**2 gives for every n : (19*2**n - 38*2**(n - 1) - 3*n**2 + 12*n + 6*(n - 1)**2 - 6,)\n",
      "--------------\n",
      "Safety check:\n",
      "First values of w_n: [1, 5, 22, 71, 190, 455, 1018, 2183, 4558, 9359]\n",
      "First values (with recurrence formula) : [1, 5, 22, 71, 190, 455, 1018, 2183, 4558, 9359]\n"
     ]
    }
   ],
   "source": [
    "#-------------- Question 2 ----------------\n",
    "print('--------------')\n",
    "c_s=Solutions[c]\n",
    "alpha_s=Solutions[alpha]\n",
    "b_s=Solutions[b]\n",
    "a_s=Solutions[a]\n",
    "Expr=w(n,alpha_s,a_s,b_s,c_s)-2*w(n-1,alpha_s,a_s,b_s,c_s),\n",
    "-3*n**2\n",
    "print('Question 2:')\n",
    "print('With these coefficients the simplification of w(n)-2w(n-1)-3n**2 gives for every n : '+str(simplify(Expr)))\n",
    "\n",
    "#--------------- We check the solutions\n",
    "print('--------------')\n",
    "print('Safety check:')\n",
    "print('First values of w_n: '+str([w(i,alpha_s,a_s,b_s,c_s) for i in range(10)]))\n",
    "\n",
    "# In order to check our results:\n",
    "def Recurrence(n):\n",
    "    if n==0:\n",
    "        return 1\n",
    "    else:\n",
    "        return 2*Recurrence(n-1)+3*n**2\n",
    "\n",
    "print('First values (with recurrence formula) : '+str([Recurrence(n) for n in range(10)]))"
   ]
  },
  {
   "cell_type": "markdown",
   "metadata": {},
   "source": [
    "\n",
    "<div markdown=1 class=\"Answers\"> \n",
    "\n",
    "2. We first observe that eq.$(\\star)$ has a unique solution since the sequence $(u_n)$ is a recurrence of order one: it is uniquely determined by $u_0$.\n",
    "Besides, set\n",
    "<br>\n",
    "$$\n",
    "w_n=19\\times 2^n -3n^2-12n-18.\n",
    "$$\n",
    "<br>\n",
    "Parameters are chosen so that $w_0=u_0=1$.\n",
    "The above script shows that for every $n$ we have that $w_n-2w_{n-1}-3n^2=0$. Therefore $(w_n)$ satisfies the recurrence $(\\star)$ and starts with the same initial value $w_0=1$. Therefore $w_n=u_n$ for every $n$."
   ]
  },
  {
   "cell_type": "markdown",
   "metadata": {},
   "source": [
    "<a id=\"rsolve\"></a>\n",
    "## Solving recurrences with SymPy: `rsolve`"
   ]
  },
  {
   "cell_type": "markdown",
   "metadata": {},
   "source": [
    "### The function `rsolve`\n",
    "\n",
    "We will use Sympy to obtain explicit formulas for some sequences defined by linear recurrences. More precisely, we will see how to obtain an explicit formula for $u_n$ in two cases:\n",
    "\n",
    "1. **Linear recurrence of order one:** this is a sequence $(u_n)_{n\\geq 0}$ is defined by\n",
    "$$\n",
    "\\begin{cases}\n",
    "u_0&=a, \\\\\n",
    "u_{n}&=\\alpha u_{n-1}+f(n),\\qquad (n\\geq 1),\n",
    "\\end{cases}\n",
    "$$\n",
    "where $a,\\alpha$ are some given constants and $f$ is an arbitrary function.\n",
    "2. **Linear recurrence of order two:** this is a sequence $(u_n)_{n\\geq 0}$ is defined by\n",
    "$$\n",
    "\\begin{cases}\n",
    "u_0&=a, \\\\\n",
    "u_1&=b,\\\\\n",
    "u_{n}&=\\alpha u_{n-1}+\\beta u_{n-2}+f(n),\\qquad (n\\geq 2),\n",
    "\\end{cases}\n",
    "$$\n",
    "where $a,,b,\\alpha,\\beta$ are some given constants and $f$ is an arbitrary function.\n",
    "\n",
    "Some known examples fit in this settings:\n",
    "1. Geometric sequences: $u_0=a,u_n=ru_{n-1}$.\n",
    "2. Arithmetic sequences: $u_0=a,u_n=u_{n-1}+r$.\n",
    "3. The Fibonacci sequence: $F_1=1,F_2=1,F_{n}=F_{n-1}+F_{n-2}$.\n",
    "\n",
    "The following script shows how to solve the two recurrences\n",
    "\\begin{align*}\n",
    "u_0=5,\\qquad u_{n}&=3u_{n-1},\\\\\n",
    "v_0=1,\\qquad v_{n}&=2v_{n-1}+n,\\\\\n",
    "\\end{align*}\n",
    "using function `rsolve`."
   ]
  },
  {
   "cell_type": "code",
   "execution_count": 7,
   "metadata": {},
   "outputs": [
    {
     "name": "stdout",
     "output_type": "stream",
     "text": [
      "The formula for u(n) is 5*3**n\n",
      "-------\n",
      "The formula for v(n) is 2**n/2 + n/2 + 1/2\n"
     ]
    }
   ],
   "source": [
    "# First example: a geometric sequence\n",
    "u = Function('u')                 # declares the name of the sequence\n",
    "n = symbols('n',integer=True)     # declares the variable\n",
    "f = u(n)-3*u(n-1)                 # the expression which is to be zero\n",
    "ExplicitFormula1=rsolve(f,u(n),\n",
    "                        {u(0):5}) # initial condition\n",
    "\n",
    "print('The formula for u(n) is '+str(ExplicitFormula1)+'')\n",
    "\n",
    "# Second example with a non-linear term\n",
    "print('-------')\n",
    "v = Function('v')                 # declares the name of the sequence\n",
    "n = symbols('n',integer=True)     # declares the variable\n",
    "f = v(n)-2*v(n-1)-n           # the expression which is to be zero\n",
    "ExplicitFormula2=rsolve(f,v(n),\n",
    "                        {v(0):1}) # initial condition\n",
    "\n",
    "print('The formula for v(n) is '+str(ExplicitFormula2)+'')\n",
    "\n"
   ]
  },
  {
   "cell_type": "markdown",
   "metadata": {},
   "source": [
    "<a id=\"Fibo\"></a>\n",
    "\n",
    "### Exercise 2. A first example with `rsolve`"
   ]
  },
  {
   "cell_type": "markdown",
   "metadata": {},
   "source": [
    "<div markdown=1 class=\"DoIt\"> \n",
    "\n",
    "1. Use `SymPy` to solve the recurrence of the Fibonacci sequence and find an explicit formula for $F_n$.<br>\n",
    "(To set up two initial conditions you must write `{u(1):1,u(2):1}`.)\n",
    "2. **(Theory)** Use the formula obtained at Question 1 to prove that \n",
    "$$\n",
    "\\lim_{n\\to +\\infty} \\frac{F_n}{F_{n-1}}= \\varphi,\n",
    "$$\n",
    "where $\\varphi=\\frac{1+\\sqrt{5}}{2}$ is the golden ratio."
   ]
  },
  {
   "cell_type": "code",
   "execution_count": 16,
   "metadata": {},
   "outputs": [
    {
     "name": "stdout",
     "output_type": "stream",
     "text": [
      "The formula for u(n) is \\frac{2^{- n} \\sqrt{5} \\left(- \\left(1 - \\sqrt{5}\\right)^{n} + \\left(1 + \\sqrt{5}\\right)^{n}\\right)}{5}\n"
     ]
    }
   ],
   "source": [
    "u = Function('u')                 # declares the name of the sequence\n",
    "n = symbols('n',integer=True)     # declares the variable\n",
    "f = u(n)-u(n-1)-u(n-2)                 # the expression which is to be zero\n",
    "ExplicitFormula=simplify(rsolve(f,u(n),{u(1):1,u(2):1}))\n",
    "\n",
    "Formula2=latex(simplify(ExplicitFormula))\n",
    "print('The formula for u(n) is '+str(Formula2)+'')\n"
   ]
  },
  {
   "cell_type": "markdown",
   "metadata": {},
   "source": [
    "<div markdown=1 class=\"Answers\">\n",
    "1. We put the above answer in $\\texttt{LateX}$:\n",
    "$$\n",
    "F_n=\\frac{2^{- n}}{5} \\sqrt{5} \\left(\\left(1 + \\sqrt{5}\\right)^{n} - \\left(- \\sqrt{5} + 1\\right)^{n}\\right).\n",
    "$$\n",
    "2. We obtain (by setting $\\psi=(1-\\sqrt{5})/2$):\n",
    "\\begin{align*}\n",
    "\\frac{F_{n}}{F_{n-1}}&= \\frac{\\tfrac{1}{\\sqrt{5}}\\varphi^{n} - \\tfrac{1}{\\sqrt{5}}\\psi^n }{\\tfrac{1}{\\sqrt{5}}\\varphi^{n-1} - \\tfrac{1}{\\sqrt{5}}\\psi^{n-1} },\\\\\n",
    "&=  \\frac{\\tfrac{1}{\\sqrt{5}}\\varphi - \\psi \\tfrac{1}{\\sqrt{5}}(\\psi/\\varphi)^{n-1} }{\\tfrac{1}{\\sqrt{5}} - \\tfrac{1}{\\sqrt{5}}(\\psi/\\varphi)^{n-1} },\\qquad \\text{(we divide everything by $\\varphi^{n-1}$.)}\\\\\n",
    "&\\to \\varphi,\n",
    "\\end{align*}\n",
    "since $|\\psi/\\varphi|<1$."
   ]
  },
  {
   "cell_type": "markdown",
   "metadata": {},
   "source": [
    "<div markdown=1 class=\"Rmk\">\n",
    "\n",
    "The output of `rsolve` is an <i>expression</i> which depends on the symbolic variable `n`. If we want to evaluate this expression (for instance for $n=10$) we must write:"
   ]
  },
  {
   "cell_type": "code",
   "execution_count": null,
   "metadata": {},
   "outputs": [],
   "source": [
    "Value=ExplicitFormula.subs(n,10)\n",
    "print('10th Fibonacci number = '+str(Value))\n",
    "print('After simplification : '+str(simplify(Value)))\n"
   ]
  },
  {
   "cell_type": "markdown",
   "metadata": {},
   "source": [
    "<a id=\"2d\"></a>\n",
    "# Two-dimensional recurrence: matrices with SymPy\n",
    "### Exercise 3. A double linear recurrence\n"
   ]
  },
  {
   "cell_type": "markdown",
   "metadata": {},
   "source": [
    "<div markdown=1 class=\"DoIt\"> <b>Theory</b>\n",
    "\n",
    "1. Prove by induction that there exist integers $a_n,b_n$ such that for every $n\\geq 1$\n",
    "$$\n",
    "(1+\\sqrt{2})^n=a_n+b_n\\sqrt{2}.\n",
    "$$\n",
    "2. Find a $2\\times 2$ matrix $A$ such that\n",
    "$$\n",
    "\\binom{a_{n+1}}{b_{n+1}}=A\\times \\binom{a_{n}}{b_{n}}.\n",
    "$$\n",
    "3. Use `SymPy` to find an explicit formula for $a_n$.<br>\n",
    "<i>(In `SymPy` matrices are defined by `A=Matrix([[a,b],[c,d]])`. To raise $A$ to some power just write `A**n`.)</i>\n",
    "4. Find (with pen/paper) real numbers $c,R$ such that\n",
    "$$\n",
    "a_n \\stackrel{n\\to +\\infty}{\\sim } cR^n.\n",
    "$$"
   ]
  },
  {
   "cell_type": "markdown",
   "metadata": {},
   "source": [
    "<div markdown=1 class=\"Answers\"> \n",
    "1. For $n=1$ this is true with $a_1=b_1=1$. Assume this holds for some $n\\geq 1$.\n",
    "\\begin{align*}\n",
    "(1+\\sqrt{2})^{n+1}&=(1+\\sqrt{2})\\times(1+\\sqrt{2})^{n}\\\\\n",
    "&=(1+\\sqrt{2})\\times(a_n+b_n\\sqrt{2})\\\\\n",
    "&=a_n+b_n\\sqrt{2}+a_n\\sqrt{2}+2b_n\\\\\n",
    "&=(a_n+2b_n)+(a_n+b_n)\\sqrt{2}.\n",
    "\\end{align*}\n",
    "Finally, one can write \n",
    "$$\n",
    "(1+\\sqrt{2})^{n+1}=a_{n+1}+b_{n+1}\\sqrt{2},\n",
    "$$\n",
    "where\n",
    "$$\n",
    "a_{n+1}=a_n+2b_n,\\qquad b_{n+1}=a_n+b_n,\n",
    "$$\n",
    "which are easily proved to be integers by induction.\n",
    "\n",
    "2. By the above computation we have\n",
    "$$\n",
    "\\begin{cases}\n",
    "a_{n+1}&=a_n+2b_n,\\\\\n",
    "b_{n+1}&=a_n+b_n,\n",
    "\\end{cases}\n",
    "$$\n",
    "which can be written as:\n",
    "$$\n",
    "\\binom{a_{n+1}}{b_{n+1}}=\n",
    "\\begin{pmatrix}\n",
    "1 & 2\\\\\n",
    "1 & 1\n",
    "\\end{pmatrix}\n",
    "\\times \\binom{a_{n}}{b_{n}}.\n",
    "$$\n",
    "By induction this implies that\n",
    "$$\n",
    "\\binom{a_{n}}{b_{n}}=\n",
    "\\begin{pmatrix}\n",
    "1 & 2\\\\\n",
    "1 & 1\n",
    "\\end{pmatrix}^{n-1}\n",
    "\\times \\binom{a_1}{b_1}\n",
    "=\\begin{pmatrix}\n",
    "1 & 2\\\\\n",
    "1 & 1\n",
    "\\end{pmatrix}^{n-1}\n",
    "\\times \\binom{1}{1}.\n",
    "$$"
   ]
  },
  {
   "cell_type": "code",
   "execution_count": 6,
   "metadata": {},
   "outputs": [
    {
     "data": {
      "text/latex": [
       "$\\displaystyle \\left[\\begin{matrix}\\frac{\\left(1 - \\sqrt{2}\\right)^{n - 1}}{2} + \\frac{\\left(1 + \\sqrt{2}\\right)^{n - 1}}{2} & - \\frac{\\sqrt{2} \\left(1 - \\sqrt{2}\\right)^{n - 1}}{2} + \\frac{\\sqrt{2} \\left(1 + \\sqrt{2}\\right)^{n - 1}}{2}\\\\- \\frac{\\sqrt{2} \\left(1 - \\sqrt{2}\\right)^{n - 1}}{4} + \\frac{\\sqrt{2} \\left(1 + \\sqrt{2}\\right)^{n - 1}}{4} & \\frac{\\left(1 - \\sqrt{2}\\right)^{n - 1}}{2} + \\frac{\\left(1 + \\sqrt{2}\\right)^{n - 1}}{2}\\end{matrix}\\right]$"
      ],
      "text/plain": [
       "Matrix([\n",
       "[                 (1 - sqrt(2))**(n - 1)/2 + (1 + sqrt(2))**(n - 1)/2, -sqrt(2)*(1 - sqrt(2))**(n - 1)/2 + sqrt(2)*(1 + sqrt(2))**(n - 1)/2],\n",
       "[-sqrt(2)*(1 - sqrt(2))**(n - 1)/4 + sqrt(2)*(1 + sqrt(2))**(n - 1)/4,                  (1 - sqrt(2))**(n - 1)/2 + (1 + sqrt(2))**(n - 1)/2]])"
      ]
     },
     "metadata": {},
     "output_type": "display_data"
    },
    {
     "name": "stdout",
     "output_type": "stream",
     "text": [
      "\\frac{\\left(1 - \\sqrt{2}\\right)^{n}}{2} + \\frac{\\left(1 + \\sqrt{2}\\right)^{n}}{2}\n",
      "\\frac{\\sqrt{2} \\left(- \\left(1 - \\sqrt{2}\\right)^{n} + \\left(1 + \\sqrt{2}\\right)^{n}\\right)}{4}\n"
     ]
    }
   ],
   "source": [
    "#Question 3\n",
    "A=Matrix([[1,2],[1,1]])\n",
    "var('n', integer=True)\n",
    "Power=A**(n-1)\n",
    "display(Power)\n",
    "\n",
    "an=latex(simplify(Power[0,0]+Power[0,1]))\n",
    "print(an)\n",
    "bn=latex(simplify(Power[1,0]+Power[1,1]))\n",
    "print(bn)\n"
   ]
  },
  {
   "cell_type": "markdown",
   "metadata": {},
   "source": [
    "<div markdown=1 class=\"Answers\">\n",
    "3. We export the result in LateX:\n",
    "\\begin{align*}\n",
    "a_n&=\\frac{\\left(1 - \\sqrt{2}\\right)^{n}}{2} + \\frac{\\left(1 + \\sqrt{2}\\right)^{n}}{2}\\\\\n",
    "b_n&= \\frac{\\sqrt{2} \\left(- \\left(1 - \\sqrt{2}\\right)^{n} + \\left(1 + \\sqrt{2}\\right)^{n}\\right)}{4}\n",
    "\\end{align*}\n",
    "(You can indeed check that $a_n+\\sqrt{2}b_n=(1+\\sqrt{2})^n$.)\n",
    "\n",
    "4. As $\\left|-\\sqrt{2}+1\\right|<1$, we have that $(-\\sqrt{2}+1)^n$ tends to zero. It follows that\n",
    "\\begin{align*}\n",
    "a_n&=\\frac{1}{2} \\left(1 + \\sqrt{2}\\right)^{n} +\\mathrm{o}(1)\\\\\n",
    "&\\sim \\frac{1}{2} \\left(1 + \\sqrt{2}\\right)^{n}.\n",
    "\\end{align*}"
   ]
  },
  {
   "cell_type": "markdown",
   "metadata": {},
   "source": [
    " <a id='Bonus'></a>\n",
    "### Exercise 4. Rational fractions. (Taken from BX2023's test)"
   ]
  },
  {
   "cell_type": "markdown",
   "metadata": {},
   "source": [
    "<div markdown=1 class=\"DoIt\"> \n",
    "We set\n",
    "$$\n",
    "u_1=\\frac{1}{1+1}, \\quad u_2=\\frac{1}{1+\\frac{1}{2+1}},\\quad u_3=\\frac{1}{1+\\frac{1}{2+\\frac{1}{3+1}}}, \\quad u_4=\\frac{1}{1+\\frac{1}{2+\\frac{1}{3+\\frac{1}{4+1}}}}, \\dots\n",
    "$$\n",
    "Using SymPy, write $u_{20}$ as a rational fraction $a/b$. (To check your result: the approximate value is $0.69777...$.)"
   ]
  },
  {
   "cell_type": "code",
   "execution_count": 9,
   "metadata": {},
   "outputs": [
    {
     "name": "stdout",
     "output_type": "stream",
     "text": [
      "1 --- 1/2\n",
      "2 --- 3/4\n",
      "3 --- 9/13\n",
      "4 --- 37/53\n",
      "5 --- 187/268\n",
      "6 --- 1129/1618\n",
      "7 --- 7933/11369\n",
      "8 --- 63621/91177\n",
      "9 --- 573561/821986\n",
      "10 --- 5742571/8229836\n",
      "11 --- 63224941/90609397\n",
      "12 --- 759216193/1088053549\n",
      "13 --- 9875036179/14152185188\n",
      "14 --- 138308505777/198213712978\n",
      "15 --- 2075328803577/2974210627873\n",
      "16 --- 33214434676489/47600517297953\n",
      "17 --- 564774524186833/809393860526194\n",
      "18 --- 10167887629480051/14571878633638372\n",
      "19 --- 193221133200680401/276910505412260141\n",
      "20 --- 3864956170297235421/5538974690732597941\n"
     ]
    }
   ],
   "source": [
    "# Tests\n",
    "u1=Rational(1,2)\n",
    "u2=Rational(1,1+Rational(1,3))\n",
    "u3=Rational(1,1+Rational(1,2+Rational(1,4)))\n",
    "\n",
    "def u_n(n):\n",
    "    u=n+1\n",
    "    for k in range(1,n):\n",
    "        u=n-k+Rational(1,u)\n",
    "    return Rational(1,u)\n",
    "\n",
    "for n in range(1,21):\n",
    "    print(n,'---',u_n(n))\n",
    "    \n",
    "    "
   ]
  },
  {
   "cell_type": "markdown",
   "metadata": {},
   "source": [
    "<div markdown=1 class=\"Answers\"> \n",
    "We set\n",
    "\\begin{align*}\n",
    "v_0&=21\\\\\n",
    "v_1&=20+\\frac{1}{v_0}=20+\\frac{1}{20+1}\\\\\n",
    "v_2&=19+\\frac{1}{v_1}=19+\\frac{1}{20+\\frac{1}{20+1}}\\\\\n",
    "& \\dots\\\\\n",
    "v_{20}&=1+\\frac{1}{v_{19}}=1+\\frac{1}{2+\\frac{1}{\\dots+\\frac{1}{{\\dots+\\frac{1}{20+1}}}}}\n",
    "\\end{align*}\n",
    "And we finally put $u_{20}=\\frac{1}{v_{20}}$.\n",
    "\n",
    "Therefore the above script computes:\n",
    "$$\n",
    "u_{20}=\\frac{3864956170297235421}{5538974690732597941}.\n",
    "$$"
   ]
  },
  {
   "cell_type": "code",
   "execution_count": null,
   "metadata": {},
   "outputs": [],
   "source": []
  }
 ],
 "metadata": {
  "kernelspec": {
   "display_name": "Python 3 (ipykernel)",
   "language": "python",
   "name": "python3"
  },
  "language_info": {
   "codemirror_mode": {
    "name": "ipython",
    "version": 3
   },
   "file_extension": ".py",
   "mimetype": "text/x-python",
   "name": "python",
   "nbconvert_exporter": "python",
   "pygments_lexer": "ipython3",
   "version": "3.9.7"
  }
 },
 "nbformat": 4,
 "nbformat_minor": 4
}
