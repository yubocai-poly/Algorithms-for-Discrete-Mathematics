{
 "cells": [
  {
   "cell_type": "markdown",
   "metadata": {},
   "source": [
    "<!--<img src='./figures/logo-ecole-polytechnique-ve.jpg' style='position:absolute; top:0; right:0;' width='100px' height='' alt='' />-->\n",
    "\n",
    "<center>**Bachelor of Ecole Polytechnique**</center>\n",
    "<center>Computational Mathematics, year 2, semester 1</center>\n",
    "<center>Lecturer: Lucas Gerin <a href=\"mailto:lucas.gerin@polytechnique.edu\">(send mail)</a></center>\n",
    "\n",
    "# Symbolic computation 3: Test\n"
   ]
  },
  {
   "cell_type": "markdown",
   "metadata": {},
   "source": [
    "## Table of contents\n",
    "\n",
    "- [Exercise 1: Rational fractions](#continued)\n",
    "- [Exercise 2. A polynomial riddle](#exo_web) \n",
    "- [Exercise 3: Multivariate polynomial](#multivariate)\n",
    "- [Exercise 4: A linear recurrence](#linear_recurrence)\n",
    "- [Exercise 5: Square roots](#square)\n"
   ]
  },
  {
   "cell_type": "code",
   "execution_count": 1,
   "metadata": {},
   "outputs": [
    {
     "data": {
      "text/html": [
       "<link href='http://fonts.googleapis.com/css?family=Fenix' rel='stylesheet' type='text/css'>\n",
       "<link href='http://fonts.googleapis.com/css?family=Alegreya+Sans:100,300,400,500,700,800,900,100italic,300italic,400italic,500italic,700italic,800italic,900italic' rel='stylesheet' type='text/css'>\n",
       "<link href='http://fonts.googleapis.com/css?family=Source+Code+Pro:300,400' rel='stylesheet' type='text/css'>\n",
       "<link href=\"https://fonts.googleapis.com/css?family=Oswald|Raleway\" rel=\"stylesheet\" type='text/css'> \n",
       "<style>\n",
       ".prompt{\n",
       "    display: none !important;\n",
       "}\n",
       "\n",
       ".rendered_html pre {\n",
       "    border: 1px solid #f0f6f9 !important;\n",
       "}\n",
       "\n",
       ".rendered_html pre, .rendered_html code {\n",
       "    background-color: #d3d8db !important;\n",
       "    padding: 1% !important;\n",
       "    line-height: 200% !important;\n",
       "    border-radius: 10px !important;\n",
       "}\n",
       "\n",
       "div.input_area {\n",
       "    border-radius: 10px !important;\n",
       "    background-color: #e1e1e6 !important;\n",
       "}\n",
       "\n",
       "div.cell{\n",
       "        width:85% !important;\n",
       "        margin-left:5% !important;\n",
       "        /*margin-right:auto;*/\n",
       "    }\n",
       "    h1, h2, h3, h4, h5 {\n",
       "        font-family: 'Oswald', sans-serif; !important;\n",
       "        font-style: oblique !important;\n",
       "    }\n",
       "    div.text_cell_render{\n",
       "        font-family: 'Raleway', sans-serif; !important;\n",
       "        line-height: 135% !important;\n",
       "        font-size: 120% !important;\n",
       "        width:100%;/*600px;*/\n",
       "        /*margin-left:auto;*/\n",
       "        /*margin-right:auto;*/\n",
       "    }\n",
       "    .CodeMirror{\n",
       "            font-family: \"Source Code Pro\" !important;\n",
       "\t\t\tfont-size: 100% !important;\n",
       "    }\n",
       "    .text_cell_render p{\n",
       "        text-align: justify !important;\n",
       "    }\n",
       "    .text_cell_render h1 {\n",
       "        font-weight: 200 !important;\n",
       "\t\tline-height: 100% !important;\n",
       "        color:#47597A !important;\n",
       "        margin-bottom: 10.em !important;\n",
       "        margin-top: 50.em !important;\n",
       "        padding-bottom: 50.em !important;\n",
       "        padding-top: 50.em !important;\n",
       "        display: block !important;\n",
       "        font-size: 300% !important;\n",
       "        text-align: center !important;\n",
       "        border-bottom: 1px solid #47597A !important;\n",
       "        border-top: 1px solid #47597A !important;\n",
       "    }\n",
       "    .text_cell_render h2 {\n",
       "        font-weight: 200 !important;\n",
       "\tline-height: 100% !important;\n",
       "        color:#47597A !important;\n",
       "        margin-bottom: 0.5em !important;\n",
       "        margin-top: 0.5em !important;\n",
       "        display: block !important;\n",
       "        font-size: 200% !important;\n",
       "        border-bottom: 1px solid #47597A !important;\n",
       "    }\n",
       "    .text_cell_render h3 {\n",
       "        font-weight: 200 !important;\n",
       "\tline-height: 100% !important;\n",
       "        color:#47597A !important;\n",
       "        margin-bottom: 0.5em !important;\n",
       "        margin-top: 0.5em !important;\n",
       "        display: block !important;\n",
       "        font-size: 150% !important;\n",
       "    }\n",
       "    .text_cell_render h4 {\n",
       "        font-style: italic !important;\n",
       "        font-weight: bold !important;\n",
       "\tline-height: 100% !important;\n",
       "        color:#47597A !important;\n",
       "        display: block !important;\n",
       "        font-size: 100% !important;\n",
       "    }\n",
       "    .text_cell_render h5 {\n",
       "        font-weight: 200 !important;\n",
       "\tline-height: 100% !important;\n",
       "        color:#47597A !important;\n",
       "        margin-bottom: 0.5em !important;\n",
       "        margin-top: 0.5em !important;\n",
       "        display: block !important;\n",
       "        font-size: 100% !important;\n",
       "    }\n",
       "    .text_cell_render ul {\n",
       "\tlist-style-type: disc !important;\n",
       "\tline-height: 2;\n",
       "\t/*color:#47597A !important;*/\n",
       "    }\n",
       "    .warning{\n",
       "        color: rgb( 240, 20, 20 ) !important;\n",
       "        }\n",
       "    .Abstract {  \n",
       "\ttext-align: justify;\n",
       "\tbackground-color: #d6edf9;\n",
       "\tborder-left: 5px solid #47597A;\n",
       "\tpadding: 0.5em;\n",
       "\tmargin: 0  150px 0 150px;\n",
       "    }\n",
       "    .Def {    \n",
       "\tbackground-color: #d9f7d7;\n",
       "\tborder-left: 5px solid #4a7047;\n",
       "\tpadding: 0.5em;\n",
       "    }\n",
       "    .Def:before {\n",
       "\tcontent: \"Definition.\";\n",
       "\tcolor:#4a7047;\n",
       "\tfont-weight: bold;\n",
       "\tfont-style: normal;\n",
       "    }\n",
       "    .DoIt {    \n",
       "\tbackground-color: #e8cfc9;\n",
       "\tborder-left: 5px solid #a90e05;\n",
       "\tpadding: 0.5em;\n",
       "    }\n",
       "    .DoIt:before {\n",
       "\tcontent: \"Do it yourself.\";\n",
       "\tcolor:#a90e05;\n",
       "\tfont-weight: bold;\n",
       "\tfont-style: normal;\n",
       "    }\n",
       "    .Answers {    \n",
       "\tbackground-color: #DDA0DD;\n",
       "\tborder-left: 5px solid #9932CC;\n",
       "\tpadding: 0.5em;\n",
       "    }\n",
       "    .Answers:before {\n",
       "\tcontent: \"Answers.\";\n",
       "\tcolor:#682145;\n",
       "\tfont-weight: bold;\n",
       "\tfont-style: normal;\n",
       "    }\n",
       "    .Prop {    \n",
       "\tbackground-color:#f9ecd1;\n",
       "\tborder-left: 5px solid #ba7021;\n",
       "\tpadding: 0.5em;\n",
       "    }\n",
       "   .Prop:before {\n",
       "       content: \"Proposition.\";\n",
       "       color:#ba7021;\n",
       "       font-weight: bold;\n",
       "       font-style: normal;\n",
       "    }\n",
       "   .Thm {    \n",
       "\tbackground-color:#f9ecd1;\n",
       "\tborder-left: 5px solid #ba7021;\n",
       "\tpadding: 0.5em;\n",
       "    }\n",
       "   .Thm:before {\n",
       "       content: \"Theorem.\";\n",
       "       color:#ba7021;\n",
       "       font-weight: bold;\n",
       "       font-style: normal;\n",
       "    } \n",
       "   .Algo {    \n",
       "\tbackground-color:#f9ecd1;\n",
       "\tborder-left: 5px solid #ba7021;\n",
       "\tpadding: 0.5em;\n",
       "    }\n",
       "   .Algo:before {\n",
       "       content: \"Algorithm.\";\n",
       "       color:#ba7021;\n",
       "       font-weight: bold;\n",
       "       font-style: normal;\n",
       "    }\n",
       "    .Rmk {    \n",
       "\tbackground-color: #dbf1fc;\n",
       "\tborder-left: 5px solid #385487;\n",
       "\tpadding: 0.5em;\n",
       "    }\n",
       "    .Rmk:before {\n",
       "\tcontent: \"Remark.\";\n",
       "\tcolor:#385487;\n",
       "\tfont-weight: bold;\n",
       "\tfont-style: normal;\n",
       "    }\n",
       "    .Ex {    \n",
       "\tbackground-color: #dbf1fc;\n",
       "\tborder-left: 5px solid #385487;\n",
       "\tpadding: 0.5em;\n",
       "    }\n",
       "    .Ex:before {\n",
       "\tcontent: \"Example.\";\n",
       "\tcolor:#385487;\n",
       "\tfont-weight: bold;\n",
       "\tfont-style: normal;\n",
       "    }\n",
       "\n",
       "/*    .toc-item-num {\n",
       "#        display: none;\n",
       "#    }\n",
       "*/\n",
       "    .reveal section img{\n",
       "        margin: 0px auto;\n",
       "    }\n",
       "\n",
       "    div.output_area img{\n",
       "        display: block;\n",
       "        margin: 0px auto;\n",
       "    }\n",
       "  \n",
       "</style>\n",
       "\n",
       "<script>\n",
       "MathJax.Hub.Config({\n",
       "TeX: {extensions: [\"AMSmath.js\"] },\n",
       "                tex2jax: {\n",
       "                    inlineMath: [ ['$','$'], [\"\\\\(\",\"\\\\)\"] ],\n",
       "                    displayMath: [ ['$$','$$'], [\"\\\\[\",\"\\\\]\"] ]\n",
       "                },\n",
       "                displayAlign: 'center', // Change this to 'center' to center equations.\n",
       "                \"HTML-CSS\": {\n",
       "                    styles: {'.MathJax_Display': {\"margin\": 4}}\n",
       "                }\n",
       "        });\n",
       "\n",
       "\n",
       "\n",
       "</script>\n"
      ],
      "text/plain": [
       "<IPython.core.display.HTML object>"
      ]
     },
     "execution_count": 1,
     "metadata": {},
     "output_type": "execute_result"
    }
   ],
   "source": [
    "# execute this part to modify the css style\n",
    "from IPython.core.display import HTML\n",
    "def css_styling():\n",
    "    styles = open(\"./style/custom2.css\").read()\n",
    "    return HTML(styles)\n",
    "css_styling()\n"
   ]
  },
  {
   "cell_type": "code",
   "execution_count": 4,
   "metadata": {},
   "outputs": [],
   "source": [
    "## loading python libraries\n",
    "\n",
    "# necessary to display plots inline:\n",
    "%matplotlib inline   \n",
    "\n",
    "# load the libraries\n",
    "import matplotlib.pyplot as plt # 2D plotting library\n",
    "import numpy as np              # package for scientific computing  \n",
    "from pylab import *\n",
    "\n",
    "from math import *              # package for mathematics (pi, arctan, sqrt, factorial ...)\n",
    "import sympy as sympy             # package for symbolic computation\n",
    "from sympy import *\n"
   ]
  },
  {
   "cell_type": "markdown",
   "metadata": {},
   "source": [
    "# Please read!\n",
    "\n",
    "<br><br>\n",
    "\n",
    "<div markdown=1 class=Abstract>\n",
    "\n",
    "### Guidelines for today\n",
    "\n",
    "* You will use SymPy to solve the above exercises. The whole Notebook can be done with the following SymPy functions:\n",
    "```\n",
    "expand(),factor(),Rational(),Matrix(),simplify(),solve()\n",
    "```\n",
    "* In order to check your formulas do not hesitate to use `N()` to obtain a numerical evaluation.\n",
    "* Remember that in SymPy you have to use `Rational` in order to prevent numerical evaluation of fractions. When you use symbolic variables, do not use `Rational`. For example: write `a/b` instead of `Rational(a,b)`."
   ]
  },
  {
   "cell_type": "markdown",
   "metadata": {},
   "source": [
    "## <a id='continued'></a>\n",
    "### Exercise 1. Rational fractions."
   ]
  },
  {
   "cell_type": "markdown",
   "metadata": {},
   "source": [
    "<div markdown=1 class=\"DoIt\"> \n",
    "\n",
    "We set\n",
    "$$\n",
    "u_1=\\frac{1}{3+1}, \\quad u_2=\\frac{1}{3+\\frac{1}{3+1}},\\quad u_3=\\frac{1}{3+\\frac{1}{3+\\frac{1}{3+1}}}, \\quad u_4=\\frac{1}{3+\\frac{1}{3+\\frac{1}{3+\\frac{1}{3+1}}}}, \\dots\n",
    "$$\n",
    "Using SymPy, write $u_{25}$ as a rational fraction $a/b$.\n",
    "\n",
    "<i>(Hint: This one is easier than the fraction in last Notebook. Here you can find a simple relation between $u_n$ and $u_{n+1}$.)</i>"
   ]
  },
  {
   "cell_type": "code",
   "execution_count": 6,
   "metadata": {},
   "outputs": [
    {
     "name": "stdout",
     "output_type": "stream",
     "text": [
      "u_1 = 1/4\n",
      "u_2 = 4/13\n",
      "u_3 = 13/43\n",
      "u_4 = 43/142\n",
      "-------------------------\n",
      "Answer 1\n",
      "u_25 = 3387464586001/11188035508324\n"
     ]
    }
   ],
   "source": [
    "# Initialization\n",
    "u1 = Rational(1, 4)\n",
    "u2 = Rational(1, 3 + Rational(1, 4))\n",
    "\n",
    "\n",
    "def un(n):\n",
    "    if n == 1:\n",
    "        return u1\n",
    "    # Recursive definition of the sequence\n",
    "    return Rational(1, 3 + un(n - 1))\n",
    "\n",
    "\n",
    "for n in range(1, 5):\n",
    "    print('u_{} = {}'.format(n, un(n)))\n",
    "\n",
    "print('-------------------------')\n",
    "print('Answer 1')\n",
    "print('u_25 = {}'.format(un(25)))\n"
   ]
  },
  {
   "cell_type": "markdown",
   "metadata": {},
   "source": [
    "<div markdown=1 class=\"Answers\"> \n",
    "\n",
    "**Answer 1**\n",
    "\n",
    "It is easy to see that $u_{n+1}=\\frac{1}{3+u_n}$ from the sequence. Therefore, we can simply use the recursion formula to obtain $u_{25}$. By computation we got\n",
    "$$\n",
    "u_{25}=\\frac{3387464586001}{11188035508324}\n",
    "$$\n"
   ]
  },
  {
   "cell_type": "markdown",
   "metadata": {},
   "source": [
    "## <a id='exo_web'></a>\n",
    "### Exercise 2. A polynomial riddle"
   ]
  },
  {
   "cell_type": "markdown",
   "metadata": {},
   "source": [
    "<div markdown=1 class=\"DoIt\"> On the web one can find the following riddle:\n",
    "<center>\n",
    "If $x+\\frac{1}{x}=5$, what is the value of $x^7+\\left(\\frac{1}{x}\\right)^7$ ?\n",
    "</center>\n",
    "Solve this with SymPy."
   ]
  },
  {
   "cell_type": "code",
   "execution_count": 19,
   "metadata": {},
   "outputs": [
    {
     "name": "stdout",
     "output_type": "stream",
     "text": [
      "-------------------------\n",
      "Answer 2\n",
      "The first solution is\n"
     ]
    },
    {
     "data": {
      "text/latex": [
       "$\\displaystyle \\frac{5}{2} - \\frac{\\sqrt{21}}{2}$"
      ],
      "text/plain": [
       "5/2 - sqrt(21)/2"
      ]
     },
     "metadata": {},
     "output_type": "display_data"
    },
    {
     "name": "stdout",
     "output_type": "stream",
     "text": [
      "The Second solution is\n"
     ]
    },
    {
     "data": {
      "text/latex": [
       "$\\displaystyle \\frac{\\sqrt{21}}{2} + \\frac{5}{2}$"
      ],
      "text/plain": [
       "sqrt(21)/2 + 5/2"
      ]
     },
     "metadata": {},
     "output_type": "display_data"
    },
    {
     "data": {
      "text/latex": [
       "$\\displaystyle 57965$"
      ],
      "text/plain": [
       "57965"
      ]
     },
     "metadata": {},
     "output_type": "display_data"
    },
    {
     "data": {
      "text/latex": [
       "$\\displaystyle 57965$"
      ],
      "text/plain": [
       "57965"
      ]
     },
     "metadata": {},
     "output_type": "display_data"
    },
    {
     "name": "stdout",
     "output_type": "stream",
     "text": [
      "-------------------------\n",
      "The value of x^7+1/x^7 is  57965\n"
     ]
    }
   ],
   "source": [
    "# Set up variables\n",
    "var('x')\n",
    "# use sympy to solve the equation x+1/x=5\n",
    "print('-------------------------')\n",
    "print('Answer 2')\n",
    "solution = solve(x + 1 / x - 5, x)\n",
    "print('The first solution is')\n",
    "display(solution[0])\n",
    "print('The Second solution is')\n",
    "display(solution[1])\n",
    "\n",
    "\n",
    "def f(x):\n",
    "    return x**7 + (1 / x)**7\n",
    "\n",
    "display(simplify(f(solution[0])))\n",
    "display(simplify(f(solution[1])))\n",
    "\n",
    "print('-------------------------')\n",
    "print('The value of x^7+1/x^7 is ', simplify(f(solution[0])))"
   ]
  },
  {
   "cell_type": "markdown",
   "metadata": {},
   "source": [
    "<div markdown=1 class=\"Answers\"> \n",
    "\n",
    "**Answer for Exercise 2**\n",
    "\n",
    "We can use the `solve` function to solve the equation $x+\\frac{1}{x}=5$. We get two solutions which are $\\frac{5}{2}-\\frac{\\sqrt{21}}{2}$ and $\\frac{5}{2}+\\frac{\\sqrt{21}}{2}$. Then we can use the function `f(x)` we defined to compute the result. For both solutions we have the same result of $x^7+\\left(\\frac{1}{x}\\right)^7=57965$."
   ]
  },
  {
   "cell_type": "markdown",
   "metadata": {},
   "source": [
    "## <a id='multivariate'></a>\n",
    "### Exercise 3. Multivariate Polynomials "
   ]
  },
  {
   "cell_type": "markdown",
   "metadata": {},
   "source": [
    "<div markdown=1 class=\"DoIt\"> \n",
    "\n",
    "Use SymPy to find the coefficient of $x^3y^2z^7$ in the polynomial $(x+2y+z)^{12}$."
   ]
  },
  {
   "cell_type": "code",
   "execution_count": 24,
   "metadata": {},
   "outputs": [
    {
     "data": {
      "text/latex": [
       "$\\displaystyle x^{12} + 24 x^{11} y + 12 x^{11} z + 264 x^{10} y^{2} + 264 x^{10} y z + 66 x^{10} z^{2} + 1760 x^{9} y^{3} + 2640 x^{9} y^{2} z + 1320 x^{9} y z^{2} + 220 x^{9} z^{3} + 7920 x^{8} y^{4} + 15840 x^{8} y^{3} z + 11880 x^{8} y^{2} z^{2} + 3960 x^{8} y z^{3} + 495 x^{8} z^{4} + 25344 x^{7} y^{5} + 63360 x^{7} y^{4} z + 63360 x^{7} y^{3} z^{2} + 31680 x^{7} y^{2} z^{3} + 7920 x^{7} y z^{4} + 792 x^{7} z^{5} + 59136 x^{6} y^{6} + 177408 x^{6} y^{5} z + 221760 x^{6} y^{4} z^{2} + 147840 x^{6} y^{3} z^{3} + 55440 x^{6} y^{2} z^{4} + 11088 x^{6} y z^{5} + 924 x^{6} z^{6} + 101376 x^{5} y^{7} + 354816 x^{5} y^{6} z + 532224 x^{5} y^{5} z^{2} + 443520 x^{5} y^{4} z^{3} + 221760 x^{5} y^{3} z^{4} + 66528 x^{5} y^{2} z^{5} + 11088 x^{5} y z^{6} + 792 x^{5} z^{7} + 126720 x^{4} y^{8} + 506880 x^{4} y^{7} z + 887040 x^{4} y^{6} z^{2} + 887040 x^{4} y^{5} z^{3} + 554400 x^{4} y^{4} z^{4} + 221760 x^{4} y^{3} z^{5} + 55440 x^{4} y^{2} z^{6} + 7920 x^{4} y z^{7} + 495 x^{4} z^{8} + 112640 x^{3} y^{9} + 506880 x^{3} y^{8} z + 1013760 x^{3} y^{7} z^{2} + 1182720 x^{3} y^{6} z^{3} + 887040 x^{3} y^{5} z^{4} + 443520 x^{3} y^{4} z^{5} + 147840 x^{3} y^{3} z^{6} + 31680 x^{3} y^{2} z^{7} + 3960 x^{3} y z^{8} + 220 x^{3} z^{9} + 67584 x^{2} y^{10} + 337920 x^{2} y^{9} z + 760320 x^{2} y^{8} z^{2} + 1013760 x^{2} y^{7} z^{3} + 887040 x^{2} y^{6} z^{4} + 532224 x^{2} y^{5} z^{5} + 221760 x^{2} y^{4} z^{6} + 63360 x^{2} y^{3} z^{7} + 11880 x^{2} y^{2} z^{8} + 1320 x^{2} y z^{9} + 66 x^{2} z^{10} + 24576 x y^{11} + 135168 x y^{10} z + 337920 x y^{9} z^{2} + 506880 x y^{8} z^{3} + 506880 x y^{7} z^{4} + 354816 x y^{6} z^{5} + 177408 x y^{5} z^{6} + 63360 x y^{4} z^{7} + 15840 x y^{3} z^{8} + 2640 x y^{2} z^{9} + 264 x y z^{10} + 12 x z^{11} + 4096 y^{12} + 24576 y^{11} z + 67584 y^{10} z^{2} + 112640 y^{9} z^{3} + 126720 y^{8} z^{4} + 101376 y^{7} z^{5} + 59136 y^{6} z^{6} + 25344 y^{5} z^{7} + 7920 y^{4} z^{8} + 1760 y^{3} z^{9} + 264 y^{2} z^{10} + 24 y z^{11} + z^{12}$"
      ],
      "text/plain": [
       "x**12 + 24*x**11*y + 12*x**11*z + 264*x**10*y**2 + 264*x**10*y*z + 66*x**10*z**2 + 1760*x**9*y**3 + 2640*x**9*y**2*z + 1320*x**9*y*z**2 + 220*x**9*z**3 + 7920*x**8*y**4 + 15840*x**8*y**3*z + 11880*x**8*y**2*z**2 + 3960*x**8*y*z**3 + 495*x**8*z**4 + 25344*x**7*y**5 + 63360*x**7*y**4*z + 63360*x**7*y**3*z**2 + 31680*x**7*y**2*z**3 + 7920*x**7*y*z**4 + 792*x**7*z**5 + 59136*x**6*y**6 + 177408*x**6*y**5*z + 221760*x**6*y**4*z**2 + 147840*x**6*y**3*z**3 + 55440*x**6*y**2*z**4 + 11088*x**6*y*z**5 + 924*x**6*z**6 + 101376*x**5*y**7 + 354816*x**5*y**6*z + 532224*x**5*y**5*z**2 + 443520*x**5*y**4*z**3 + 221760*x**5*y**3*z**4 + 66528*x**5*y**2*z**5 + 11088*x**5*y*z**6 + 792*x**5*z**7 + 126720*x**4*y**8 + 506880*x**4*y**7*z + 887040*x**4*y**6*z**2 + 887040*x**4*y**5*z**3 + 554400*x**4*y**4*z**4 + 221760*x**4*y**3*z**5 + 55440*x**4*y**2*z**6 + 7920*x**4*y*z**7 + 495*x**4*z**8 + 112640*x**3*y**9 + 506880*x**3*y**8*z + 1013760*x**3*y**7*z**2 + 1182720*x**3*y**6*z**3 + 887040*x**3*y**5*z**4 + 443520*x**3*y**4*z**5 + 147840*x**3*y**3*z**6 + 31680*x**3*y**2*z**7 + 3960*x**3*y*z**8 + 220*x**3*z**9 + 67584*x**2*y**10 + 337920*x**2*y**9*z + 760320*x**2*y**8*z**2 + 1013760*x**2*y**7*z**3 + 887040*x**2*y**6*z**4 + 532224*x**2*y**5*z**5 + 221760*x**2*y**4*z**6 + 63360*x**2*y**3*z**7 + 11880*x**2*y**2*z**8 + 1320*x**2*y*z**9 + 66*x**2*z**10 + 24576*x*y**11 + 135168*x*y**10*z + 337920*x*y**9*z**2 + 506880*x*y**8*z**3 + 506880*x*y**7*z**4 + 354816*x*y**6*z**5 + 177408*x*y**5*z**6 + 63360*x*y**4*z**7 + 15840*x*y**3*z**8 + 2640*x*y**2*z**9 + 264*x*y*z**10 + 12*x*z**11 + 4096*y**12 + 24576*y**11*z + 67584*y**10*z**2 + 112640*y**9*z**3 + 126720*y**8*z**4 + 101376*y**7*z**5 + 59136*y**6*z**6 + 25344*y**5*z**7 + 7920*y**4*z**8 + 1760*y**3*z**9 + 264*y**2*z**10 + 24*y*z**11 + z**12"
      ]
     },
     "metadata": {},
     "output_type": "display_data"
    },
    {
     "name": "stdout",
     "output_type": "stream",
     "text": [
      "-------------------------\n",
      "Answer 3\n",
      "The coefficient of x^3 y^2 z^7 is  31680\n"
     ]
    }
   ],
   "source": [
    "var('x y z')\n",
    "poly = (x + 2*y + z) ** 12\n",
    "poly_expand = expand(poly)\n",
    "display(poly_expand)\n",
    "\n",
    "# And we try to find the coefficients x^3 y^2 z^7\n",
    "print('-------------------------')\n",
    "print('Answer 3')\n",
    "print('The coefficient of x^3 y^2 z^7 is ', poly_expand.coeff(x**3 * y**2 * z**7))"
   ]
  },
  {
   "cell_type": "markdown",
   "metadata": {},
   "source": [
    "<div markdown=1 class=\"Answers\"> \n",
    "\n",
    "**Answer for Exercise 3**\n",
    "\n",
    "We can use the `expand` function to expand the polynomial $(x+2y+z)^{12}$. Then we can use the `coeff` function to find the coefficient of $x^3y^2z^7$ is 31680."
   ]
  },
  {
   "cell_type": "markdown",
   "metadata": {},
   "source": [
    "## <a id=\"linear_recurrence\"></a>\n",
    "### Exercise 4. A linear recurrence"
   ]
  },
  {
   "cell_type": "markdown",
   "metadata": {},
   "source": [
    "<div markdown=1 class=\"DoIt\"> \n",
    "\n",
    "Let $(u_n)$ be defined by\n",
    "\\begin{equation}\n",
    "\\begin{cases}\n",
    "u_0&=7,\\\\\n",
    "u_1&=12,\\\\\n",
    "u_{n}&=u_{n-2} +8n-2. \\qquad (\\forall n\\geq 2).\n",
    "\\end{cases}\n",
    "\\tag{$\\star$}\n",
    "\\end{equation}\n",
    "1. Let  $a,b,c$ be four real parameters. Let $(w_n)_{n\\geq 0}$ be the sequence defined by\n",
    "$$\n",
    "w_n=an^2 +bn+c.\n",
    "$$\n",
    "Use `SymPy` to find $a,b,c$ such that for every $0\\leq n\\leq 2$,\n",
    "$$\n",
    "w_n=u_n.\n",
    "$$\n",
    "2. Prove with `SymPy` that $(w_n)$ defined as above is the unique solution of ($\\star$).\n",
    "\n"
   ]
  },
  {
   "cell_type": "code",
   "execution_count": 31,
   "metadata": {},
   "outputs": [
    {
     "name": "stdout",
     "output_type": "stream",
     "text": [
      "u_2 = 21\n",
      "-------------------------\n",
      "Answer\n",
      "{a: 2, b: 3, c: 7}\n"
     ]
    }
   ],
   "source": [
    "# ------------- Question 1 --------------\n",
    "u_0 = 7\n",
    "u_1 = 12\n",
    "\n",
    "\n",
    "def un(n):\n",
    "    if n == 0:\n",
    "        return u_0\n",
    "    if n == 1:\n",
    "        return u_1\n",
    "    # Recursive definition of the sequence\n",
    "    return un(n - 2) + 8 * n - 2\n",
    "\n",
    "\n",
    "print('u_2 = {}'.format(un(2)))\n",
    "var('n')\n",
    "a, b, c = sympy.symbols('a b c')\n",
    "eq0 = Eq(c, 7)\n",
    "eq1 = Eq(a + b + c, 12)\n",
    "eq2 = Eq(4 * a + 2 * b + c, 21)\n",
    "result = sympy.solve([eq1, eq2, eq0], (a, b, c))\n",
    "print('-------------------------')\n",
    "print('Answer')\n",
    "print(result)\n"
   ]
  },
  {
   "cell_type": "markdown",
   "metadata": {},
   "source": [
    "<div markdown=1 class=\"Answers\"> \n",
    "\n",
    "**Answer for Exercise 4.1**\n",
    "\n",
    "According to the function above we have\n",
    "$$\n",
    "a = 2, b = 3, c=7\n",
    "$$\n",
    "With this choice of parameters $(w_n)$ and $(u_n)$ are same with $0\\leq n \\leq2$"
   ]
  },
  {
   "cell_type": "code",
   "execution_count": 43,
   "metadata": {},
   "outputs": [
    {
     "name": "stdout",
     "output_type": "stream",
     "text": [
      "-------------------------\n"
     ]
    },
    {
     "data": {
      "text/latex": [
       "$\\displaystyle \\left( 2 n^{2} - 2 \\left(n - 2\\right)^{2} + 6, \\  2 - 8 n\\right)$"
      ],
      "text/plain": [
       "(2*n**2 - 2*(n - 2)**2 + 6, 2 - 8*n)"
      ]
     },
     "metadata": {},
     "output_type": "display_data"
    },
    {
     "name": "stdout",
     "output_type": "stream",
     "text": [
      "-------------------------\n",
      "Safety check:\n",
      "First values of w_n: [7, 12, 21, 34, 51, 72, 97, 126, 159, 196]\n",
      "First values (with recurrence formula) : [7, 12, 21, 34, 51, 72, 97, 126, 159, 196]\n"
     ]
    }
   ],
   "source": [
    "#-------------- Question 2 ----------------\n",
    "print('-------------------------')\n",
    "a1 = result[a]\n",
    "b1 = result[b]\n",
    "c1 = result[c]\n",
    "\n",
    "# we define the function w here\n",
    "def w(a, b, c, n):\n",
    "    return a * n**2 + b * n + c\n",
    "\n",
    "expr = w(a1, b1, c1, n) - w(a1, b1, c1, n - 2), - 8 * n + 2\n",
    "display(simplify(expr))\n",
    "\n",
    "print('-------------------------')\n",
    "print('Safety check:')\n",
    "print('First values of w_n: '+str([w(a1, b1, c1, i) for i in range(10)]))\n",
    "\n",
    "# In order to check our results:\n",
    "def Recurrence(n):\n",
    "    if n == 0:\n",
    "        return 7\n",
    "    if n == 1:\n",
    "        return 12\n",
    "    return Recurrence(n - 2) + 8 * n - 2\n",
    "\n",
    "print('First values (with recurrence formula) : '+str([Recurrence(n) for n in range(10)]))\n"
   ]
  },
  {
   "cell_type": "markdown",
   "metadata": {},
   "source": [
    "<div markdown=1 class=\"Answers\"> \n",
    "\n",
    "**Answer for Exercise 4.2**\n",
    "\n",
    "We first observe that eq.$(\\star)$ has a unique solution since the sequence $(u_n)$ is a recurrence of order one: it is uniquely determined by $u_0$.\n",
    "Besides, set\n",
    "$$\n",
    "w_n=2n^{2}+3n+7.\n",
    "$$\n",
    "Parameters are chosen so that $w_0=u_0=7$.\n",
    "The above script shows that for every $n$ we have that $w_n-2w_{n-2}-8n+2=0$. Therefore $(w_n)$ satisfies the recurrence $(\\star)$ and starts with the same initial value $w_0=7$. Therefore $w_n=u_n$ for every $n$."
   ]
  },
  {
   "cell_type": "markdown",
   "metadata": {},
   "source": [
    "## <a id=\"square\"></a>\n",
    "### Exercise 5. Square roots"
   ]
  },
  {
   "cell_type": "markdown",
   "metadata": {},
   "source": [
    "<div markdown=1 class=\"DoIt\"> <b>Theory</b>\n",
    "\n",
    "1. We admit that for every $n\\geq 1$ there exists three integers $a_n,b_n,c_n,d_n$ such that \n",
    "$$\n",
    "(\\sqrt{2}+\\sqrt{3})^n=a_n+b_n\\sqrt{2}+c_n\\sqrt{3}+d_n\\sqrt{6}.\n",
    "$$\n",
    "Find a $4\\times 4$ matrix $A$ such that\n",
    "$$\n",
    "\\begin{pmatrix}\n",
    "a_{n+1}\\\\\n",
    "b_{n+1}\\\\\n",
    "c_{n+1}\\\\\n",
    "d_{n+1}\n",
    "\\end{pmatrix}\n",
    "=\n",
    "A\\times \n",
    "\\begin{pmatrix}\n",
    "a_{n}\\\\\n",
    "b_{n}\\\\\n",
    "c_{n}\\\\\n",
    "d_{n}\n",
    "\\end{pmatrix}\n",
    "$$\n",
    "2. Use `SymPy` to find the formula for $d_n$. (Export the formula in LateX, do not worry if the formula looks ugly.)\n",
    " "
   ]
  },
  {
   "cell_type": "markdown",
   "metadata": {},
   "source": [
    "<div markdown=1 class=\"Answers\"> \n",
    "\n",
    "**Answer for Exercise 5.1**\n",
    "\n",
    "Since we admit that for every $n\\geq 1$ there exists three integers $a_n,b_n,c_n,d_n$ such that\n",
    "$$\n",
    "(\\sqrt{2}+\\sqrt{3})^n=a_n+b_n\\sqrt{2}+c_n\\sqrt{3}+d_n\\sqrt{6}.\n",
    "$$\n",
    "Therefore we have the computation\n",
    "\\begin{align*}\n",
    "(\\sqrt{2}+\\sqrt{3})^{n+1}&=a_{n+1}+b_{n+1}\\sqrt{2}+c_{n+1}\\sqrt{3}+d_{n+1}\\sqrt{6}\\\\\n",
    "&=(\\sqrt{2}+\\sqrt{3})(a_n+b_n\\sqrt{2}+c_n\\sqrt{3}+d_n\\sqrt{6})\\\\\n",
    "&=(2b_{n}+3c_{n})+(a_{n}+3d_{n})\\sqrt{2}+(a_{n}+2d_{n})\\sqrt{3}+(b_{n}+c_{n})\\sqrt{6}\n",
    "\\end{align*}\n",
    "Then we can have the relation that\n",
    "\\begin{cases}\n",
    "a_{n+1}&=2b_n+3c_n,\\\\\n",
    "b_{n+1}&=a_n+3d_n,\\\\\n",
    "c_{n+1}&=a_n+2d_n,\\\\\n",
    "d_{n+1}&=b_n+c_n.\n",
    "\\end{cases}\n",
    "Therefore we can get the matrix $A$ as\n",
    "$$\n",
    "A=\\begin{pmatrix}\n",
    "0&2&3&0\\\\\n",
    "1&0&0&3\\\\\n",
    "1&0&0&2\\\\\n",
    "0&1&1&0\n",
    "\\end{pmatrix}\n",
    "$$\n",
    "Also we have the initial value $a_1=0,b_1=1,c_1=1,d_1=0$."
   ]
  },
  {
   "cell_type": "code",
   "execution_count": 5,
   "metadata": {},
   "outputs": [
    {
     "data": {
      "text/latex": [
       "$\\displaystyle \\frac{- \\frac{5 \\left(- \\sqrt{5 - 2 \\sqrt{6}}\\right)^{n} \\sqrt{12 \\sqrt{6} + 30}}{24} + \\frac{\\left(- \\sqrt{5 - 2 \\sqrt{6}}\\right)^{n} \\sqrt{2 \\sqrt{6} + 5}}{2} + \\frac{\\sqrt{30 - 12 \\sqrt{6}} \\left(\\left(- \\sqrt{2 \\sqrt{6} + 5}\\right)^{n} - \\left(5 - 2 \\sqrt{6}\\right)^{\\frac{n}{2}} + \\left(2 \\sqrt{6} + 5\\right)^{\\frac{n}{2}}\\right)}{24}}{\\sqrt{5 - 2 \\sqrt{6}}}$"
      ],
      "text/plain": [
       "(-5*(-sqrt(5 - 2*sqrt(6)))**n*sqrt(12*sqrt(6) + 30)/24 + (-sqrt(5 - 2*sqrt(6)))**n*sqrt(2*sqrt(6) + 5)/2 + sqrt(30 - 12*sqrt(6))*((-sqrt(2*sqrt(6) + 5))**n - (5 - 2*sqrt(6))**(n/2) + (2*sqrt(6) + 5)**(n/2))/24)/sqrt(5 - 2*sqrt(6))"
      ]
     },
     "metadata": {},
     "output_type": "display_data"
    },
    {
     "name": "stdout",
     "output_type": "stream",
     "text": [
      "-------------------------\n",
      "The latex formula of dn is  \\frac{- \\frac{5 \\left(- \\sqrt{5 - 2 \\sqrt{6}}\\right)^{n} \\sqrt{12 \\sqrt{6} + 30}}{24} + \\frac{\\left(- \\sqrt{5 - 2 \\sqrt{6}}\\right)^{n} \\sqrt{2 \\sqrt{6} + 5}}{2} + \\frac{\\sqrt{30 - 12 \\sqrt{6}} \\left(\\left(- \\sqrt{2 \\sqrt{6} + 5}\\right)^{n} - \\left(5 - 2 \\sqrt{6}\\right)^{\\frac{n}{2}} + \\left(2 \\sqrt{6} + 5\\right)^{\\frac{n}{2}}\\right)}{24}}{\\sqrt{5 - 2 \\sqrt{6}}}\n"
     ]
    }
   ],
   "source": [
    "# Question 2\n",
    "A = Matrix([[0, 2, 3, 0], [1, 0, 0, 3], [1, 0, 0, 2], [0, 1, 1, 0]])\n",
    "var('n', integer=True)\n",
    "Power = A**(n - 1)\n",
    "\n",
    "dn = simplify(Power[3, 1] + Power[3, 2])\n",
    "display(simplify(dn))\n",
    "print('-------------------------')\n",
    "print('The latex formula of dn is ', latex(simplify(dn)))"
   ]
  },
  {
   "cell_type": "markdown",
   "metadata": {},
   "source": [
    "<div markdown=1 class=\"Answers\"> \n",
    "\n",
    "**Answer for Exercise 5.2**\n",
    "\n",
    "From above we have that\n",
    "$$\n",
    "\\begin{pmatrix}\n",
    "a_{n+1}\\\\\n",
    "b_{n+1}\\\\\n",
    "c_{n+1}\\\\\n",
    "d_{n+1}\n",
    "\\end{pmatrix} = \n",
    "\\begin{pmatrix}\n",
    "0&2&3&0\\\\\n",
    "1&0&0&3\\\\\n",
    "1&0&0&2\\\\\n",
    "0&1&1&0\n",
    "\\end{pmatrix} \\times\n",
    "\\begin{pmatrix}\n",
    "a_n\\\\\n",
    "b_n\\\\\n",
    "c_n\\\\\n",
    "d_n\n",
    "\\end{pmatrix}\n",
    "$$\n",
    "which can be written as\n",
    "$$\n",
    "\\begin{pmatrix}\n",
    "a_{n+1}\\\\\n",
    "b_{n+1}\\\\\n",
    "c_{n+1}\\\\\n",
    "d_{n+1}\n",
    "\\end{pmatrix} = \n",
    "\\begin{pmatrix}\n",
    "0&2&3&0\\\\\n",
    "1&0&0&3\\\\\n",
    "1&0&0&2\\\\\n",
    "0&1&1&0\n",
    "\\end{pmatrix}^{n-1} \\times\n",
    "\\begin{pmatrix}\n",
    "a_1\\\\\n",
    "b_1\\\\\n",
    "c_1\\\\\n",
    "d_1\n",
    "\\end{pmatrix} = \n",
    "\\begin{pmatrix}\n",
    "0&2&3&0\\\\\n",
    "1&0&0&3\\\\\n",
    "1&0&0&2\\\\\n",
    "0&1&1&0\n",
    "\\end{pmatrix}^{n-1} \\times\n",
    "\\begin{pmatrix}\n",
    "0\\\\\n",
    "1\\\\\n",
    "1\\\\\n",
    "0\n",
    "\\end{pmatrix}\n",
    "$$\n",
    "Then we can get the formula for $d_n$ as\n",
    "$$\n",
    "d_{n}=A_{4,2}^{n-1}+A_{4,3}^{n-1}\n",
    "$$\n",
    "We export the result as LateX code we got\n",
    "$$\n",
    "d_{n}= \\frac{- \\frac{5 \\left(- \\sqrt{5 - 2 \\sqrt{6}}\\right)^{n} \\sqrt{12 \\sqrt{6} + 30}}{24} + \\frac{\\left(- \\sqrt{5 - 2 \\sqrt{6}}\\right)^{n} \\sqrt{2 \\sqrt{6} + 5}}{2} + \\frac{\\sqrt{30 - 12 \\sqrt{6}} \\left(\\left(- \\sqrt{2 \\sqrt{6} + 5}\\right)^{n} - \\left(5 - 2 \\sqrt{6}\\right)^{\\frac{n}{2}} + \\left(2 \\sqrt{6} + 5\\right)^{\\frac{n}{2}}\\right)}{24}}{\\sqrt{5 - 2 \\sqrt{6}}}\n",
    "$$\n"
   ]
  }
 ],
 "metadata": {
  "kernelspec": {
   "display_name": "Python 3 (ipykernel)",
   "language": "python",
   "name": "python3"
  },
  "language_info": {
   "codemirror_mode": {
    "name": "ipython",
    "version": 3
   },
   "file_extension": ".py",
   "mimetype": "text/x-python",
   "name": "python",
   "nbconvert_exporter": "python",
   "pygments_lexer": "ipython3",
   "version": "3.9.7"
  },
  "vscode": {
   "interpreter": {
    "hash": "40d3a090f54c6569ab1632332b64b2c03c39dcf918b08424e98f38b5ae0af88f"
   }
  }
 },
 "nbformat": 4,
 "nbformat_minor": 4
}
