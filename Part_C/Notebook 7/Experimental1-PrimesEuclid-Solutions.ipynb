{
 "cells": [
  {
   "cell_type": "markdown",
   "metadata": {},
   "source": [
    "<img src='./figures/logo-ecole-polytechnique-ve.jpg' style='position:absolute; top:0; right:0;' width='100px' height='' alt='' />\n",
    "\n",
    "<center>**Bachelor of Ecole Polytechnique**</center>\n",
    "<center><i>Algorithms for Discrete Mathematics</i>, year 2, semester 1</center>\n",
    "\n",
    "# Experimental Maths 1: Primes and Euclid (with Solutions)\n"
   ]
  },
  {
   "cell_type": "markdown",
   "metadata": {},
   "source": [
    "## Table of contents\n",
    "\n",
    "- [1. Primes and factorization](#DistributionPrime)\n",
    " - [Prime numbers and divisibility](#DistributionPrime)\n",
    " - [Factorization](#Factorization)\n",
    " - [Euclid Algorithm and application](#EuclidAlgorithm)\n",
    "- [2. Sums of squares](#SumsOfTwoSquares)\n",
    "- [3. A mysterious function](#ChangeBasis)\n"
   ]
  },
  {
   "cell_type": "code",
   "execution_count": 1,
   "metadata": {},
   "outputs": [
    {
     "data": {
      "text/html": [
       "<link href='http://fonts.googleapis.com/css?family=Fenix' rel='stylesheet' type='text/css'>\n",
       "<link href='http://fonts.googleapis.com/css?family=Alegreya+Sans:100,300,400,500,700,800,900,100italic,300italic,400italic,500italic,700italic,800italic,900italic' rel='stylesheet' type='text/css'>\n",
       "<link href='http://fonts.googleapis.com/css?family=Source+Code+Pro:300,400' rel='stylesheet' type='text/css'>\n",
       "<link href=\"https://fonts.googleapis.com/css?family=Oswald|Raleway\" rel=\"stylesheet\" type='text/css'> \n",
       "<style>\n",
       ".prompt{\n",
       "    display: none !important;\n",
       "}\n",
       "\n",
       ".rendered_html pre {\n",
       "    border: 1px solid #f0f6f9 !important;\n",
       "}\n",
       "\n",
       ".rendered_html pre, .rendered_html code {\n",
       "    background-color: #d3d8db !important;\n",
       "    padding: 1% !important;\n",
       "    line-height: 200% !important;\n",
       "    border-radius: 10px !important;\n",
       "}\n",
       "\n",
       "div.input_area {\n",
       "    border-radius: 10px !important;\n",
       "    background-color: #e1e1e6 !important;\n",
       "}\n",
       "\n",
       "div.cell{\n",
       "        width:85% !important;\n",
       "        margin-left:5% !important;\n",
       "        /*margin-right:auto;*/\n",
       "    }\n",
       "    h1, h2, h3, h4, h5 {\n",
       "        font-family: 'Oswald', sans-serif; !important;\n",
       "        font-style: oblique !important;\n",
       "    }\n",
       "    div.text_cell_render{\n",
       "        font-family: 'Raleway', sans-serif; !important;\n",
       "        line-height: 135% !important;\n",
       "        font-size: 120% !important;\n",
       "        width:100%;/*600px;*/\n",
       "        /*margin-left:auto;*/\n",
       "        /*margin-right:auto;*/\n",
       "    }\n",
       "    .CodeMirror{\n",
       "            font-family: \"Source Code Pro\" !important;\n",
       "\t\t\tfont-size: 100% !important;\n",
       "    }\n",
       "    .text_cell_render p{\n",
       "        text-align: justify !important;\n",
       "    }\n",
       "    .text_cell_render h1 {\n",
       "        font-weight: 200 !important;\n",
       "\t\tline-height: 100% !important;\n",
       "        color:#47597A !important;\n",
       "        margin-bottom: 10.em !important;\n",
       "        margin-top: 50.em !important;\n",
       "        padding-bottom: 50.em !important;\n",
       "        padding-top: 50.em !important;\n",
       "        display: block !important;\n",
       "        font-size: 300% !important;\n",
       "        text-align: center !important;\n",
       "        border-bottom: 1px solid #47597A !important;\n",
       "        border-top: 1px solid #47597A !important;\n",
       "    }\n",
       "    .text_cell_render h2 {\n",
       "        font-weight: 200 !important;\n",
       "\tline-height: 100% !important;\n",
       "        color:#47597A !important;\n",
       "        margin-bottom: 0.5em !important;\n",
       "        margin-top: 0.5em !important;\n",
       "        display: block !important;\n",
       "        font-size: 200% !important;\n",
       "        border-bottom: 1px solid #47597A !important;\n",
       "    }\n",
       "    .text_cell_render h3 {\n",
       "        font-weight: 200 !important;\n",
       "\tline-height: 100% !important;\n",
       "        color:#47597A !important;\n",
       "        margin-bottom: 0.5em !important;\n",
       "        margin-top: 0.5em !important;\n",
       "        display: block !important;\n",
       "        font-size: 150% !important;\n",
       "    }\n",
       "    .text_cell_render h4 {\n",
       "        font-style: italic !important;\n",
       "        font-weight: bold !important;\n",
       "\tline-height: 100% !important;\n",
       "        color:#47597A !important;\n",
       "        display: block !important;\n",
       "        font-size: 100% !important;\n",
       "    }\n",
       "    .text_cell_render h5 {\n",
       "        font-weight: 200 !important;\n",
       "\tline-height: 100% !important;\n",
       "        color:#47597A !important;\n",
       "        margin-bottom: 0.5em !important;\n",
       "        margin-top: 0.5em !important;\n",
       "        display: block !important;\n",
       "        font-size: 100% !important;\n",
       "    }\n",
       "    .text_cell_render ul {\n",
       "\tlist-style-type: disc !important;\n",
       "\tline-height: 2;\n",
       "\t/*color:#47597A !important;*/\n",
       "    }\n",
       "    .warning{\n",
       "        color: rgb( 240, 20, 20 ) !important;\n",
       "        }\n",
       "    .Abstract {  \n",
       "\ttext-align: justify;\n",
       "\tbackground-color: #d6edf9;\n",
       "\tborder-left: 5px solid #47597A;\n",
       "\tpadding: 0.5em;\n",
       "\tmargin: 0  150px 0 150px;\n",
       "    }\n",
       "    .Def {    \n",
       "\tbackground-color: #d9f7d7;\n",
       "\tborder-left: 5px solid #4a7047;\n",
       "\tpadding: 0.5em;\n",
       "    }\n",
       "    .Def:before {\n",
       "\tcontent: \"Definition.\";\n",
       "\tcolor:#4a7047;\n",
       "\tfont-weight: bold;\n",
       "\tfont-style: normal;\n",
       "    }\n",
       "    .DoIt {    \n",
       "\tbackground-color: #e8cfc9;\n",
       "\tborder-left: 5px solid #a90e05;\n",
       "\tpadding: 0.5em;\n",
       "    }\n",
       "    .DoIt:before {\n",
       "\tcontent: \"Do it yourself.\";\n",
       "\tcolor:#a90e05;\n",
       "\tfont-weight: bold;\n",
       "\tfont-style: normal;\n",
       "    }\n",
       "    .Answers {    \n",
       "\tbackground-color: #DDA0DD;\n",
       "\tborder-left: 5px solid #9932CC;\n",
       "\tpadding: 0.5em;\n",
       "    }\n",
       "    .Answers:before {\n",
       "\tcontent: \"Answers.\";\n",
       "\tcolor:#682145;\n",
       "\tfont-weight: bold;\n",
       "\tfont-style: normal;\n",
       "    }\n",
       "    .Prop {    \n",
       "\tbackground-color:#f9ecd1;\n",
       "\tborder-left: 5px solid #ba7021;\n",
       "\tpadding: 0.5em;\n",
       "    }\n",
       "   .Prop:before {\n",
       "       content: \"Proposition.\";\n",
       "       color:#ba7021;\n",
       "       font-weight: bold;\n",
       "       font-style: normal;\n",
       "    }\n",
       "   .Thm {    \n",
       "\tbackground-color:#f9ecd1;\n",
       "\tborder-left: 5px solid #ba7021;\n",
       "\tpadding: 0.5em;\n",
       "    }\n",
       "   .Thm:before {\n",
       "       content: \"Theorem.\";\n",
       "       color:#ba7021;\n",
       "       font-weight: bold;\n",
       "       font-style: normal;\n",
       "    } \n",
       "   .Algo {    \n",
       "\tbackground-color:#f9ecd1;\n",
       "\tborder-left: 5px solid #ba7021;\n",
       "\tpadding: 0.5em;\n",
       "    }\n",
       "   .Algo:before {\n",
       "       content: \"Algorithm.\";\n",
       "       color:#ba7021;\n",
       "       font-weight: bold;\n",
       "       font-style: normal;\n",
       "    }\n",
       "    .Rmk {    \n",
       "\tbackground-color: #dbf1fc;\n",
       "\tborder-left: 5px solid #385487;\n",
       "\tpadding: 0.5em;\n",
       "    }\n",
       "    .Rmk:before {\n",
       "\tcontent: \"Remark.\";\n",
       "\tcolor:#385487;\n",
       "\tfont-weight: bold;\n",
       "\tfont-style: normal;\n",
       "    }\n",
       "    .Ex {    \n",
       "\tbackground-color: #dbf1fc;\n",
       "\tborder-left: 5px solid #385487;\n",
       "\tpadding: 0.5em;\n",
       "    }\n",
       "    .Ex:before {\n",
       "\tcontent: \"Example.\";\n",
       "\tcolor:#385487;\n",
       "\tfont-weight: bold;\n",
       "\tfont-style: normal;\n",
       "    }\n",
       "\n",
       "/*    .toc-item-num {\n",
       "#        display: none;\n",
       "#    }\n",
       "*/\n",
       "    .reveal section img{\n",
       "        margin: 0px auto;\n",
       "    }\n",
       "\n",
       "    div.output_area img{\n",
       "        display: block;\n",
       "        margin: 0px auto;\n",
       "    }\n",
       "  \n",
       "</style>\n",
       "\n",
       "<script>\n",
       "MathJax.Hub.Config({\n",
       "TeX: {extensions: [\"AMSmath.js\"] },\n",
       "                tex2jax: {\n",
       "                    inlineMath: [ ['$','$'], [\"\\\\(\",\"\\\\)\"] ],\n",
       "                    displayMath: [ ['$$','$$'], [\"\\\\[\",\"\\\\]\"] ]\n",
       "                },\n",
       "                displayAlign: 'center', // Change this to 'center' to center equations.\n",
       "                \"HTML-CSS\": {\n",
       "                    styles: {'.MathJax_Display': {\"margin\": 4}}\n",
       "                }\n",
       "        });\n",
       "\n",
       "\n",
       "\n",
       "</script>\n"
      ],
      "text/plain": [
       "<IPython.core.display.HTML object>"
      ]
     },
     "execution_count": 1,
     "metadata": {},
     "output_type": "execute_result"
    }
   ],
   "source": [
    "# execute this part to modify the css style\n",
    "from IPython.core.display import HTML\n",
    "def css_styling():\n",
    "    styles = open(\"./style/custom2.css\").read()\n",
    "    return HTML(styles)\n",
    "css_styling()\n"
   ]
  },
  {
   "cell_type": "code",
   "execution_count": 2,
   "metadata": {},
   "outputs": [],
   "source": [
    "## loading python libraries\n",
    "\n",
    "# necessary to display plots inline:\n",
    "%matplotlib inline   \n",
    "\n",
    "# load the libraries\n",
    "import matplotlib.pyplot as plt # 2D plotting library\n",
    "import numpy as np              # package for scientific computing  \n",
    "from math import *              # package for mathematics (pi, arctan, sqrt, factorial ...)\n"
   ]
  },
  {
   "cell_type": "markdown",
   "metadata": {},
   "source": [
    "<a id=\"DistributionPrime\"></a>\n",
    "# 1. Primes and factorization\n",
    "## Prime numbers and divisibility"
   ]
  },
  {
   "cell_type": "markdown",
   "metadata": {},
   "source": [
    "We aim to investigate the distribution of primes among integers. Namely, how many prime numbers are there (approximately) between $1$ and $n$?"
   ]
  },
  {
   "cell_type": "markdown",
   "metadata": {},
   "source": [
    "<div markdown=1 class=\"DoIt\"> \n",
    "\n",
    "Write a boolean function IsPrime($n$) which returns `True` if and only $n$ is prime.<br>\n",
    "<i>(In python $a\\ (\\mathrm{mod}\\ p)$ is obtained with `a%p`.)</i>"
   ]
  },
  {
   "cell_type": "code",
   "execution_count": 6,
   "metadata": {},
   "outputs": [
    {
     "name": "stdout",
     "output_type": "stream",
     "text": [
      "True\n",
      "True\n",
      "True\n",
      "False\n"
     ]
    }
   ],
   "source": [
    "def IsPrime(n):\n",
    "    # input: integer n\n",
    "    # output: True or False depending on whether n is prime or not\n",
    "    if n==1:\n",
    "        return False\n",
    "    if n==2:\n",
    "        return True\n",
    "    elif n%2==0:\n",
    "        return False\n",
    "    factor=3\n",
    "    while factor**2 < n+1:\n",
    "        if n%factor == 0:\n",
    "            return False \n",
    "        factor=factor+2\n",
    "    return True\n",
    "\n",
    "# Test\n",
    "print(IsPrime(2))\n",
    "print(IsPrime(1997))\n",
    "print(IsPrime(1999))\n",
    "print(IsPrime(2001))\n"
   ]
  },
  {
   "cell_type": "markdown",
   "metadata": {},
   "source": [
    "Now we are ready for experiment. For $n\\geq 2$, let $\\pi(n)$ denote the number of primes less than $n$. For example, $\\pi(11)=5$ since $2,3,5,7,11$ are prime."
   ]
  },
  {
   "cell_type": "markdown",
   "metadata": {},
   "source": [
    "<div markdown=1 class=\"DoIt\">\n",
    "\n",
    "1. Write a script which takes as input $n$ and returns the list $[\\pi(2),\\pi(3),\\dots,\\pi(n)]$.\n",
    "2. Plot the function $n \\mapsto \\pi(n)$ (try $n=100,1000,10000$)."
   ]
  },
  {
   "cell_type": "code",
   "execution_count": 33,
   "metadata": {},
   "outputs": [
    {
     "data": {
      "image/png": "[encoded data removed]",
      "text/plain": [
       "<Figure size 432x288 with 1 Axes>"
      ]
     },
     "metadata": {
      "needs_background": "light"
     },
     "output_type": "display_data"
    }
   ],
   "source": [
    "CountingPrimes=[0,1]\n",
    "T=10000\n",
    "\n",
    "NN=range(3,T)\n",
    "\n",
    "for n in range(3,T,2):\n",
    "    if IsPrime(n):\n",
    "        CountingPrimes.append(CountingPrimes[-1]+1)\n",
    "    else:\n",
    "        CountingPrimes.append(CountingPrimes[-1])\n",
    "    CountingPrimes.append(CountingPrimes[-1])\n",
    "\n",
    "if T%2==0:\n",
    "    CountingPrimes=CountingPrimes[:-1]\n",
    "    \n",
    "#print([n for n in range(1,T)])\n",
    "#print(CountingPrimes)\n",
    "    \n",
    "plt.plot(range(1,T),CountingPrimes,label='pi')\n",
    "\n",
    "#plt.plot(range(1,T),X/np.log(X+1))\n",
    "plt.xlabel('Number $n$'),plt.ylabel('Primes less than $n$')\n",
    "plt.title('Counting Primes')\n",
    "plt.show()\n"
   ]
  },
  {
   "cell_type": "markdown",
   "metadata": {},
   "source": [
    "<div markdown=1 class=\"DoIt\"> Modify your previous plot to illustrate the <a href=\"https://en.wikipedia.org/wiki/Prime_number_theorem\">Prime Number Theorem</a>:\n",
    "$$\n",
    "\\pi(n)\\sim \\frac{n}{\\log(n)}.\n",
    "$$\n"
   ]
  },
  {
   "cell_type": "code",
   "execution_count": 34,
   "metadata": {},
   "outputs": [
    {
     "data": {
      "image/png": "[encoded data removed]",
      "text/plain": [
       "<Figure size 432x288 with 1 Axes>"
      ]
     },
     "metadata": {
      "needs_background": "light"
     },
     "output_type": "display_data"
    },
    {
     "name": "stdout",
     "output_type": "stream",
     "text": [
      "1.131950831715873\n"
     ]
    }
   ],
   "source": [
    "# By trial and errors we finally guess that pi(n) is close to n/log(n)\n",
    "   \n",
    "X=range(1,T)\n",
    "plt.plot(range(1,T),CountingPrimes*np.log(X)/X)\n",
    "plt.xlabel('Number $n$'),plt.ylabel('$P(n)/(n\\log(n))$')\n",
    "plt.title('Our guess : n/log(n)')\n",
    "plt.show()\n",
    "R=CountingPrimes[-1]*np.log(T)/(T+0.0)\n",
    "print(R)\n"
   ]
  },
  {
   "cell_type": "markdown",
   "metadata": {},
   "source": [
    "<div markdown=1 class=\"Answers\"> \n",
    "According to the above plot, we have something like\n",
    "$$\n",
    "P(n) \\sim C\\times \\frac{n}{\\log(n)}\n",
    "$$\n",
    "where $C\\approx 1.13$ is indeed close to $1$."
   ]
  },
  {
   "cell_type": "markdown",
   "metadata": {},
   "source": [
    "<a id=\"Factorization\"></a>\n",
    "## Factorization"
   ]
  },
  {
   "cell_type": "markdown",
   "metadata": {},
   "source": [
    "<div markdown=1 class=\"DoIt\"> Write a function `Factorize(n)` which returns the factorization of `n` into primes. For example your function should return:\n",
    "\n",
    "```python\n",
    "Factorize(2158884)\n",
    "[2, 2, 3, 3, 7, 13, 659]\n",
    "```\n",
    "\n",
    "<i>Hint: Think recursive!</i>"
   ]
  },
  {
   "cell_type": "code",
   "execution_count": 40,
   "metadata": {},
   "outputs": [
    {
     "name": "stdout",
     "output_type": "stream",
     "text": [
      "[2, 2, 3, 3, 7, 13, 659]\n",
      "[32, 48, 72, 80, 108, 112, 120, 162, 168, 176, 180, 200, 208, 243, 252, 264, 270, 272, 280]\n"
     ]
    }
   ],
   "source": [
    "def Factorize(n):\n",
    "    # input: integer n\n",
    "    # output: list of factors of n\n",
    "    for factor in range(2,n): # Tests division by 2,3,...,n\n",
    "        if n%factor == 0:\n",
    "            return [factor]+Factorize(n//factor)\n",
    "    return [n]\n",
    "\n",
    "print(Factorize(2158884))\n",
    "\n",
    "\n",
    "print([n for n in range(300) if len(Factorize(n))==5])"
   ]
  },
  {
   "cell_type": "markdown",
   "metadata": {},
   "source": [
    "For $n\\geq 2$ we introduce \n",
    "$$\n",
    "F(n)=\\text{Number of prime factors of $n$, counted with multiplicity}. \n",
    "$$\n",
    "For example, $F(2158884)=7$."
   ]
  },
  {
   "cell_type": "markdown",
   "metadata": {},
   "source": [
    "<div markdown=1 class=\"DoIt\"> Plot the function $n \\mapsto F(n)$ (try $n=100,1000,5000$)."
   ]
  },
  {
   "cell_type": "code",
   "execution_count": 11,
   "metadata": {},
   "outputs": [
    {
     "data": {
      "image/png": "[encoded data removed]",
      "text/plain": [
       "<matplotlib.figure.Figure at 0x8988690>"
      ]
     },
     "metadata": {},
     "output_type": "display_data"
    }
   ],
   "source": [
    "n_min=2\n",
    "n_max=200\n",
    "F=[len(Factorize(k)) for k in range(n_min,n_max)]\n",
    "X=range(n_min,n_max)\n",
    "#plt.figure(dpi= 200, facecolor='w', edgecolor='w')\n",
    "plt.plot(X,F,'o',label='F(n)')\n",
    "plt.plot(X,np.log(X)/np.log(2),label='log_2(n)')\n",
    "plt.xlabel('Number $n$')\n",
    "plt.title('Number of prime factors')\n",
    "plt.legend()\n",
    "\n",
    "plt.show()\n"
   ]
  },
  {
   "cell_type": "markdown",
   "metadata": {},
   "source": [
    "<div markdown=1 class=\"DoIt\"> <b>(Theory)</b><br>\n",
    "\n",
    "1. Plot on the previous picture $n\\mapsto F(n)$ and $n\\mapsto \\log_2(n)$ (logarithm in basis two).\n",
    "2. Prove the following: \n",
    "  - <b>(lower bound)</b> There are infinitely many $n$'s for which $F(n)=\\log_2(n)$.\n",
    "  - <b>(upper bound)</b> $F(n)\\leq \\log_2(n)$ for every $n$.\n"
   ]
  },
  {
   "cell_type": "markdown",
   "metadata": {},
   "source": [
    "<div markdown=1 class=\"Answers\"> \n",
    "\n",
    "1. See the previous picture. One sees that $F(n)$ is always below $\\log_2(n)$ but they seem to coincide at $n=2,4,8,16,32,...$\n",
    "\n",
    "2. \n",
    "  - When $n=2^k$  is a power of two,\n",
    "$$\n",
    "F(2^k)=k=\\log_2(n)\n",
    "$$\n",
    "Thus, for infinitely many integers (the powers of two), $F(n)=\\log_2(n)$.<br>\n",
    "  - For any integer $n$, let us write\n",
    "<center>\n",
    "`Factorize(n)` $= [a_1,a_2,\\dots a_{F(n)}]$.\n",
    "</center>\n",
    "Every factor $a_i$ in the above decomposition is $\\geq 2$. Therefore\n",
    "$$\n",
    "n=a_1\\times a_2 \\times \\dots \\times a_{F(n)} \\geq 2^{F(n)},\n",
    "$$\n",
    "<i>i.e.</i> $F(n)\\leq \\log_2(n)$ for every $n$.<br>"
   ]
  },
  {
   "cell_type": "markdown",
   "metadata": {},
   "source": [
    "<a id=\"EuclidAlgorithm\"></a>\n",
    "## The Euclid algorithm"
   ]
  },
  {
   "cell_type": "markdown",
   "metadata": {},
   "source": [
    "We recall that Euclid's algorithm (which computes the gcd of two non-negative integers) relies on the fact that for every $a,b$ we have\n",
    "$$\n",
    "\\begin{cases}\n",
    "\\mathrm{gcd}(a,b)&=\\mathrm{gcd}(b,a\\% b),\\\\\n",
    "\\mathrm{gcd}(a,0)&=a,\\\\\n",
    "\\end{cases}\n",
    "$$\n",
    "where $a\\% b$ is the remainder of the euclidean division $a/b$."
   ]
  },
  {
   "cell_type": "markdown",
   "metadata": {},
   "source": [
    "<div markdown=1 class=\"DoIt\">\n",
    "Write a function `GreatestCommonDivisor(a,b)` which returns $\\mathrm{gcd}(a,b)$ using the Euclid algorithm."
   ]
  },
  {
   "cell_type": "code",
   "execution_count": 2,
   "metadata": {},
   "outputs": [
    {
     "name": "stdout",
     "output_type": "stream",
     "text": [
      "14\n"
     ]
    }
   ],
   "source": [
    "def GreatestCommonDivisor(a,b):\n",
    "    # input: a,b: non-negative integers\n",
    "    # output: returns the gcd of a and b\n",
    "    if b==0:\n",
    "        return a\n",
    "    else:\n",
    "        return GreatestCommonDivisor(b,a%b)\n",
    "    \n",
    "print(GreatestCommonDivisor(7*5*2,13*7*2))\n"
   ]
  },
  {
   "cell_type": "markdown",
   "metadata": {},
   "source": [
    "Integers $m,n$ are said to be <i>coprime</i> if $\\mathrm{gcd}(m,n)=1$. For example, $14,9$ are coprime.\n",
    "\n",
    "In many references (see e.g. <a href=\"https://en.wikipedia.org/wiki/Coprime_integers#Probability_of_coprimality\">Wikipedia</a>) one can read that\n",
    "<center>\n",
    "    \"<i>The probability that two numbers randomly chosen are coprime is $\\frac{6}{\\pi^2}$.</i>\"\n",
    "</center>\n",
    "Yet there is no obvious way to rigorously define what are \"two numbers randomly chosen\". A possible interpretation is the following:\n",
    "$$\n",
    "\\frac{\\mathrm{card}\\left\\{(i,j)\\in[1,n]^2\\text{ such that }\\mathrm{gcd}(i,j)=1\\right\\}}{\\mathrm{card}\\left\\{(i,j)\\in[1,n]^2\\right\\}} \\stackrel{n\\to +\\infty}{\\to} \\frac{6}{\\pi^2}.\n",
    "$$"
   ]
  },
  {
   "cell_type": "markdown",
   "metadata": {},
   "source": [
    "<div markdown=1 class=\"DoIt\"> \n",
    "Use your function `GreatestCommonDivisor` to draw a plot which illustrates the above convergence towards $\\frac{6}{\\pi^2}$ ($n=200$ should be enough)."
   ]
  },
  {
   "cell_type": "code",
   "execution_count": 8,
   "metadata": {},
   "outputs": [
    {
     "name": "stdout",
     "output_type": "stream",
     "text": [
      "0.60755\n"
     ]
    },
    {
     "data": {
      "image/png": "[encoded data removed]",
      "text/plain": [
       "<matplotlib.figure.Figure at 0x399e690>"
      ]
     },
     "metadata": {},
     "output_type": "display_data"
    }
   ],
   "source": [
    "N=200 # Final value for the test\n",
    "\n",
    "PairsOfCoprime=[0]\n",
    "\n",
    "for n in range(2,N):\n",
    "    NewCoprimeWith_n=0\n",
    "    for k in range(1,n):\n",
    "        if GreatestCommonDivisor(k,n)==1:\n",
    "            NewCoprimeWith_n=NewCoprimeWith_n+1\n",
    "    CoprimeWith_n=PairsOfCoprime[-1]+2*NewCoprimeWith_n\n",
    "    PairsOfCoprime.append(CoprimeWith_n)\n",
    "\n",
    "X=np.arange(1,N)\n",
    "print(PairsOfCoprime[-1]/(N**2+0.0))\n",
    "Claim=6/(np.pi**2)\n",
    "\n",
    "plt.plot(X,PairsOfCoprime/(X**2+0.0))\n",
    "plt.plot([0,n],[Claim,Claim],label='6/pi^2')\n",
    "plt.xlabel('Number $n$'),plt.ylabel('Probability')\n",
    "plt.title('Probability of being coprime')\n",
    "plt.legend()\n",
    "plt.show()\n"
   ]
  },
  {
   "cell_type": "markdown",
   "metadata": {},
   "source": [
    "<div markdown=1 class=\"DoIt\"> Write a function `GreatestCommonDivisor_3(a,b,c)` which returns the gcd of three numbers."
   ]
  },
  {
   "cell_type": "code",
   "execution_count": 3,
   "metadata": {},
   "outputs": [
    {
     "data": {
      "text/plain": [
       "40"
      ]
     },
     "execution_count": 3,
     "metadata": {},
     "output_type": "execute_result"
    }
   ],
   "source": [
    "def GreatestCommonDivisor_3(a,b,c):\n",
    "    # input: a,b,c: non-negative integers\n",
    "    # output: returns the gcd of a,b,c\n",
    "    return GreatestCommonDivisor(a,GreatestCommonDivisor(b,c))\n",
    "    \n",
    "GreatestCommonDivisor_3(11*4*10*7,4*10*3,5*4*10*17)"
   ]
  },
  {
   "cell_type": "markdown",
   "metadata": {},
   "source": [
    "<a id=\"SumsOfTwoSquares\"></a>\n",
    "# 2. Sums of squares"
   ]
  },
  {
   "cell_type": "markdown",
   "metadata": {},
   "source": [
    "We say that $n$ is a sum of two squares if there exist two integers $a,b\\geq 1$ such that\n",
    "$$\n",
    "n=a^2+b^2.\n",
    "$$\n",
    "For example, $10=3^2+1^2$ is a sum of two squares while $11$ is not."
   ]
  },
  {
   "cell_type": "markdown",
   "metadata": {},
   "source": [
    "<div markdown=1 class=\"DoIt\"> \n",
    "\n",
    "Write a function `SumsOfTwoSquares(n)` which returns the list of all decompositions of $n$ as a sum of two squares. For example:\n",
    "```python\n",
    "SumsOfTwoSquares(905)\n",
    "[[8, 29], [11, 28], [28, 11], [29, 8]]\n",
    "SumsOfTwoSquares(11)\n",
    "[]\n",
    "```"
   ]
  },
  {
   "cell_type": "code",
   "execution_count": 43,
   "metadata": {},
   "outputs": [
    {
     "name": "stdout",
     "output_type": "stream",
     "text": [
      "Decomposition(s) of  905 : [[8, 29], [11, 28], [28, 11], [29, 8]]\n",
      "Decomposition(s) of  11 : []\n",
      "Decomposition(s) of  4 : []\n",
      "Decomposition(s) of  18 : [[3, 3]]\n"
     ]
    }
   ],
   "source": [
    "### Question 1.\n",
    "def SumsOfTwoSquares(n):\n",
    "    Decompositions=[]\n",
    "    RootOfn=int(np.sqrt(n))\n",
    "    for i in range(1,RootOfn+1):\n",
    "        for j in range(1,n-i**2):\n",
    "            SumOfSquares=i**2+j**2\n",
    "            if SumOfSquares ==n:\n",
    "                Decompositions.append([i,j])\n",
    "    return Decompositions\n",
    "\n",
    "# Tests\n",
    "for k in [905,11,4,18]:\n",
    "    print('Decomposition(s) of ',k, ':',SumsOfTwoSquares(k))\n",
    "\n",
    "\n"
   ]
  },
  {
   "cell_type": "markdown",
   "metadata": {},
   "source": [
    "<div markdown=1 class=\"DoIt\"> Find the smallest integer $n$ which has strictly more than $7$ decompositions as a sum of two squares."
   ]
  },
  {
   "cell_type": "code",
   "execution_count": 44,
   "metadata": {},
   "outputs": [
    {
     "name": "stdout",
     "output_type": "stream",
     "text": [
      "n = 1105, 8 decompositions of n\n",
      "[[4, 33], [9, 32], [12, 31], [23, 24], [24, 23], [31, 12], [32, 9], [33, 4]]\n"
     ]
    }
   ],
   "source": [
    "n=1\n",
    "CheckBoolean=False\n",
    "while CheckBoolean==False:\n",
    "    n=n+1\n",
    "    k=len(SumsOfTwoSquares(n))\n",
    "    if k>7:\n",
    "        print('n = '+str(n)+', '+str(k)+' decompositions of n')\n",
    "        print(SumsOfTwoSquares(n))\n",
    "        CheckBoolean=True\n",
    "        "
   ]
  },
  {
   "cell_type": "markdown",
   "metadata": {},
   "source": [
    "<div markdown=1 class=\"DoIt\"> \n",
    "\n",
    "1. <b>(Theory)</b> Let $a$ be any integer. Prove that $a^2$ is always equal to $0$ or $1$ modulo $4$. \n",
    "2. <b>(Theory)</b> Deduce that $\\bigg(n\\equiv 3 \\ (\\mathrm{mod}\\ 4)\\bigg)$ $\\Rightarrow$ $\\bigg( n\\text{ is not a sum of two squares }\\bigg)$.<br>\n",
    "3. Is the converse true?"
   ]
  },
  {
   "cell_type": "markdown",
   "metadata": {},
   "source": [
    "<div markdown=1 class=\"Answers\">\n",
    "\n",
    "1. Here are the $4$ possible values for $a\\ (\\mathrm{mod}\\ 4)$, and the corresponding value for $a^2\\ (\\mathrm{mod}\\ 4)$.\n",
    "\n",
    "<table>\n",
    "            <tr>\n",
    "                <td width=\"100\"> $a\\ (\\mathrm{mod}\\ 4)$</td>\n",
    "                <td > $0$</td>\n",
    "                <td> $1$</td>\n",
    "                <td> $2$</td>\n",
    "                <td> $3$</td>\n",
    "            </tr>\n",
    "            <tr>\n",
    "                <td width=\"100\"> $a^2\\ (\\mathrm{mod}\\ 4)$</td>\n",
    "                <td> $0$</td>\n",
    "                <td> $1$</td>\n",
    "                <td> $0$</td>\n",
    "                <td> $1$</td>\n",
    "            </tr>     \n",
    "\n",
    "</table>\n",
    "   \n",
    "Hence $a^2$ is always equal to $0$ or $1$ mod $4$.\n",
    "\n",
    "2. We have that $a^2+b^2 = 0+0$ or $1+0$ or $0+1$ or $1+1$ $\\mathrm{mod}\\ 4$. We have proved \n",
    "$$\n",
    "n \\text{ can be written as }a^2+b^2 \\Rightarrow n \\not\\equiv 3 \\ (\\mathrm{mod}\\ 4)\n",
    "$$\n",
    "which is the contraposite of the claimed assertion.\n",
    "\n",
    "3. The converse is not true: according to the above script, $n=22$ is not the sum of two squares, even if $22\\neq 3[4]$."
   ]
  },
  {
   "cell_type": "markdown",
   "metadata": {},
   "source": [
    "<a id=\"ChangeBasis\"></a>\n",
    "# 3. Bonus: A mysterious function"
   ]
  },
  {
   "cell_type": "markdown",
   "metadata": {},
   "source": [
    "<div markdown=1 class=\"DoIt\"> What does the following function return? Can you prove it?"
   ]
  },
  {
   "cell_type": "code",
   "execution_count": 5,
   "metadata": {},
   "outputs": [
    {
     "data": {
      "text/plain": [
       "[1, 1, 1, 1, 0, 1, 1]"
      ]
     },
     "execution_count": 5,
     "metadata": {},
     "output_type": "execute_result"
    }
   ],
   "source": [
    "def Mystery(MysteriousVariable):\n",
    "    # input: ???\n",
    "    # output: ???\n",
    "    if MysteriousVariable==0:\n",
    "        return []\n",
    "    else:\n",
    "        return Mystery(MysteriousVariable//2) + [MysteriousVariable%2]\n",
    "    "
   ]
  },
  {
   "cell_type": "markdown",
   "metadata": {},
   "source": [
    "<div markdown=1 class=\"Answers\"> \n",
    "By testing a few cases one may conjecture that `Mystery(n)` returns (as a list) the decomposition of $n$ in basis two. To prove so let us write\n",
    "$$\n",
    "n=a_k2^k + a_{k-1}2^{k-1} + \\dots +a_1\\times 2+a_0\n",
    "$$\n",
    "where $a_i\\in \\{0,1\\}$ are the decomposition in basis two. We have that\n",
    "$$\n",
    "\\begin{align*}\n",
    "n=2\\times \\left(\\underbrace{a_k2^{k-1} + a_{k-1}2^{k-2} + \\dots +a_1\\times 1}_{=n//2}\\right)+a_0,\n",
    "\\end{align*}\n",
    "$$\n",
    "where $a//2$ stands for the euclidian division, as in python. Finally the decomposition of $n$ is the concatenation of\n",
    "* The decomposition of $n//2$\n",
    "* $a_0= n\\ \\mathrm{mod} \\ 2$."
   ]
  },
  {
   "cell_type": "markdown",
   "metadata": {},
   "source": [
    "## Change of basis"
   ]
  },
  {
   "cell_type": "markdown",
   "metadata": {},
   "source": [
    "<div markdown=1 class=\"DoIt\"> Write a function `ChangeBasis(a,b,n_InBasis_a)` which takes as inputs:\n",
    "\n",
    "* Two basis $a,b$ (integers $\\geq 2$)\n",
    "* A list which gives the decomposition of some integer $n$ in basis $a$\n",
    "\n",
    "and which returns the decomposition of $n$ in basis $b$.\n",
    "\n",
    "For example\n",
    "```python\n",
    "ChangeBasis(5,2,[4,1])\n",
    "[1, 0, 1, 0, 1]\n",
    "```\n",
    "(Since $[4,1]$ in basis $5$ is $21$ <i>i.e.</i> $[1, 0, 1, 0, 1]$.)"
   ]
  },
  {
   "cell_type": "code",
   "execution_count": 12,
   "metadata": {},
   "outputs": [
    {
     "data": {
      "text/plain": [
       "[1, 0, 1, 0, 1]"
      ]
     },
     "execution_count": 12,
     "metadata": {},
     "output_type": "execute_result"
    }
   ],
   "source": [
    "def BasisToTen(n_InBasis_b,b):\n",
    "    # input: b: basis\n",
    "    #    n_InBasis_b: decomposition of some integer n in basis b\n",
    "    # output: integer n\n",
    "    if n_InBasis_b == []:\n",
    "        return 0\n",
    "    else:\n",
    "        return n_InBasis_b[-1] + b*BasisToTen(n_InBasis_b[0:-1],b)\n",
    "\n",
    "def TenToBasis(n,b):\n",
    "    # input: integer n, basis b\n",
    "    # output: n in basis b\n",
    "    if n==0:\n",
    "        return []\n",
    "    else:\n",
    "        return TenToBasis(n//b,b) + [n%b]\n",
    "    \n",
    "def ChangeBasis(a,b,n_InBasis_a):\n",
    "    # inputs: basis a,b, integer n in basis a (as a list)\n",
    "    # output: n in basis b (as a list)\n",
    "    n= BasisToTen(n_InBasis_a,a)\n",
    "    return TenToBasis(n,b)\n",
    "\n",
    "ChangeBasis(5,2,[4,1])\n"
   ]
  }
 ],
 "metadata": {
  "kernelspec": {
   "display_name": "Python 3 (ipykernel)",
   "language": "python",
   "name": "python3"
  },
  "language_info": {
   "codemirror_mode": {
    "name": "ipython",
    "version": 3
   },
   "file_extension": ".py",
   "mimetype": "text/x-python",
   "name": "python",
   "nbconvert_exporter": "python",
   "pygments_lexer": "ipython3",
   "version": "3.9.7"
  }
 },
 "nbformat": 4,
 "nbformat_minor": 4
}
